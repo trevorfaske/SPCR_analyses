{
 "cells": [
  {
   "cell_type": "markdown",
   "metadata": {},
   "source": [
    "# DO NOT RERUN or change yet. still working on this. \n",
    "\n",
    "# Entropy from ancestry coefficients (q) and genotype probabilities (gprob)  \n",
    "\n",
    "Does everything to run entropy and creates slurm files to submit\n",
    "\n",
    "Goal is 4 chains k=2-X (you decide)\n",
    "\n",
    "**Create conda env just for entropy**  \n",
    "`conda create -n entropy`  \n",
    "`conda activate entropy`  \n",
    "`conda install popgen-entropy`  "
   ]
  },
  {
   "cell_type": "code",
   "execution_count": 5,
   "metadata": {
    "ExecuteTime": {}
   },
   "outputs": [],
   "source": [
    "import sys\n",
    "import ipyparallel as ipp\n",
    "import os\n",
    "from os import environ\n",
    "import gzip\n",
    "import warnings\n",
    "import pandas as pd\n",
    "import numpy as np\n",
    "import scipy as sp\n",
    "import glob\n",
    "import re\n",
    "import random"
   ]
  },
  {
   "cell_type": "code",
   "execution_count": 6,
   "metadata": {},
   "outputs": [],
   "source": [
    "root = \"/data/gpfs/assoc/denovo/tfaske/rabbit/full/REDO/\""
   ]
  },
  {
   "cell_type": "code",
   "execution_count": 7,
   "metadata": {},
   "outputs": [
    {
     "name": "stdout",
     "output_type": "stream",
     "text": [
      "/data/gpfs/assoc/denovo/tfaske/rabbit/full/REDO\n"
     ]
    }
   ],
   "source": [
    "cd $root"
   ]
  },
  {
   "cell_type": "markdown",
   "metadata": {},
   "source": [
    "### Create mgpl & pntest files with associated dir "
   ]
  },
  {
   "cell_type": "code",
   "execution_count": 8,
   "metadata": {},
   "outputs": [
    {
     "name": "stdout",
     "output_type": "stream",
     "text": [
      "mkdir: cannot create directory ‘entropy’: File exists\r\n"
     ]
    }
   ],
   "source": [
    "!mkdir entropy"
   ]
  },
  {
   "cell_type": "code",
   "execution_count": 9,
   "metadata": {},
   "outputs": [],
   "source": [
    "ent_dir =os.path.join(root,'entropy')\n",
    "assert ent_dir"
   ]
  },
  {
   "cell_type": "code",
   "execution_count": 10,
   "metadata": {},
   "outputs": [
    {
     "name": "stdout",
     "output_type": "stream",
     "text": [
      "/data/gpfs/assoc/denovo/tfaske/rabbit/full/REDO/entropy\n"
     ]
    }
   ],
   "source": [
    "cd $ent_dir"
   ]
  },
  {
   "cell_type": "markdown",
   "metadata": {},
   "source": [
    "#### copy good_snps.recode.vcf.gz from filtering"
   ]
  },
  {
   "cell_type": "code",
   "execution_count": 11,
   "metadata": {},
   "outputs": [],
   "source": [
    "!cp ../SNPcall/filtering/good_snps.recode.vcf.gz ."
   ]
  },
  {
   "cell_type": "code",
   "execution_count": 12,
   "metadata": {},
   "outputs": [],
   "source": [
    "!gunzip 'good_snps.recode.vcf.gz'"
   ]
  },
  {
   "cell_type": "code",
   "execution_count": 13,
   "metadata": {},
   "outputs": [
    {
     "data": {
      "text/plain": [
       "'good_snps.recode.vcf'"
      ]
     },
     "execution_count": 13,
     "metadata": {},
     "output_type": "execute_result"
    }
   ],
   "source": [
    "vcf = 'good_snps.recode.vcf'\n",
    "vcf"
   ]
  },
  {
   "cell_type": "code",
   "execution_count": 14,
   "metadata": {},
   "outputs": [],
   "source": [
    "perl_mpgl = '/data/gpfs/assoc/denovo/src/perl_scripts/vcf2mpgl_universal.pl'\n",
    "perl_mean = '/data/gpfs/assoc/denovo/src/perl_scripts/gl2genest_universal.pl'"
   ]
  },
  {
   "cell_type": "code",
   "execution_count": 15,
   "metadata": {},
   "outputs": [
    {
     "name": "stdout",
     "output_type": "stream",
     "text": [
      "Number of loci: 22917; number of individuals 586\r\n"
     ]
    }
   ],
   "source": [
    "!perl $perl_mpgl $vcf"
   ]
  },
  {
   "cell_type": "code",
   "execution_count": 16,
   "metadata": {},
   "outputs": [],
   "source": [
    "mpgl = 'good_snps.recode.mpgl'"
   ]
  },
  {
   "cell_type": "code",
   "execution_count": 17,
   "metadata": {},
   "outputs": [],
   "source": [
    "!perl $perl_mean $mpgl mean"
   ]
  },
  {
   "cell_type": "markdown",
   "metadata": {},
   "source": [
    "### Create ldak files in R"
   ]
  },
  {
   "cell_type": "code",
   "execution_count": 18,
   "metadata": {},
   "outputs": [],
   "source": [
    "%load_ext rpy2.ipython"
   ]
  },
  {
   "cell_type": "code",
   "execution_count": 25,
   "metadata": {},
   "outputs": [
    {
     "name": "stderr",
     "output_type": "stream",
     "text": [
      "R[write to console]: Loading required package: LEA\n",
      "\n"
     ]
    }
   ],
   "source": [
    "%%R\n",
    "require(readr)\n",
    "require(MASS)\n",
    "require(LEA)\n",
    "require(ggplot2)\n",
    "#library(ggsci)\n",
    "\n",
    "source('/data/gpfs/assoc/denovo/src/R/Imports.R')\n",
    "\n",
    "setwd('/data/gpfs/assoc/denovo/tfaske/rabbit/full/REDO/entropy')"
   ]
  },
  {
   "cell_type": "code",
   "execution_count": 20,
   "metadata": {},
   "outputs": [
    {
     "name": "stdout",
     "output_type": "stream",
     "text": [
      "  Pop ID      All\n",
      "1  AH 10 EN_AH_10\n",
      "2  AH 11 EN_AH_11\n",
      "3  AH 12 EN_AH_12\n",
      "4  AH 13 EN_AH_13\n",
      "5  AH 14 EN_AH_14\n",
      "6  AH 15 EN_AH_15\n",
      "[1] 75\n"
     ]
    }
   ],
   "source": [
    "%%R\n",
    "#create Pop_ID file \n",
    "\n",
    "indv<-read.table(\"../SNPcall/filtering/good_snps.recode.vcf.gz.012.indv\",sep=\"\\t\")\n",
    "\n",
    "Pop_ID <- data.frame(Pop=rep(NA,times=nrow(indv)),\n",
    "                     ID=NA,\n",
    "                     All=NA)\n",
    "for (i in 1:nrow(indv)){\n",
    "    name_list <-unlist(strsplit(as.character(indv$V1[i]),\"_\"))\n",
    "    Pop_ID$Pop[i] <- name_list[2]\n",
    "    Pop_ID$ID[i] <- name_list[3]\n",
    "    Pop_ID$All[i] <- as.character(indv$V1[i])\n",
    "}\n",
    "print(head(Pop_ID))\n",
    "print(length(unique(Pop_ID$Pop)))\n",
    "write.csv(Pop_ID,'Pop_ID.csv',row.names=F)"
   ]
  },
  {
   "cell_type": "code",
   "execution_count": 21,
   "metadata": {},
   "outputs": [
    {
     "name": "stdout",
     "output_type": "stream",
     "text": [
      "[1] 22917   586\n"
     ]
    }
   ],
   "source": [
    "%%R\n",
    "g <- read.table(\"pntest_mean_good_snps.recode.txt\", header=F)\n",
    "dim(g)"
   ]
  },
  {
   "cell_type": "code",
   "execution_count": 22,
   "metadata": {},
   "outputs": [
    {
     "name": "stdout",
     "output_type": "stream",
     "text": [
      "    PC1     PC2     PC3     PC4     PC5 \n",
      "0.06179 0.04103 0.02717 0.02207 0.01579 \n"
     ]
    }
   ],
   "source": [
    "%%R\n",
    "Pop_ID <- read.csv(\"Pop_ID.csv\")\n",
    "pca_df <- PCA_entropy(t(g))"
   ]
  },
  {
   "cell_type": "code",
   "execution_count": 27,
   "metadata": {},
   "outputs": [
    {
     "data": {
      "image/png": "[encoded data removed]"
     },
     "metadata": {},
     "output_type": "display_data"
    }
   ],
   "source": [
    "%%R\n",
    "\n",
    "### check pntest_mean PCA looks okay\n",
    "pca_df <- cbind(pca_df[,1:10],Pop_ID)\n",
    "\n",
    "\n",
    "#colors gotten from using hard (force vector) setting: http://medialab.github.io/iwanthue/\n",
    "\n",
    "ggplot(data = pca_df, aes(x=PC1,y=PC2,fill=as.character(Pop))) +\n",
    "  geom_point(pch=21,colour='black',size = 4) + \n",
    "  xlab(paste(\"PC\",1,\" (\",0.06179*100,\"%)\",sep=\"\")) + \n",
    "  ylab(paste(\"PC\",2,\" (\",0.04103*100,\"%)\",sep=\"\")) +\n",
    "  #scale_fill_npg() +\n",
    "  theme_bw() + \n",
    "  theme(#legend.position = 'none',\n",
    "        axis.text = element_text(size=13),\n",
    "        axis.title = element_text(size = 16, colour=\"black\",\n",
    "                                  face = \"bold\",vjust = 1),\n",
    "        panel.border = element_rect(size = 1.5, colour = \"black\"),\n",
    "        legend.text = element_text(size = 11),\n",
    "        legend.title = element_text(size = 13, face = \"bold\"),\n",
    "        panel.grid.major = element_blank(),\n",
    "        panel.grid.minor = element_blank())"
   ]
  },
  {
   "cell_type": "code",
   "execution_count": 28,
   "metadata": {},
   "outputs": [],
   "source": [
    "%%R\n",
    "#######################################################################################\n",
    "                                    #### LDA ####\n",
    "#######################################################################################\n",
    "\n",
    "k2<-kmeans(pca_df[,1:5],2,iter.max=10,nstart=10,algorithm=\"Hartigan-Wong\")\n",
    "k3<-kmeans(pca_df[,1:5],3,iter.max=10,nstart=10,algorithm=\"Hartigan-Wong\")\n",
    "k4<-kmeans(pca_df[,1:5],4,iter.max=10,nstart=10,algorithm=\"Hartigan-Wong\")\n",
    "k5<-kmeans(pca_df[,1:5],5,iter.max=10,nstart=10,algorithm=\"Hartigan-Wong\")\n",
    "k6<-kmeans(pca_df[,1:5],6,iter.max=10,nstart=10,algorithm=\"Hartigan-Wong\")\n",
    "k7<-kmeans(pca_df[,1:5],7,iter.max=10,nstart=10,algorithm=\"Hartigan-Wong\")\n",
    "k8<-kmeans(pca_df[,1:5],8,iter.max=10,nstart=10,algorithm=\"Hartigan-Wong\")\n",
    "k9<-kmeans(pca_df[,1:5],9,iter.max=10,nstart=10,algorithm=\"Hartigan-Wong\")\n",
    "k10<-kmeans(pca_df[,1:5],10,iter.max=10,nstart=10,algorithm=\"Hartigan-Wong\")\n",
    "k11<-kmeans(pca_df[,1:5],11,iter.max=10,nstart=10,algorithm=\"Hartigan-Wong\")\n",
    "\n",
    "ldak2<-lda(x=pca_df[,1:5],grouping=k2$cluster,CV=TRUE)\n",
    "ldak3<-lda(x=pca_df[,1:5],grouping=k3$cluster,CV=TRUE)\n",
    "ldak4<-lda(x=pca_df[,1:5],grouping=k4$cluster,CV=TRUE)\n",
    "ldak5<-lda(x=pca_df[,1:5],grouping=k5$cluster,CV=TRUE)\n",
    "ldak6<-lda(x=pca_df[,1:5],grouping=k6$cluster,CV=TRUE)\n",
    "ldak7<-lda(x=pca_df[,1:5],grouping=k7$cluster,CV=TRUE)\n",
    "ldak8<-lda(x=pca_df[,1:5],grouping=k8$cluster,CV=TRUE)\n",
    "ldak9<-lda(x=pca_df[,1:5],grouping=k9$cluster,CV=TRUE)\n",
    "ldak10<-lda(x=pca_df[,1:5],grouping=k10$cluster,CV=TRUE)\n",
    "ldak11<-lda(x=pca_df[,1:5],grouping=k11$cluster,CV=TRUE)\n",
    "\n",
    "write.table(round(ldak2$posterior,5),file=\"ldak2.txt\",quote=F,row.names=F,col.names=F)\n",
    "write.table(round(ldak3$posterior,5),file=\"ldak3.txt\",quote=F,row.names=F,col.names=F)\n",
    "write.table(round(ldak4$posterior,5),file=\"ldak4.txt\",quote=F,row.names=F,col.names=F)\n",
    "write.table(round(ldak5$posterior,5),file=\"ldak5.txt\",quote=F,row.names=F,col.names=F)\n",
    "write.table(round(ldak6$posterior,5),file=\"ldak6.txt\",quote=F,row.names=F,col.names=F)                                      \n",
    "write.table(round(ldak7$posterior,5),file=\"ldak7.txt\",quote=F,row.names=F,col.names=F)\n",
    "write.table(round(ldak8$posterior,5),file=\"ldak8.txt\",quote=F,row.names=F,col.names=F)\n",
    "write.table(round(ldak9$posterior,5),file=\"ldak9.txt\",quote=F,row.names=F,col.names=F)\n",
    "write.table(round(ldak10$posterior,5),file=\"ldak10.txt\",quote=F,row.names=F,col.names=F)\n",
    "write.table(round(ldak11$posterior,5),file=\"ldak11.txt\",quote=F,row.names=F,col.names=F)\n"
   ]
  },
  {
   "cell_type": "code",
   "execution_count": 29,
   "metadata": {},
   "outputs": [],
   "source": [
    "%%R\n",
    "######### create entropy header ####\n",
    "\n",
    "Pop_ID_list <- paste(Pop_ID$Pop,Pop_ID$ID,sep='_')\n",
    "\n",
    "Header <- data.frame(dims = NA,Pop_ID_list)\n",
    "\n",
    "dim(g)\n",
    "\n",
    "df <- t(Header)\n",
    "dims <- paste(dim(g)[2],dim(g)[1],sep = \" \")\n",
    "\n",
    "df[1,1] <- dims\n",
    "\n",
    "write.table(df,'entropy_header.txt',sep = \" \",na =\"\",\n",
    "            quote = FALSE,row.names = FALSE,col.names = FALSE)"
   ]
  },
  {
   "cell_type": "code",
   "execution_count": 30,
   "metadata": {},
   "outputs": [
    {
     "name": "stdout",
     "output_type": "stream",
     "text": [
      "586 22917                                                                                                                                                                                                                                                                                                                                                                                                                                                                                                                                                                                                         \r\n",
      "AH_10 AH_11 AH_12 AH_13 AH_14 AH_15 AH_1 AH_2 AH_3 AH_4 AH_5 AH_6 AH_7 AH_8 AH_9 AR_2 AR_3 AR_4 AR_5 AR_6 AS_16 AS_17 AS_18 AS_19 AS_20 AS_21 AS_22 AS_23 AS_24 AS_25 AS_26 AS_27 AS_28 AS_29 AS_30 BC_10 BC_11 BC_12 BC_13 BC_1 BC_2 BC_3 BC_4 BC_5 BC_6 BC_7 BC_8 BC_9 BH_1 BH_2 BH_3 BH_4 BH_5 BH_6 BL_1 BL_2 BL_3 BL_4 BL_5 BL_6 BM_16 BM_18 BM_19 BM_20 BM_21 BM_22 BM_23 BM_24 BM_25 BM_26 BM_27 BM_28 BM_29 BM_30 BO_1 BO_2 BO_3 BO_4 BO_5 BO_6 BT_1 BT_2 BT_3 BT_4 BT_5 BT_6 BV_16 BV_17 BV_18 BV_19 BV_20 BV_21 BV_22 BV_23 BV_24 BV_25 BV_26 BV_27 BV_28 BV_29 BV_30 CC_1 CC_2 CC_4 CH_1 CH_2 CH_3 CH_4 CH_5 CH_6 CH_7 CI_1 CI_2 CI_3 CI_4 CI_5 CL_1 CL_2 CL_3 CL_4 CL_5 CL_6 CN_1 CN_2 CN_4 CN_5 CN_6 CO_1 CO_2 CO_3 CO_4 CO_5 CS_1 CS_2 CS_3 CS_4 CS_5 CS_6 CT_1 CT_2 CT_3 CT_4 CT_5 CT_6 CV_1 CV_2 CV_3 CV_4 CV_5 CV_6 DC_10 DC_11 DC_12 DC_13 DC_14 DC_15 DC_1 DC_2 DC_3 DC_4 DC_5 DC_6 DC_7 DC_8 DC_9 DH_13 DH_14 DH_15 DH_16 DH_17 DH_18 DH_19 DH_20 DH_21 DH_22 DH_23 DH_24 DH_25 DH_26 DH_28 DM_1 DM_3 DM_4 DM_5 DT_1 DT_2 DT_3 DT_4 DT_5 DT_6 EW_11 EW_12 EW_13 EW_14 EW_15 EW_16 EW_1 EW_2 EW_3 EW_4 EW_5 EW_6 EW_7 EW_8 EW_9 FR_10 FR_11 FR_12 FR_13 FR_14 FR_15 FR_1 FR_2 FR_3 FR_4 FR_5 FR_6 FR_7 FR_8 FR_9 GB_16 GB_17 GB_18 GB_19 GB_20 GB_21 GB_22 GB_23 GB_24 GB_25 GB_26 GB_27 GB_28 GB_29 GB_30 GO_1 GO_2 GO_3 GO_4 GO_5 GO_6 HL_1 HL_2 HL_3 HL_4 HL_5 HO_10 HO_11 HO_12 HO_13 HO_14 HO_15 HO_1 HO_2 HO_3 HO_4 HO_5 HO_6 HO_7 HO_8 HO_9 HW_1 HW_2 HW_3 HW_4 HW_5 IH_1 IH_2 IH_3 IH_4 IH_5 IO_1 IO_2 IO_3 IO_4 IO_5 IT_1 IT_2 IT_3 IT_4 IT_5 JC_10 JC_11 JC_12 JC_13 JC_14 JC_15 JC_1 JC_2 JC_3 JC_4 JC_5 JC_6 JC_7 JC_8 JC_9 JO_2 JO_3 JO_4 JO_5 JO_6 JT_1 JT_2 JT_3 JT_4 JT_5 JT_6 LA_1 LA_2 LA_3 LA_4 LA_5 LA_6 LO_1 LO_2 LO_3 LO_4 LO_5 LR_1 LR_2 LR_3 LR_4 LR_5 LR_6 LR_7 LT_4 LT_5 LT_6 LV_16 LV_17 LV_18 LV_19 LV_20 LV_21 LV_22 LV_23 LV_24 LV_25 LV_26 LV_27 LV_28 LV_29 LV_30 MC_1 MC_2 MC_3 MC_4 MC_5 MC_6 MC_7 MD_10 MD_11 MD_12 MD_13 MD_14 MD_15 MD_1 MD_2 MD_3 MD_4 MD_5 MD_6 MD_7 MD_8 MD_9 MR_3 MR_5 NH_2 NH_3 NH_4 NH_5 NH_6 NI_1 NI_2 NI_3 NI_4 NI_5 NI_6 NN_1 NN_2 NN_3 NN_4 NN_5 NN_6 NN_7 NN_8 NO_1 NO_2 NO_3 NO_4 NO_5 NT_1 NT_2 NT_3 NT_4 NT_5 NV_1 NV_2 NV_3 NV_4 NV_5 NV_6 OO_1 OO_2 OO_3 OO_4 OO_5 OO_6 OT_1 OT_2 OT_3 OT_4 PB_1 PB_2 PB_3 PB_4 PB_5 PB_6 PL_16 PL_17 PL_18 PL_1 PL_20 PL_21 PL_22 PL_23 PL_24 PL_25 PL_26 PL_27 PL_3 PL_5 PT_10 PT_12 PT_13 PT_14 PT_15 PT_1 PT_2 PT_3 PT_4 PT_5 PT_6 PT_7 PT_8 PT_9 PW_13 PW_14 PW_15 PW_1 PW_2 PW_3 PW_4 PW_5 PW_7 PW_8 PW_9 RH_1 RH_2 RH_3 RH_4 RH_5 RH_6 RH_7 RL_1 RL_2 RL_3 RL_4 RL_5 RL_6 RO_1 RO_2 RO_3 RO_4 RO_5 RO_6 RS_1 RS_2 RS_4 RS_5 RS_6 RS_7 RT_1 RT_2 SC_10 SC_11 SC_12 SC_13 SC_14 SC_15 SC_1 SC_2 SC_3 SC_4 SC_5 SC_6 SC_7 SC_9 SH_1 SH_2 SH_3 SH_4 SH_5 SJ_10 SJ_11 SJ_12 SJ_1 SJ_2 SJ_3 SJ_4 SJ_5 SJ_6 SJ_7 SJ_8 SJ_9 SL_2 SL_3 SL_4 SL_5 SL_6 SS_10 SS_11 SS_12 SS_13 SS_14 SS_15 SS_2 SS_3 SS_4 SS_5 SS_6 SS_7 SS_8 SS_9 TO_1 TO_2 TO_3 TO_4 TO_5 TO_6 TU_1 TU_2 TU_3 TU_4 TU_5 TU_6 TU_7 UN_1 UN_2 UO_1 UO_3 UO_4 UO_5 UT_1 UT_2 UT_3 UT_4 UT_5 VI_1 VI_2 VI_3 VI_4 VI_5 VM_10 VM_11 VM_12 VM_13 VM_14 VM_15 VM_1 VM_2 VM_3 VM_4 VM_5 VM_6 VM_7 VM_8 VM_9 WA_1 WA_3 WA_6 YL_1 YL_3 YL_4 YL_5 YL_6\r\n"
     ]
    }
   ],
   "source": [
    "!head entropy_header.txt"
   ]
  },
  {
   "cell_type": "code",
   "execution_count": 31,
   "metadata": {},
   "outputs": [],
   "source": [
    "!cat entropy_header.txt good_snps.recode.mpgl > entropy.mpgl"
   ]
  },
  {
   "cell_type": "code",
   "execution_count": 32,
   "metadata": {},
   "outputs": [
    {
     "name": "stdout",
     "output_type": "stream",
     "text": [
      "/data/gpfs/assoc/denovo/tfaske/rabbit/full/REDO/entropy\n"
     ]
    }
   ],
   "source": [
    "cd $ent_dir"
   ]
  },
  {
   "cell_type": "code",
   "execution_count": 33,
   "metadata": {},
   "outputs": [],
   "source": [
    "!mkdir shdir"
   ]
  },
  {
   "cell_type": "code",
   "execution_count": 34,
   "metadata": {},
   "outputs": [],
   "source": [
    "### select slurm options\n",
    "account = 'cpu-s5-denovo-0'\n",
    "partition = 'cpu-core-0'\n",
    "time = '14-00:00:00' #time limit 4\n",
    "cpus = 4 #to prevent hammering one node\n",
    "mem_cpu = 8000\n",
    "email = 'tfaske@nevada.unr.edu'\n",
    "\n",
    "#entropy settings\n",
    "l = 60000\n",
    "b = 10000\n",
    "num_k = [2,3,4,5,6,7,8,9]\n",
    "chains = 4"
   ]
  },
  {
   "cell_type": "markdown",
   "metadata": {},
   "source": [
    "**Note:** Random seed needs to be created for each chain. Most programs use the clock as the seed, which is typically fine but since the clock on the HPC only goes to minutes and we are running everything at the same time, all the seeds are the same. Giving you the same exact seed. "
   ]
  },
  {
   "cell_type": "code",
   "execution_count": 35,
   "metadata": {},
   "outputs": [],
   "source": [
    "def write_entropy_sh(account,partition,time,cpus,mem_cpu,email,l,b,num_k,chains):\n",
    "    for k in num_k:\n",
    "        for c in range(1,chains+1):\n",
    "            jobname = 'k%d_c%d' % (k,c)\n",
    "            seed = random.randint(1000,9999) #default is clock so messes up if submitted same time \n",
    "            with open(\"shdir/run_entropy_%s.sh\" % (jobname), \"w\") as o:\n",
    "                o.write(\"\"\"#!/usr/bin/env bash\n",
    "#SBATCH --account=%s\n",
    "#SBATCH --partition=%s\n",
    "#SBATCH --time=%s\n",
    "#SBATCH --ntasks 1\n",
    "#SBATCH --cpus-per-task %d\n",
    "#SBATCH --mem-per-cpu=%d\n",
    "#SBATCH --job-name ent_%s\n",
    "#SBATCH --output output_%s.txt\n",
    "#SBATCH --mail-type=END\n",
    "#SBATCH --mail-user=%s\\n\\n\"\"\" % (account,partition,time,cpus,mem_cpu,jobname,jobname,email))\n",
    "        \n",
    "                o.write(\"entropy -i ../entropy.mpgl -o ../entropy_%s.hdf5 -r %d -n 2 -l %d -b %d -t 10 -s 50 -e .01 -k %d -q ../ldak%d.txt -m 1 -w 0\"\n",
    "                        % (jobname,seed,l,b,k,k))\n",
    "    "
   ]
  },
  {
   "cell_type": "code",
   "execution_count": 36,
   "metadata": {},
   "outputs": [],
   "source": [
    "write_entropy_sh(account,partition,time,cpus,mem_cpu,email,l,b,num_k,chains)"
   ]
  },
  {
   "cell_type": "code",
   "execution_count": 37,
   "metadata": {},
   "outputs": [
    {
     "data": {
      "text/plain": [
       "['/data/gpfs/assoc/denovo/tfaske/rabbit/full/REDO/entropy/shdir/run_entropy_k2_c1.sh',\n",
       " '/data/gpfs/assoc/denovo/tfaske/rabbit/full/REDO/entropy/shdir/run_entropy_k2_c2.sh',\n",
       " '/data/gpfs/assoc/denovo/tfaske/rabbit/full/REDO/entropy/shdir/run_entropy_k2_c3.sh',\n",
       " '/data/gpfs/assoc/denovo/tfaske/rabbit/full/REDO/entropy/shdir/run_entropy_k2_c4.sh',\n",
       " '/data/gpfs/assoc/denovo/tfaske/rabbit/full/REDO/entropy/shdir/run_entropy_k3_c1.sh',\n",
       " '/data/gpfs/assoc/denovo/tfaske/rabbit/full/REDO/entropy/shdir/run_entropy_k3_c2.sh',\n",
       " '/data/gpfs/assoc/denovo/tfaske/rabbit/full/REDO/entropy/shdir/run_entropy_k3_c3.sh',\n",
       " '/data/gpfs/assoc/denovo/tfaske/rabbit/full/REDO/entropy/shdir/run_entropy_k3_c4.sh',\n",
       " '/data/gpfs/assoc/denovo/tfaske/rabbit/full/REDO/entropy/shdir/run_entropy_k4_c1.sh',\n",
       " '/data/gpfs/assoc/denovo/tfaske/rabbit/full/REDO/entropy/shdir/run_entropy_k4_c2.sh',\n",
       " '/data/gpfs/assoc/denovo/tfaske/rabbit/full/REDO/entropy/shdir/run_entropy_k4_c3.sh',\n",
       " '/data/gpfs/assoc/denovo/tfaske/rabbit/full/REDO/entropy/shdir/run_entropy_k4_c4.sh',\n",
       " '/data/gpfs/assoc/denovo/tfaske/rabbit/full/REDO/entropy/shdir/run_entropy_k5_c1.sh',\n",
       " '/data/gpfs/assoc/denovo/tfaske/rabbit/full/REDO/entropy/shdir/run_entropy_k5_c2.sh',\n",
       " '/data/gpfs/assoc/denovo/tfaske/rabbit/full/REDO/entropy/shdir/run_entropy_k5_c3.sh',\n",
       " '/data/gpfs/assoc/denovo/tfaske/rabbit/full/REDO/entropy/shdir/run_entropy_k5_c4.sh',\n",
       " '/data/gpfs/assoc/denovo/tfaske/rabbit/full/REDO/entropy/shdir/run_entropy_k6_c1.sh',\n",
       " '/data/gpfs/assoc/denovo/tfaske/rabbit/full/REDO/entropy/shdir/run_entropy_k6_c2.sh',\n",
       " '/data/gpfs/assoc/denovo/tfaske/rabbit/full/REDO/entropy/shdir/run_entropy_k6_c3.sh',\n",
       " '/data/gpfs/assoc/denovo/tfaske/rabbit/full/REDO/entropy/shdir/run_entropy_k6_c4.sh',\n",
       " '/data/gpfs/assoc/denovo/tfaske/rabbit/full/REDO/entropy/shdir/run_entropy_k7_c1.sh',\n",
       " '/data/gpfs/assoc/denovo/tfaske/rabbit/full/REDO/entropy/shdir/run_entropy_k7_c2.sh',\n",
       " '/data/gpfs/assoc/denovo/tfaske/rabbit/full/REDO/entropy/shdir/run_entropy_k7_c3.sh',\n",
       " '/data/gpfs/assoc/denovo/tfaske/rabbit/full/REDO/entropy/shdir/run_entropy_k7_c4.sh',\n",
       " '/data/gpfs/assoc/denovo/tfaske/rabbit/full/REDO/entropy/shdir/run_entropy_k8_c1.sh',\n",
       " '/data/gpfs/assoc/denovo/tfaske/rabbit/full/REDO/entropy/shdir/run_entropy_k8_c2.sh',\n",
       " '/data/gpfs/assoc/denovo/tfaske/rabbit/full/REDO/entropy/shdir/run_entropy_k8_c3.sh',\n",
       " '/data/gpfs/assoc/denovo/tfaske/rabbit/full/REDO/entropy/shdir/run_entropy_k8_c4.sh',\n",
       " '/data/gpfs/assoc/denovo/tfaske/rabbit/full/REDO/entropy/shdir/run_entropy_k9_c1.sh',\n",
       " '/data/gpfs/assoc/denovo/tfaske/rabbit/full/REDO/entropy/shdir/run_entropy_k9_c2.sh',\n",
       " '/data/gpfs/assoc/denovo/tfaske/rabbit/full/REDO/entropy/shdir/run_entropy_k9_c3.sh',\n",
       " '/data/gpfs/assoc/denovo/tfaske/rabbit/full/REDO/entropy/shdir/run_entropy_k9_c4.sh']"
      ]
     },
     "execution_count": 37,
     "metadata": {},
     "output_type": "execute_result"
    }
   ],
   "source": [
    "entShells = !find $ent_dir -name 'run_entropy*.sh'\n",
    "entShells = entShells.sort()\n",
    "entShells"
   ]
  },
  {
   "cell_type": "code",
   "execution_count": 38,
   "metadata": {},
   "outputs": [],
   "source": [
    "def write_sbatch_entShells(entShells):\n",
    "         with open(\"shdir/sbatch_entropy.sh\", \"w\") as o:\n",
    "            o.write(\"\"\"#!/usr/bin/env bash \\n\"\"\")\n",
    "            for sh in entShells:\n",
    "                o.write(\"\"\"sbatch %s\\n\"\"\" % (sh))"
   ]
  },
  {
   "cell_type": "code",
   "execution_count": 39,
   "metadata": {},
   "outputs": [],
   "source": [
    "write_sbatch_entShells(entShells)"
   ]
  },
  {
   "cell_type": "markdown",
   "metadata": {},
   "source": [
    "# Run all entropy*sh\n",
    "    cd /data/gpfs/assoc/denovo/tfaske/rabbit/full/REDO/entropy/shdir\n",
    "    source activate entropy\n",
    "    bash sbatch_entropy.sh"
   ]
  },
  {
   "cell_type": "markdown",
   "metadata": {},
   "source": [
    "# Use estpost to get DIC, q, and gprob"
   ]
  },
  {
   "cell_type": "code",
   "execution_count": 41,
   "metadata": {},
   "outputs": [],
   "source": [
    "np.set_printoptions(precision=8) # increases float print option\n",
    "#pd.set_option(\"precision\", 8)"
   ]
  },
  {
   "cell_type": "code",
   "execution_count": 66,
   "metadata": {},
   "outputs": [
    {
     "name": "stdout",
     "output_type": "stream",
     "text": [
      "/data/gpfs/assoc/denovo/tfaske/rabbit/full/REDO/entropy\n"
     ]
    }
   ],
   "source": [
    "cd $ent_dir"
   ]
  },
  {
   "cell_type": "code",
   "execution_count": 67,
   "metadata": {},
   "outputs": [
    {
     "data": {
      "text/plain": [
       "['./entropy_k2_c1.hdf5',\n",
       " './entropy_k2_c2.hdf5',\n",
       " './entropy_k2_c3.hdf5',\n",
       " './entropy_k2_c4.hdf5',\n",
       " './entropy_k3_c1.hdf5',\n",
       " './entropy_k3_c2.hdf5',\n",
       " './entropy_k3_c3.hdf5',\n",
       " './entropy_k3_c4.hdf5',\n",
       " './entropy_k4_c1.hdf5',\n",
       " './entropy_k4_c2.hdf5',\n",
       " './entropy_k4_c3.hdf5',\n",
       " './entropy_k4_c4.hdf5',\n",
       " './entropy_k5_c1.hdf5',\n",
       " './entropy_k5_c2.hdf5',\n",
       " './entropy_k5_c3.hdf5',\n",
       " './entropy_k5_c4.hdf5',\n",
       " './entropy_k6_c1.hdf5',\n",
       " './entropy_k6_c2.hdf5',\n",
       " './entropy_k6_c3.hdf5',\n",
       " './entropy_k6_c4.hdf5',\n",
       " './entropy_k7_c1.hdf5',\n",
       " './entropy_k7_c2.hdf5',\n",
       " './entropy_k7_c3.hdf5',\n",
       " './entropy_k7_c4.hdf5',\n",
       " './entropy_k8_c1.hdf5',\n",
       " './entropy_k8_c2.hdf5',\n",
       " './entropy_k8_c3.hdf5',\n",
       " './entropy_k8_c4.hdf5',\n",
       " './entropy_k9_c1.hdf5',\n",
       " './entropy_k9_c2.hdf5',\n",
       " './entropy_k9_c3.hdf5',\n",
       " './entropy_k9_c4.hdf5']"
      ]
     },
     "execution_count": 67,
     "metadata": {},
     "output_type": "execute_result"
    }
   ],
   "source": [
    "hdf5_files = !find . -name '*hdf5'\n",
    "hdf5_files = hdf5_files.sort()\n",
    "hdf5_files"
   ]
  },
  {
   "cell_type": "code",
   "execution_count": 68,
   "metadata": {},
   "outputs": [],
   "source": [
    "estpost = '/data/gpfs/home/tfaske/g/anaconda3/envs/entropy/bin/estpost.entropy'"
   ]
  },
  {
   "cell_type": "code",
   "execution_count": 69,
   "metadata": {},
   "outputs": [],
   "source": [
    "#make DIC\n",
    "for i in range(0,len(hdf5_files)):\n",
    "    f = hdf5_files[i]\n",
    "    k = f.split('_')[1] #set this \n",
    "    c = f.split('_')[2].split('.hdf5')[0]\n",
    "    #print(k,c)\n",
    "    dic = \"DIC_%s_%s.txt\" % (k,c)\n",
    "    !$estpost $f -s 3 -p deviance > $dic"
   ]
  },
  {
   "cell_type": "code",
   "execution_count": 70,
   "metadata": {},
   "outputs": [
    {
     "data": {
      "text/plain": [
       "['./DIC_k2_c4.txt',\n",
       " './DIC_k7_c2.txt',\n",
       " './DIC_k2_c1.txt',\n",
       " './DIC_k6_c1.txt',\n",
       " './DIC_k3_c2.txt',\n",
       " './DIC_k4_c4.txt',\n",
       " './DIC_k4_c2.txt',\n",
       " './DIC_k7_c1.txt',\n",
       " './DIC_k7_c4.txt',\n",
       " './DIC_k5_c2.txt',\n",
       " './DIC_k6_c2.txt',\n",
       " './DIC_k4_c3.txt',\n",
       " './DIC_k7_c3.txt',\n",
       " './DIC_k3_c1.txt',\n",
       " './DIC_k2_c2.txt',\n",
       " './DIC_k5_c4.txt',\n",
       " './DIC_k8_c4.txt',\n",
       " './DIC_k6_c3.txt',\n",
       " './DIC_k8_c3.txt',\n",
       " './DIC_k8_c1.txt',\n",
       " './DIC_k4_c1.txt',\n",
       " './DIC_k2_c3.txt',\n",
       " './DIC_k8_c2.txt',\n",
       " './DIC_k9_c3.txt',\n",
       " './DIC_k9_c2.txt',\n",
       " './DIC_k6_c4.txt',\n",
       " './DIC_k3_c4.txt',\n",
       " './DIC_k9_c1.txt',\n",
       " './DIC_k5_c1.txt',\n",
       " './DIC_k3_c3.txt',\n",
       " './DIC_k5_c3.txt',\n",
       " './DIC_k9_c4.txt']"
      ]
     },
     "execution_count": 70,
     "metadata": {},
     "output_type": "execute_result"
    }
   ],
   "source": [
    "dic_files = !find . -name 'DIC*'\n",
    "dic_files"
   ]
  },
  {
   "cell_type": "code",
   "execution_count": 71,
   "metadata": {},
   "outputs": [
    {
     "name": "stdout",
     "output_type": "stream",
     "text": [
      "file = ./entropy_k2_c4.hdf5\n",
      "parameter dimensions for deviance: samples = 5000, chains = 1\n",
      "Model deviance: 21147920.75\n",
      "Effective number of parameters: 10087841.07\n",
      "Model DIC: 31235761.82\n",
      "\n",
      "\n",
      "file = ./entropy_k7_c2.hdf5\n",
      "parameter dimensions for deviance: samples = 5000, chains = 1\n",
      "Model deviance: 18628486.61\n",
      "Effective number of parameters: 22611261.39\n",
      "Model DIC: 41239748.01\n",
      "\n",
      "\n",
      "file = ./entropy_k2_c1.hdf5\n",
      "parameter dimensions for deviance: samples = 5000, chains = 1\n",
      "Model deviance: 21147981.81\n",
      "Effective number of parameters: 10258025.55\n",
      "Model DIC: 31406007.37\n",
      "\n",
      "\n",
      "file = ./entropy_k6_c1.hdf5\n",
      "parameter dimensions for deviance: samples = 5000, chains = 1\n",
      "Model deviance: 18833533.44\n",
      "Effective number of parameters: 17686708.26\n",
      "Model DIC: 36520241.70\n",
      "\n",
      "\n",
      "file = ./entropy_k3_c2.hdf5\n",
      "parameter dimensions for deviance: samples = 5000, chains = 1\n",
      "Model deviance: 20067827.80\n",
      "Effective number of parameters: 13406186.27\n",
      "Model DIC: 33474014.06\n",
      "\n",
      "\n",
      "file = ./entropy_k4_c4.hdf5\n",
      "parameter dimensions for deviance: samples = 5000, chains = 1\n",
      "Model deviance: 19454475.35\n",
      "Effective number of parameters: 16213074.94\n",
      "Model DIC: 35667550.29\n",
      "\n",
      "\n",
      "file = ./entropy_k4_c2.hdf5\n",
      "parameter dimensions for deviance: samples = 5000, chains = 1\n",
      "Model deviance: 19455268.88\n",
      "Effective number of parameters: 15581237.69\n",
      "Model DIC: 35036506.57\n",
      "\n",
      "\n",
      "file = ./entropy_k7_c1.hdf5\n",
      "parameter dimensions for deviance: samples = 5000, chains = 1\n",
      "Model deviance: 18627259.67\n",
      "Effective number of parameters: 19234662.08\n",
      "Model DIC: 37861921.75\n",
      "\n",
      "\n",
      "file = ./entropy_k7_c4.hdf5\n",
      "parameter dimensions for deviance: samples = 5000, chains = 1\n",
      "Model deviance: 18626012.59\n",
      "Effective number of parameters: 18416372.40\n",
      "Model DIC: 37042385.00\n",
      "\n",
      "\n",
      "file = ./entropy_k5_c2.hdf5\n",
      "parameter dimensions for deviance: samples = 5000, chains = 1\n",
      "Model deviance: 19100781.55\n",
      "Effective number of parameters: 14417806.51\n",
      "Model DIC: 33518588.06\n",
      "\n",
      "\n",
      "file = ./entropy_k6_c2.hdf5\n",
      "parameter dimensions for deviance: samples = 5000, chains = 1\n",
      "Model deviance: 18831854.83\n",
      "Effective number of parameters: 18663210.13\n",
      "Model DIC: 37495064.95\n",
      "\n",
      "\n",
      "file = ./entropy_k4_c3.hdf5\n",
      "parameter dimensions for deviance: samples = 5000, chains = 1\n",
      "Model deviance: 19454484.28\n",
      "Effective number of parameters: 14826316.64\n",
      "Model DIC: 34280800.92\n",
      "\n",
      "\n",
      "file = ./entropy_k7_c3.hdf5\n",
      "parameter dimensions for deviance: samples = 5000, chains = 1\n",
      "Model deviance: 18627679.41\n",
      "Effective number of parameters: 18149662.11\n",
      "Model DIC: 36777341.52\n",
      "\n",
      "\n",
      "file = ./entropy_k3_c1.hdf5\n",
      "parameter dimensions for deviance: samples = 5000, chains = 1\n",
      "Model deviance: 20067812.80\n",
      "Effective number of parameters: 14467338.89\n",
      "Model DIC: 34535151.69\n",
      "\n",
      "\n",
      "file = ./entropy_k2_c2.hdf5\n",
      "parameter dimensions for deviance: samples = 5000, chains = 1\n",
      "Model deviance: 21148234.43\n",
      "Effective number of parameters: 10677760.99\n",
      "Model DIC: 31825995.42\n",
      "\n",
      "\n",
      "file = ./entropy_k5_c4.hdf5\n",
      "parameter dimensions for deviance: samples = 5000, chains = 1\n",
      "Model deviance: 19100210.09\n",
      "Effective number of parameters: 14961966.64\n",
      "Model DIC: 34062176.74\n",
      "\n",
      "\n",
      "file = ./entropy_k8_c4.hdf5\n",
      "parameter dimensions for deviance: samples = 5000, chains = 1\n",
      "Model deviance: 18517426.31\n",
      "Effective number of parameters: 132138099.80\n",
      "Model DIC: 150655526.11\n",
      "\n",
      "\n",
      "file = ./entropy_k6_c3.hdf5\n",
      "parameter dimensions for deviance: samples = 5000, chains = 1\n",
      "Model deviance: 18832686.59\n",
      "Effective number of parameters: 18740012.42\n",
      "Model DIC: 37572699.02\n",
      "\n",
      "\n",
      "file = ./entropy_k8_c3.hdf5\n",
      "parameter dimensions for deviance: samples = 5000, chains = 1\n",
      "Model deviance: 18518050.47\n",
      "Effective number of parameters: 65099302.16\n",
      "Model DIC: 83617352.63\n",
      "\n",
      "\n",
      "file = ./entropy_k8_c1.hdf5\n",
      "parameter dimensions for deviance: samples = 5000, chains = 1\n",
      "Model deviance: 18514459.46\n",
      "Effective number of parameters: 195485228.91\n",
      "Model DIC: 213999688.38\n",
      "\n",
      "\n",
      "file = ./entropy_k4_c1.hdf5\n",
      "parameter dimensions for deviance: samples = 5000, chains = 1\n",
      "Model deviance: 19454461.82\n",
      "Effective number of parameters: 15901417.46\n",
      "Model DIC: 35355879.28\n",
      "\n",
      "\n",
      "file = ./entropy_k2_c3.hdf5\n",
      "parameter dimensions for deviance: samples = 5000, chains = 1\n",
      "Model deviance: 21148283.03\n",
      "Effective number of parameters: 10457641.73\n",
      "Model DIC: 31605924.75\n",
      "\n",
      "\n",
      "file = ./entropy_k8_c2.hdf5\n",
      "parameter dimensions for deviance: samples = 5000, chains = 1\n",
      "Model deviance: 18511973.97\n",
      "Effective number of parameters: 283317345.84\n",
      "Model DIC: 301829319.80\n",
      "\n",
      "\n",
      "file = ./entropy_k9_c3.hdf5\n",
      "parameter dimensions for deviance: samples = 5000, chains = 1\n",
      "Model deviance: 18230305.47\n",
      "Effective number of parameters: 838009972.84\n",
      "Model DIC: 856240278.30\n",
      "\n",
      "\n",
      "file = ./entropy_k9_c2.hdf5\n",
      "parameter dimensions for deviance: samples = 5000, chains = 1\n",
      "Model deviance: 18259137.92\n",
      "Effective number of parameters: 126996113.71\n",
      "Model DIC: 145255251.63\n",
      "\n",
      "\n",
      "file = ./entropy_k6_c4.hdf5\n",
      "parameter dimensions for deviance: samples = 5000, chains = 1\n",
      "Model deviance: 18831659.28\n",
      "Effective number of parameters: 16827048.48\n",
      "Model DIC: 35658707.76\n",
      "\n",
      "\n",
      "file = ./entropy_k3_c4.hdf5\n",
      "parameter dimensions for deviance: samples = 5000, chains = 1\n",
      "Model deviance: 20067753.88\n",
      "Effective number of parameters: 13078042.90\n",
      "Model DIC: 33145796.79\n",
      "\n",
      "\n",
      "file = ./entropy_k9_c1.hdf5\n",
      "parameter dimensions for deviance: samples = 5000, chains = 1\n",
      "Model deviance: 18248569.57\n",
      "Effective number of parameters: 400158850.50\n",
      "Model DIC: 418407420.07\n",
      "\n",
      "\n",
      "file = ./entropy_k5_c1.hdf5\n",
      "parameter dimensions for deviance: samples = 5000, chains = 1\n",
      "Model deviance: 19100715.56\n",
      "Effective number of parameters: 15365571.47\n",
      "Model DIC: 34466287.03\n",
      "\n",
      "\n",
      "file = ./entropy_k3_c3.hdf5\n",
      "parameter dimensions for deviance: samples = 5000, chains = 1\n",
      "Model deviance: 20067688.57\n",
      "Effective number of parameters: 13188638.20\n",
      "Model DIC: 33256326.77\n",
      "\n",
      "\n",
      "file = ./entropy_k5_c3.hdf5\n",
      "parameter dimensions for deviance: samples = 5000, chains = 1\n",
      "Model deviance: 19101456.40\n",
      "Effective number of parameters: 15084730.65\n",
      "Model DIC: 34186187.05\n",
      "\n",
      "\n",
      "file = ./entropy_k9_c4.hdf5\n",
      "parameter dimensions for deviance: samples = 5000, chains = 1\n",
      "Model deviance: 18243193.20\n",
      "Effective number of parameters: 560804383.00\n",
      "Model DIC: 579047576.20\n",
      "\n",
      "\n"
     ]
    }
   ],
   "source": [
    "for d in dic_files:\n",
    "    !cat $d\n",
    "    print('\\n')"
   ]
  },
  {
   "cell_type": "code",
   "execution_count": 72,
   "metadata": {},
   "outputs": [
    {
     "data": {
      "text/html": [
       "<div>\n",
       "<style scoped>\n",
       "    .dataframe tbody tr th:only-of-type {\n",
       "        vertical-align: middle;\n",
       "    }\n",
       "\n",
       "    .dataframe tbody tr th {\n",
       "        vertical-align: top;\n",
       "    }\n",
       "\n",
       "    .dataframe thead th {\n",
       "        text-align: right;\n",
       "    }\n",
       "</style>\n",
       "<table border=\"1\" class=\"dataframe\">\n",
       "  <thead>\n",
       "    <tr style=\"text-align: right;\">\n",
       "      <th></th>\n",
       "      <th>k</th>\n",
       "      <th>DIC</th>\n",
       "      <th>chain</th>\n",
       "    </tr>\n",
       "  </thead>\n",
       "  <tbody>\n",
       "    <tr>\n",
       "      <th>0</th>\n",
       "      <td>2</td>\n",
       "      <td>31235761.82</td>\n",
       "      <td>4</td>\n",
       "    </tr>\n",
       "    <tr>\n",
       "      <th>1</th>\n",
       "      <td>7</td>\n",
       "      <td>41239748.01</td>\n",
       "      <td>2</td>\n",
       "    </tr>\n",
       "    <tr>\n",
       "      <th>2</th>\n",
       "      <td>2</td>\n",
       "      <td>31406007.37</td>\n",
       "      <td>1</td>\n",
       "    </tr>\n",
       "    <tr>\n",
       "      <th>3</th>\n",
       "      <td>6</td>\n",
       "      <td>36520241.70</td>\n",
       "      <td>1</td>\n",
       "    </tr>\n",
       "    <tr>\n",
       "      <th>4</th>\n",
       "      <td>3</td>\n",
       "      <td>33474014.06</td>\n",
       "      <td>2</td>\n",
       "    </tr>\n",
       "  </tbody>\n",
       "</table>\n",
       "</div>"
      ],
      "text/plain": [
       "   k          DIC chain\n",
       "0  2  31235761.82     4\n",
       "1  7  41239748.01     2\n",
       "2  2  31406007.37     1\n",
       "3  6  36520241.70     1\n",
       "4  3  33474014.06     2"
      ]
     },
     "execution_count": 72,
     "metadata": {},
     "output_type": "execute_result"
    }
   ],
   "source": [
    "dic_list = []\n",
    "for d in dic_files:\n",
    "    k = d.split('_k')[1].split('_')[0] #set this \n",
    "    c = d.split('_c')[1].split('.txt')[0]\n",
    "    #print(k,c)\n",
    "    \n",
    "    dic = !grep 'DIC' $d\n",
    "    dic = float(re.search('(\\d+.\\d+)',str(dic)).group(0))\n",
    "    #print(dic)\n",
    "    \n",
    "    dic_list.append([k,dic,c])\n",
    "dic_df = pd.DataFrame(dic_list,columns=['k','DIC','chain'])\n",
    "dic_df.head()"
   ]
  },
  {
   "cell_type": "code",
   "execution_count": 73,
   "metadata": {},
   "outputs": [],
   "source": [
    "dic_df.to_csv('dic_list.csv')"
   ]
  },
  {
   "cell_type": "code",
   "execution_count": 74,
   "metadata": {},
   "outputs": [],
   "source": [
    "dic_sum = dic_df.groupby('k').describe().DIC"
   ]
  },
  {
   "cell_type": "code",
   "execution_count": 75,
   "metadata": {},
   "outputs": [
    {
     "data": {
      "text/html": [
       "<div>\n",
       "<style scoped>\n",
       "    .dataframe tbody tr th:only-of-type {\n",
       "        vertical-align: middle;\n",
       "    }\n",
       "\n",
       "    .dataframe tbody tr th {\n",
       "        vertical-align: top;\n",
       "    }\n",
       "\n",
       "    .dataframe thead th {\n",
       "        text-align: right;\n",
       "    }\n",
       "</style>\n",
       "<table border=\"1\" class=\"dataframe\">\n",
       "  <thead>\n",
       "    <tr style=\"text-align: right;\">\n",
       "      <th></th>\n",
       "      <th>count</th>\n",
       "      <th>mean</th>\n",
       "      <th>std</th>\n",
       "      <th>min</th>\n",
       "      <th>25%</th>\n",
       "      <th>50%</th>\n",
       "      <th>75%</th>\n",
       "      <th>max</th>\n",
       "    </tr>\n",
       "    <tr>\n",
       "      <th>k</th>\n",
       "      <th></th>\n",
       "      <th></th>\n",
       "      <th></th>\n",
       "      <th></th>\n",
       "      <th></th>\n",
       "      <th></th>\n",
       "      <th></th>\n",
       "      <th></th>\n",
       "    </tr>\n",
       "  </thead>\n",
       "  <tbody>\n",
       "    <tr>\n",
       "      <th>2</th>\n",
       "      <td>4.0</td>\n",
       "      <td>3.151842e+07</td>\n",
       "      <td>2.548149e+05</td>\n",
       "      <td>3.123576e+07</td>\n",
       "      <td>3.136345e+07</td>\n",
       "      <td>3.150597e+07</td>\n",
       "      <td>3.166094e+07</td>\n",
       "      <td>3.182600e+07</td>\n",
       "    </tr>\n",
       "    <tr>\n",
       "      <th>3</th>\n",
       "      <td>4.0</td>\n",
       "      <td>3.360282e+07</td>\n",
       "      <td>6.363335e+05</td>\n",
       "      <td>3.314580e+07</td>\n",
       "      <td>3.322869e+07</td>\n",
       "      <td>3.336517e+07</td>\n",
       "      <td>3.373930e+07</td>\n",
       "      <td>3.453515e+07</td>\n",
       "    </tr>\n",
       "    <tr>\n",
       "      <th>5</th>\n",
       "      <td>4.0</td>\n",
       "      <td>3.405831e+07</td>\n",
       "      <td>3.975393e+05</td>\n",
       "      <td>3.351859e+07</td>\n",
       "      <td>3.392628e+07</td>\n",
       "      <td>3.412418e+07</td>\n",
       "      <td>3.425621e+07</td>\n",
       "      <td>3.446629e+07</td>\n",
       "    </tr>\n",
       "    <tr>\n",
       "      <th>4</th>\n",
       "      <td>4.0</td>\n",
       "      <td>3.508518e+07</td>\n",
       "      <td>5.949308e+05</td>\n",
       "      <td>3.428080e+07</td>\n",
       "      <td>3.484758e+07</td>\n",
       "      <td>3.519619e+07</td>\n",
       "      <td>3.543380e+07</td>\n",
       "      <td>3.566755e+07</td>\n",
       "    </tr>\n",
       "    <tr>\n",
       "      <th>6</th>\n",
       "      <td>4.0</td>\n",
       "      <td>3.681168e+07</td>\n",
       "      <td>9.056206e+05</td>\n",
       "      <td>3.565871e+07</td>\n",
       "      <td>3.630486e+07</td>\n",
       "      <td>3.700765e+07</td>\n",
       "      <td>3.751447e+07</td>\n",
       "      <td>3.757270e+07</td>\n",
       "    </tr>\n",
       "    <tr>\n",
       "      <th>7</th>\n",
       "      <td>4.0</td>\n",
       "      <td>3.823035e+07</td>\n",
       "      <td>2.058698e+06</td>\n",
       "      <td>3.677734e+07</td>\n",
       "      <td>3.697612e+07</td>\n",
       "      <td>3.745215e+07</td>\n",
       "      <td>3.870638e+07</td>\n",
       "      <td>4.123975e+07</td>\n",
       "    </tr>\n",
       "    <tr>\n",
       "      <th>8</th>\n",
       "      <td>4.0</td>\n",
       "      <td>1.875255e+08</td>\n",
       "      <td>9.295616e+07</td>\n",
       "      <td>8.361735e+07</td>\n",
       "      <td>1.338960e+08</td>\n",
       "      <td>1.823276e+08</td>\n",
       "      <td>2.359571e+08</td>\n",
       "      <td>3.018293e+08</td>\n",
       "    </tr>\n",
       "    <tr>\n",
       "      <th>9</th>\n",
       "      <td>4.0</td>\n",
       "      <td>4.997376e+08</td>\n",
       "      <td>2.975772e+08</td>\n",
       "      <td>1.452553e+08</td>\n",
       "      <td>3.501194e+08</td>\n",
       "      <td>4.987275e+08</td>\n",
       "      <td>6.483458e+08</td>\n",
       "      <td>8.562403e+08</td>\n",
       "    </tr>\n",
       "  </tbody>\n",
       "</table>\n",
       "</div>"
      ],
      "text/plain": [
       "   count          mean           std           min           25%  \\\n",
       "k                                                                  \n",
       "2    4.0  3.151842e+07  2.548149e+05  3.123576e+07  3.136345e+07   \n",
       "3    4.0  3.360282e+07  6.363335e+05  3.314580e+07  3.322869e+07   \n",
       "5    4.0  3.405831e+07  3.975393e+05  3.351859e+07  3.392628e+07   \n",
       "4    4.0  3.508518e+07  5.949308e+05  3.428080e+07  3.484758e+07   \n",
       "6    4.0  3.681168e+07  9.056206e+05  3.565871e+07  3.630486e+07   \n",
       "7    4.0  3.823035e+07  2.058698e+06  3.677734e+07  3.697612e+07   \n",
       "8    4.0  1.875255e+08  9.295616e+07  8.361735e+07  1.338960e+08   \n",
       "9    4.0  4.997376e+08  2.975772e+08  1.452553e+08  3.501194e+08   \n",
       "\n",
       "            50%           75%           max  \n",
       "k                                            \n",
       "2  3.150597e+07  3.166094e+07  3.182600e+07  \n",
       "3  3.336517e+07  3.373930e+07  3.453515e+07  \n",
       "5  3.412418e+07  3.425621e+07  3.446629e+07  \n",
       "4  3.519619e+07  3.543380e+07  3.566755e+07  \n",
       "6  3.700765e+07  3.751447e+07  3.757270e+07  \n",
       "7  3.745215e+07  3.870638e+07  4.123975e+07  \n",
       "8  1.823276e+08  2.359571e+08  3.018293e+08  \n",
       "9  4.987275e+08  6.483458e+08  8.562403e+08  "
      ]
     },
     "execution_count": 75,
     "metadata": {},
     "output_type": "execute_result"
    }
   ],
   "source": [
    "dic_sum.sort_values('mean')"
   ]
  },
  {
   "cell_type": "code",
   "execution_count": 76,
   "metadata": {},
   "outputs": [],
   "source": [
    "dic_sum.to_csv('dic_sum.csv')"
   ]
  },
  {
   "cell_type": "markdown",
   "metadata": {},
   "source": [
    "### Get gprob and q for each k, and mcmc metrics"
   ]
  },
  {
   "cell_type": "code",
   "execution_count": 52,
   "metadata": {},
   "outputs": [
    {
     "name": "stdout",
     "output_type": "stream",
     "text": [
      "file = entropy_k2_c1.hdf5\n",
      "file = entropy_k2_c2.hdf5\n",
      "file = entropy_k2_c3.hdf5\n",
      "file = entropy_k2_c4.hdf5\n",
      "parameter dimensions for q: ind = 586, populations = 2, samples = 5000, chains = 4\n",
      "file = entropy_k3_c1.hdf5\n",
      "file = entropy_k3_c2.hdf5\n",
      "file = entropy_k3_c3.hdf5\n",
      "file = entropy_k3_c4.hdf5\n",
      "parameter dimensions for q: ind = 586, populations = 3, samples = 5000, chains = 4\n",
      "file = entropy_k4_c1.hdf5\n",
      "file = entropy_k4_c2.hdf5\n",
      "file = entropy_k4_c3.hdf5\n",
      "file = entropy_k4_c4.hdf5\n",
      "parameter dimensions for q: ind = 586, populations = 4, samples = 5000, chains = 4\n",
      "file = entropy_k5_c1.hdf5\n",
      "file = entropy_k5_c2.hdf5\n",
      "file = entropy_k5_c3.hdf5\n",
      "file = entropy_k5_c4.hdf5\n",
      "parameter dimensions for q: ind = 586, populations = 5, samples = 5000, chains = 4\n",
      "file = entropy_k6_c1.hdf5\n",
      "file = entropy_k6_c2.hdf5\n",
      "file = entropy_k6_c3.hdf5\n",
      "file = entropy_k6_c4.hdf5\n",
      "parameter dimensions for q: ind = 586, populations = 6, samples = 5000, chains = 4\n"
     ]
    }
   ],
   "source": [
    "# ancestry coeffecients \n",
    "!$estpost *k2*.hdf5 -p q -s 0 -o q2.txt\n",
    "\n",
    "!$estpost *k3*.hdf5 -p q -s 0 -o q3.txt\n",
    "\n",
    "!$estpost *k4*.hdf5 -p q -s 0 -o q4.txt\n",
    "\n",
    "!$estpost *k5*.hdf5 -p q -s 0 -o q5.txt\n",
    "\n",
    "!$estpost *k6*.hdf5 -p q -s 0 -o q6.txt\n",
    "\n",
    "#!$estpost *k7*.hdf5 -p q -s 0 -o q7.txt\n",
    "\n",
    "#!$estpost *k8*.hdf5 -p q -s 0 -o q8.txt\n",
    "\n",
    "#!$estpost *k9*.hdf5 -p q -s 0 -o q9.txt"
   ]
  },
  {
   "cell_type": "code",
   "execution_count": 53,
   "metadata": {},
   "outputs": [
    {
     "name": "stdout",
     "output_type": "stream",
     "text": [
      "file = entropy_k2_c1.hdf5\n",
      "file = entropy_k2_c2.hdf5\n",
      "file = entropy_k2_c3.hdf5\n",
      "file = entropy_k2_c4.hdf5\n",
      "parameter dimensions for q: ind = 586, populations = 2, samples = 5000, chains = 4\n",
      "file = entropy_k3_c1.hdf5\n",
      "file = entropy_k3_c2.hdf5\n",
      "file = entropy_k3_c3.hdf5\n",
      "file = entropy_k3_c4.hdf5\n",
      "parameter dimensions for q: ind = 586, populations = 3, samples = 5000, chains = 4\n",
      "file = entropy_k4_c1.hdf5\n",
      "file = entropy_k4_c2.hdf5\n",
      "file = entropy_k4_c3.hdf5\n",
      "file = entropy_k4_c4.hdf5\n",
      "parameter dimensions for q: ind = 586, populations = 4, samples = 5000, chains = 4\n",
      "file = entropy_k5_c1.hdf5\n",
      "file = entropy_k5_c2.hdf5\n",
      "file = entropy_k5_c3.hdf5\n",
      "file = entropy_k5_c4.hdf5\n",
      "parameter dimensions for q: ind = 586, populations = 5, samples = 5000, chains = 4\n",
      "file = entropy_k6_c1.hdf5\n",
      "file = entropy_k6_c2.hdf5\n",
      "file = entropy_k6_c3.hdf5\n",
      "file = entropy_k6_c4.hdf5\n",
      "parameter dimensions for q: ind = 586, populations = 6, samples = 5000, chains = 4\n"
     ]
    }
   ],
   "source": [
    "#MCMC diagnostics\n",
    "!$estpost *k2*.hdf5 -p q -s 4 -o MCMC_k2.txt\n",
    "\n",
    "!$estpost *k3*.hdf5 -p q -s 4 -o MCMC_k3.txt\n",
    "\n",
    "!$estpost *k4*.hdf5 -p q -s 4 -o MCMC_k4.txt\n",
    "\n",
    "!$estpost *k5*.hdf5 -p q -s 4 -o MCMC_k5.txt\n",
    "\n",
    "!$estpost *k6*.hdf5 -p q -s 4 -o MCMC_k6.txt\n",
    "\n",
    "#!$estpost *k7*.hdf5 -p q -s 4 -o MCMC_k7.txt\n",
    "\n",
    "#!$estpost *k8*.hdf5 -p q -s 4 -o MCMC_k8.txt\n",
    "\n",
    "#!$estpost *k9*.hdf5 -p q -s 4 -o MCMC_k9.txt"
   ]
  },
  {
   "cell_type": "markdown",
   "metadata": {},
   "source": [
    "### make slurm script to make gprob file\n",
    "\n",
    "    use all k and chains to make gprob"
   ]
  },
  {
   "cell_type": "code",
   "execution_count": 54,
   "metadata": {},
   "outputs": [
    {
     "name": "stdout",
     "output_type": "stream",
     "text": [
      "/data/gpfs/assoc/denovo/tfaske/rabbit/full/REDO/entropy\n"
     ]
    }
   ],
   "source": [
    "cd $ent_dir"
   ]
  },
  {
   "cell_type": "code",
   "execution_count": 55,
   "metadata": {},
   "outputs": [],
   "source": [
    "### select slurm options\n",
    "account = 'cpu-s5-denovo-0'\n",
    "partition = 'cpu-core-0'\n",
    "time = '1-00:00:00' #time limit 4\n",
    "cpus = 2 #to prevent hammering one node\n",
    "mem_cpu = 6000\n",
    "email = 'tfaske@nevada.unr.edu'\n",
    "\n",
    "### select k \n",
    "num_k = [2,3,4,5,6]"
   ]
  },
  {
   "cell_type": "code",
   "execution_count": 56,
   "metadata": {},
   "outputs": [],
   "source": [
    "def write_gprob_k_sh(account,partition,time,cpus,mem_cpu,email,estpost,num_k):\n",
    "    for k in num_k:\n",
    "        with open(\"shdir/run_gprob_k%d.sh\" % (k), \"w\") as o:\n",
    "            o.write(\"\"\"#!/usr/bin/env bash\n",
    "#SBATCH --account=%s\n",
    "#SBATCH --partition=%s\n",
    "#SBATCH --time=%s\n",
    "#SBATCH --ntasks 1\n",
    "#SBATCH --cpus-per-task %d\n",
    "#SBATCH --mem-per-cpu=%d\n",
    "#SBATCH --job-name gprob_k%d\n",
    "#SBATCH --output output_gprob_k%d.txt\n",
    "#SBATCH --mail-type=END\n",
    "#SBATCH --mail-user=%s\\n\\n\"\"\" % (account,partition,time,cpus,mem_cpu,k,k,email))\n",
    "        \n",
    "            o.write(\"%s ../*k%d*.hdf5 -p gprob -s 0 -o ../gprob%d.txt\" % (estpost,k,k))"
   ]
  },
  {
   "cell_type": "code",
   "execution_count": 57,
   "metadata": {},
   "outputs": [],
   "source": [
    "write_gprob_k_sh(account,partition,time,cpus,mem_cpu,email,estpost,num_k)"
   ]
  },
  {
   "cell_type": "code",
   "execution_count": 58,
   "metadata": {},
   "outputs": [
    {
     "data": {
      "text/plain": [
       "['/data/gpfs/assoc/denovo/tfaske/rabbit/full/REDO/entropy/shdir/run_gprob_k2.sh',\n",
       " '/data/gpfs/assoc/denovo/tfaske/rabbit/full/REDO/entropy/shdir/run_gprob_k3.sh',\n",
       " '/data/gpfs/assoc/denovo/tfaske/rabbit/full/REDO/entropy/shdir/run_gprob_k4.sh',\n",
       " '/data/gpfs/assoc/denovo/tfaske/rabbit/full/REDO/entropy/shdir/run_gprob_k5.sh',\n",
       " '/data/gpfs/assoc/denovo/tfaske/rabbit/full/REDO/entropy/shdir/run_gprob_k6.sh']"
      ]
     },
     "execution_count": 58,
     "metadata": {},
     "output_type": "execute_result"
    }
   ],
   "source": [
    "gprobShells = !find $ent_dir -name 'run_gprob*.sh'\n",
    "gprobShells = gprobShells.sort()\n",
    "gprobShells"
   ]
  },
  {
   "cell_type": "code",
   "execution_count": 59,
   "metadata": {},
   "outputs": [],
   "source": [
    "def write_sbatch_gprobShells(gprobShells):\n",
    "    with open(\"shdir/sbatch_gprob.sh\", \"w\") as o:\n",
    "        o.write(\"\"\"#!/usr/bin/env bash \\n\"\"\")\n",
    "        for sh in gprobShells:\n",
    "            o.write(\"\"\"sbatch %s\\n\"\"\" % (sh))"
   ]
  },
  {
   "cell_type": "code",
   "execution_count": 60,
   "metadata": {},
   "outputs": [],
   "source": [
    "write_sbatch_gprobShells(gprobShells)"
   ]
  },
  {
   "cell_type": "markdown",
   "metadata": {},
   "source": [
    "### gprob all \n",
    "\n",
    "select only the ks you want. Will not work on ~7 ks with all the chains. It dies. \n",
    "\n",
    "k = 2,3,4,5,6"
   ]
  },
  {
   "cell_type": "code",
   "execution_count": 61,
   "metadata": {},
   "outputs": [
    {
     "data": {
      "text/plain": [
       "['../entropy_k2_c1.hdf5',\n",
       " '../entropy_k2_c2.hdf5',\n",
       " '../entropy_k2_c3.hdf5',\n",
       " '../entropy_k2_c4.hdf5',\n",
       " '../entropy_k3_c1.hdf5',\n",
       " '../entropy_k3_c2.hdf5',\n",
       " '../entropy_k3_c3.hdf5',\n",
       " '../entropy_k3_c4.hdf5',\n",
       " '../entropy_k4_c1.hdf5',\n",
       " '../entropy_k4_c2.hdf5',\n",
       " '../entropy_k4_c3.hdf5',\n",
       " '../entropy_k4_c4.hdf5',\n",
       " '../entropy_k5_c1.hdf5',\n",
       " '../entropy_k5_c2.hdf5',\n",
       " '../entropy_k5_c3.hdf5',\n",
       " '../entropy_k5_c4.hdf5',\n",
       " '../entropy_k6_c1.hdf5',\n",
       " '../entropy_k6_c2.hdf5',\n",
       " '../entropy_k6_c3.hdf5',\n",
       " '../entropy_k6_c4.hdf5']"
      ]
     },
     "execution_count": 61,
     "metadata": {},
     "output_type": "execute_result"
    }
   ],
   "source": [
    "hdf5_files = []\n",
    "num_k = [2,3,4,5,6]\n",
    "num_c = 4\n",
    "for k in num_k:\n",
    "    for c in range(1,num_c+1):\n",
    "        f = '../entropy_k' + str(k) + '_c' + str(c) + '.hdf5'\n",
    "        hdf5_files.append(f)\n",
    "hdf5_files"
   ]
  },
  {
   "cell_type": "code",
   "execution_count": 62,
   "metadata": {},
   "outputs": [
    {
     "data": {
      "text/plain": [
       "'/data/gpfs/home/tfaske/g/anaconda3/envs/entropy/bin/estpost.entropy ../entropy_k2_c1.hdf5 ../entropy_k2_c2.hdf5 ../entropy_k2_c3.hdf5 ../entropy_k2_c4.hdf5 ../entropy_k3_c1.hdf5 ../entropy_k3_c2.hdf5 ../entropy_k3_c3.hdf5 ../entropy_k3_c4.hdf5 ../entropy_k4_c1.hdf5 ../entropy_k4_c2.hdf5 ../entropy_k4_c3.hdf5 ../entropy_k4_c4.hdf5 ../entropy_k5_c1.hdf5 ../entropy_k5_c2.hdf5 ../entropy_k5_c3.hdf5 ../entropy_k5_c4.hdf5 ../entropy_k6_c1.hdf5 ../entropy_k6_c2.hdf5 ../entropy_k6_c3.hdf5 ../entropy_k6_c4.hdf5 -p gprob -s 0 -o ../gprobAll.txt'"
      ]
     },
     "execution_count": 62,
     "metadata": {},
     "output_type": "execute_result"
    }
   ],
   "source": [
    "gprob_cmd = estpost + ' ' + ' '.join(hdf5_files) + ' -p gprob -s 0 -o ../gprobAll.txt'\n",
    "gprob_cmd"
   ]
  },
  {
   "cell_type": "code",
   "execution_count": 63,
   "metadata": {},
   "outputs": [],
   "source": [
    "### select slurm options\n",
    "account = 'cpu-s5-denovo-0'\n",
    "partition = 'cpu-core-0'\n",
    "time = '1-00:00:00' #time limit 4\n",
    "cpus = 1 #to prevent hammering one node\n",
    "mem_cpu = 100000\n",
    "email = 'tfaske@nevada.unr.edu'"
   ]
  },
  {
   "cell_type": "code",
   "execution_count": 64,
   "metadata": {},
   "outputs": [],
   "source": [
    "def write_gprob_all_sh(account,partition,time,cpus,mem_cpu,email,estpost,gprob_cmd):\n",
    "        with open(\"shdir/run_gprobAll.sh\", \"w\") as o:\n",
    "            o.write(\"\"\"#!/usr/bin/env bash\n",
    "#SBATCH --account=%s\n",
    "#SBATCH --partition=%s\n",
    "#SBATCH --time=%s\n",
    "#SBATCH --ntasks 1\n",
    "#SBATCH --cpus-per-task %d\n",
    "#SBATCH --mem-per-cpu=%d\n",
    "#SBATCH --job-name gprobAll\n",
    "#SBATCH --output output_gprobAll.txt\n",
    "#SBATCH --mail-type=END\n",
    "#SBATCH --mail-user=%s\n",
    "\n",
    "%s\"\"\" % (account,partition,time,cpus,mem_cpu,email,gprob_cmd))"
   ]
  },
  {
   "cell_type": "code",
   "execution_count": 65,
   "metadata": {},
   "outputs": [],
   "source": [
    "write_gprob_all_sh(account,partition,time,cpus,mem_cpu,email,estpost,gprob_cmd)"
   ]
  },
  {
   "cell_type": "markdown",
   "metadata": {},
   "source": [
    "## Run gprob sh \n",
    "\n",
    "    cd /data/gpfs/assoc/denovo/PHHA/entropy\n",
    "    source activate entropy\n",
    "    sbatch run_gprob.sh"
   ]
  }
 ],
 "metadata": {
  "kernelspec": {
   "display_name": "Python 3 (ipykernel)",
   "language": "python",
   "name": "python3"
  },
  "language_info": {
   "codemirror_mode": {
    "name": "ipython",
    "version": 3
   },
   "file_extension": ".py",
   "mimetype": "text/x-python",
   "name": "python",
   "nbconvert_exporter": "python",
   "pygments_lexer": "ipython3",
   "version": "3.11.0"
  }
 },
 "nbformat": 4,
 "nbformat_minor": 2
}
