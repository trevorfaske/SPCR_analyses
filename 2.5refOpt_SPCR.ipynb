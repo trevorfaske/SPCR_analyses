{
 "cells": [
  {
   "cell_type": "markdown",
   "metadata": {},
   "source": [
    "# Optimize denovo reference\n",
    "    This script uses scripts provided by dDocent to de novo assembly in CD-HIT\n",
    "    https://www.ddocent.com/assembly/\n",
    "    \n",
    "    Run dDocent first with basic commands. Use individuals retained from filtering to make assembly\n",
    "    \n",
    "## REDONE on 12/20/2022  \n",
    "\n",
    "This is after most analyses. Want to be more strict about clustering simularity. Want to thoughtfully select individuals based off what is known"
   ]
  },
  {
   "cell_type": "markdown",
   "metadata": {},
   "source": [
    "## For reference throughout this notebook:\n",
    "\n",
    "**All unformatted text part of Trevor's original workflow.  Seth's annotations follow these rules**:  \n",
    "+ *this text* = conceptual explanation of code<br>\n",
    "+ <span style=\"color:purple\">**this text**</span> = logical `code` explanation<br>\n",
    "+ <span style=\"color:tomato\">*this text*</span> = questions, uncertainties, parenthetical comments<br>\n",
    "&nbsp;<br>\n",
    "\n",
    "With that defined let's create a new section to talk about organization in this notebook...\n",
    "<hr>\n",
    "<hr>\n",
    "    \n",
    "## Sections:\n",
    "\n",
    "1. Exploring file contents and formatting to run `RefOpt.sh`\n",
    "2. Building slurm scripts to parallel run `RefOpt.sh`\n",
    "3. Interpreting `RefOpt` output for determing optimal c parameter\n",
    "4. Building slurm scripts to parallel run `MapOpt.sh`\n",
    "5. Compare k parameters from `MapOpt` to create optimal assembly from full dataset"
   ]
  },
  {
   "cell_type": "markdown",
   "metadata": {},
   "source": [
    "### 1.1 Import packages"
   ]
  },
  {
   "cell_type": "code",
   "execution_count": 1,
   "metadata": {
    "ExecuteTime": {}
   },
   "outputs": [],
   "source": [
    "import sys\n",
    "import ipyparallel as ipp\n",
    "import os\n",
    "from os import environ\n",
    "import gzip\n",
    "import warnings\n",
    "import pandas as pd\n",
    "import numpy as np\n",
    "import scipy as sp\n",
    "import glob\n",
    "import re\n",
    "import random"
   ]
  },
  {
   "cell_type": "markdown",
   "metadata": {},
   "source": [
    "*Just defining directory where we are working and checking with `pwd`*"
   ]
  },
  {
   "cell_type": "code",
   "execution_count": 5,
   "metadata": {
    "ExecuteTime": {}
   },
   "outputs": [],
   "source": [
    "root = \"/data/gpfs/assoc/denovo/tfaske/SPCR/\""
   ]
  },
  {
   "cell_type": "code",
   "execution_count": 6,
   "metadata": {
    "ExecuteTime": {}
   },
   "outputs": [
    {
     "name": "stdout",
     "output_type": "stream",
     "text": [
      "/data/gpfs/assoc/denovo/tfaske/SPCR\n"
     ]
    }
   ],
   "source": [
    "cd $root"
   ]
  },
  {
   "cell_type": "code",
   "execution_count": 7,
   "metadata": {
    "ExecuteTime": {}
   },
   "outputs": [
    {
     "data": {
      "text/plain": [
       "'/data/gpfs/assoc/denovo/tfaske/SPCR'"
      ]
     },
     "execution_count": 7,
     "metadata": {},
     "output_type": "execute_result"
    }
   ],
   "source": [
    "pwd"
   ]
  },
  {
   "cell_type": "markdown",
   "metadata": {},
   "source": [
    "### 1.2 Make assembly refopt dir and assign fastq dir"
   ]
  },
  {
   "cell_type": "markdown",
   "metadata": {},
   "source": [
    "*directory itself is called 'assembly' while 'assembly_dir' is variable name presumably to avoid some variable/function confusion*"
   ]
  },
  {
   "cell_type": "code",
   "execution_count": 8,
   "metadata": {},
   "outputs": [],
   "source": [
    "!mkdir assembly"
   ]
  },
  {
   "cell_type": "code",
   "execution_count": 9,
   "metadata": {},
   "outputs": [],
   "source": [
    "!mkdir assembly/refOpt"
   ]
  },
  {
   "cell_type": "code",
   "execution_count": 10,
   "metadata": {},
   "outputs": [],
   "source": [
    "assembly_dir = os.path.join(root,'assembly')"
   ]
  },
  {
   "cell_type": "code",
   "execution_count": 11,
   "metadata": {},
   "outputs": [],
   "source": [
    "refOpt_dir = os.path.join(assembly_dir,'refOpt')"
   ]
  },
  {
   "cell_type": "code",
   "execution_count": 12,
   "metadata": {},
   "outputs": [],
   "source": [
    "fq_dir = '/data/gpfs/assoc/denovo/tfaske/SPCR/fastq'"
   ]
  },
  {
   "cell_type": "markdown",
   "metadata": {},
   "source": [
    "### 1.5 Sample random fastq for optimizer  \n",
    "\n",
    "Use SPCR_keep_df from SPCR_manip, select individuals. Do it in R, easier for me.\n",
    "\n",
    "Select 25 individuals. Only wild individuals and medium reads per population. Use SPCR_keep_df"
   ]
  },
  {
   "cell_type": "markdown",
   "metadata": {},
   "source": [
    "*Idea here is to reduce the data we are initializing `RefOpt` and `MapOpt` on for efficiency purposes.  These test runs are just to determine optimal c, k1, and k2 parameters to build a final assembly for mapping.  Both scripts are huge alignment processes and would take way too long to run on full dataset.  Using 1 individual from eqach population with the most reads is a nice compromise. The final assembly will use **full** dataset.*"
   ]
  },
  {
   "cell_type": "code",
   "execution_count": 13,
   "metadata": {},
   "outputs": [
    {
     "name": "stdout",
     "output_type": "stream",
     "text": [
      "/data/gpfs/assoc/denovo/tfaske/SPCR\n"
     ]
    }
   ],
   "source": [
    "cd $root"
   ]
  },
  {
   "cell_type": "code",
   "execution_count": 14,
   "metadata": {},
   "outputs": [],
   "source": [
    "%load_ext rpy2.ipython"
   ]
  },
  {
   "cell_type": "code",
   "execution_count": 27,
   "metadata": {},
   "outputs": [
    {
     "name": "stdout",
     "output_type": "stream",
     "text": [
      "  species fq_ID                    site     date latitude longitude     name\n",
      "1    SPCR    10             White Hills  8/20/20 34.69107 -111.8567  SPCR_10\n",
      "2    SPCR    11             White Hills  8/20/20 34.69107 -111.8567  SPCR_11\n",
      "3    SPCR    12             White Hills  8/20/20 34.69107 -111.8567  SPCR_12\n",
      "4    SPCR    13                3 Rivers 10/10/20 33.32894 -105.9340  SPCR_13\n",
      "5    SPCR    14                3 Rivers 10/10/20 33.32894 -105.9340  SPCR_14\n",
      "6    SPCR   151 Water Canyon Campground  6/24/20 34.02405 -107.1340 SPCR_151\n",
      "                 fq lane   reads      rename pop trmt ID        new_name\n",
      "1  SPCR_10.r1.fq.gz   31 1195323  whitehills  WH    W  5  whitehills_W_5\n",
      "2  SPCR_11.r1.fq.gz   31 1109916  whitehills  WH    W  6  whitehills_W_6\n",
      "3  SPCR_12.r1.fq.gz   31 1519757  whitehills  WH    W  7  whitehills_W_7\n",
      "4  SPCR_13.r1.fq.gz   31 1564485 threerivers  TR    W  1 threerivers_W_1\n",
      "5  SPCR_14.r1.fq.gz   31 1561459 threerivers  TR    W  2 threerivers_W_2\n",
      "6 SPCR_151.r1.fq.gz  L32 1512870    watercan  WC    W  1    watercan_W_1\n",
      "                 new_fq\n",
      "1  whitehills_W_5.fq.gz\n",
      "2  whitehills_W_6.fq.gz\n",
      "3  whitehills_W_7.fq.gz\n",
      "4 threerivers_W_1.fq.gz\n",
      "5 threerivers_W_2.fq.gz\n",
      "6    watercan_W_1.fq.gz\n"
     ]
    }
   ],
   "source": [
    "%%R \n",
    "\n",
    "setwd('/data/gpfs/assoc/denovo/tfaske/SPCR/')\n",
    "\n",
    "df <- read.csv('data/SPCR_data_all.csv')\n",
    "\n",
    "dim(df)\n",
    "head(df)\n",
    "#print(table(paste0(pca_df$Variety,'_',pca_df$Color))"
   ]
  },
  {
   "cell_type": "code",
   "execution_count": 28,
   "metadata": {},
   "outputs": [
    {
     "name": "stdout",
     "output_type": "stream",
     "text": [
      "[1] 37\n"
     ]
    }
   ],
   "source": [
    "%%R\n",
    "wild_df <- df[which(df$trmt == 'W'),]\n",
    "length(unique(wild_df$pop))"
   ]
  },
  {
   "cell_type": "code",
   "execution_count": 29,
   "metadata": {},
   "outputs": [
    {
     "name": "stdout",
     "output_type": "stream",
     "text": [
      " [1] \"whitehills_W_7.fq.gz\"  \"alamosa_W_5.fq.gz\"     \"kennedy_W_4.fq.gz\"    \n",
      " [4] \"caballo_W_2.fq.gz\"     \"cieneguilla_W_2.fq.gz\" \"santafe_W_4.fq.gz\"    \n",
      " [7] \"blm_W_2.fq.gz\"         \"stanton_W_7.fq.gz\"     \"petroglyph_W_8.fq.gz\" \n",
      "[10] \"queen_W_1.fq.gz\"       \"bonanza_W_1.fq.gz\"     \"threerivers_W_3.fq.gz\"\n",
      "[13] \"buckman2_W_10.fq.gz\"   \"camino_W_2.fq.gz\"      \"tierra_W_6.fq.gz\"     \n",
      "[16] \"cerrillos_W_6.fq.gz\"   \"horsemtn_W_3.fq.gz\"    \"dell_W_9.fq.gz\"       \n",
      "[19] \"aguirre_W_9.fq.gz\"     \"sandias_W_2.fq.gz\"     \"taos_W_4.fq.gz\"       \n",
      "[22] \"young_W_2.fq.gz\"      \n"
     ]
    }
   ],
   "source": [
    "%%R\n",
    "\n",
    "#### randomly sample 22 populations and grab second more reads \n",
    "pops <- sample(as.character(unique(wild_df$pop)),22)\n",
    "keep_fq <- c()\n",
    "for (p in pops){\n",
    "    pop_df <- wild_df[which(wild_df$pop == p),]\n",
    "    pop_df2 <- pop_df[order(pop_df$reads,decreasing=TRUE),]\n",
    "    #print(pop_df2)\n",
    "    keep_fq <- c(keep_fq,pop_df2$new_fq[2])\n",
    "}\n",
    "\n",
    "length(keep_fq)\n",
    "keep_fq"
   ]
  },
  {
   "cell_type": "code",
   "execution_count": 31,
   "metadata": {},
   "outputs": [],
   "source": [
    "%%R\n",
    "#keep_fq\n",
    "### mv keep_fq to refOpt\n",
    "\n",
    "fq_dir <- '/data/gpfs/assoc/denovo/tfaske/SPCR/fastq/'\n",
    "refOpt_dir <- '/data/gpfs/assoc/denovo/tfaske/SPCR/assembly/refOpt/'\n",
    "\n",
    "#cp_cmd <- array(NA,dim=length(keep_fq))\n",
    "for (i in 1:length(keep_fq)){\n",
    "    #cp_cmd[i] <- paste0('cp ',fq_dir,keep_fq[i],'.F.fq.gz ',refOpt_dir)\n",
    "    cmd <- paste0('cp ',fq_dir,keep_fq[i],' ',refOpt_dir)\n",
    "    system(cmd)\n",
    "}\n",
    "#cp_cmd"
   ]
  },
  {
   "cell_type": "code",
   "execution_count": 32,
   "metadata": {},
   "outputs": [
    {
     "name": "stdout",
     "output_type": "stream",
     "text": [
      "22\r\n"
     ]
    }
   ],
   "source": [
    "!ls {refOpt_dir}/*gz | wc -l "
   ]
  },
  {
   "cell_type": "markdown",
   "metadata": {
    "ExecuteTime": {}
   },
   "source": [
    "# 2. Make a slurm script to run ReferenceOpt.sh   \n",
    "\n",
    "ReferenceOpt.sh minK1 maxK1 minK2 maxK2 Assembly_Type Processors  \n",
    "    \n",
    "#### NOTE: must run dDocent to at least trim first "
   ]
  },
  {
   "cell_type": "markdown",
   "metadata": {},
   "source": [
    "### Understanding ReferenceOpt.sh (in process of transferring notes)\n",
    "\n",
    "Much of the details can't be found here: http://www.ddocent.com/assembly/<br>\n",
    "This script is written by Jon Puritz to determine what c parameter is optimal for reference assembly.  The steps below are repeatedly iteratively with all c values 0.80-0.98 and 0.02 increments.  Each of these c parameters are also run with each combination of k1 and k2 parameters based on a set min-max range (here we use 4-10 for both).  k1 indicates the minimum number of times a contig must occur *within* an inidividual to be used in clustering while k2 indicates minimum number of individuals a contig must occur in to be included.  c parameter used to set cluster similarity threshold.  Output is designed to identify point of inflection where data is goes from reliable to erroneous.  k parameter ranges simply used to ensure that interpretation of inflection point isn't biased by k pairing. The workflow generally follows:  \n",
    "+ Read trimming\n",
    "+ Initial clustering with low similarity via `CD-HIT`\n",
    "    + Original script may have called for 80% which is very loose but is intended to do initial rough grouping to reduce downstream complexity.  <span style=\"color:tomato\">Need to check this script as it may have been modified by Trevor to use different parameters at clustering steps</span>\n",
    "+ Clustering with `rainbow`\n",
    "+ Mapping of forward reads with `bwa`\n",
    "    + If using paired-end reads, adds additional step to compare clustering of `CD-HIT` with reverse reads.  If clustered accurately, clustering of reverse and forward reads should agree"
   ]
  },
  {
   "cell_type": "code",
   "execution_count": 33,
   "metadata": {},
   "outputs": [],
   "source": [
    "refOpt = '/data/gpfs/assoc/denovo/src/refOpt/./ReferenceOpt.sh'\n",
    "refOpt_dir = os.path.join(assembly_dir,'refOpt')"
   ]
  },
  {
   "cell_type": "code",
   "execution_count": 34,
   "metadata": {},
   "outputs": [
    {
     "name": "stdout",
     "output_type": "stream",
     "text": [
      "/data/gpfs/assoc/denovo/tfaske/SPCR/assembly/refOpt\n"
     ]
    }
   ],
   "source": [
    "cd $refOpt_dir"
   ]
  },
  {
   "cell_type": "code",
   "execution_count": 35,
   "metadata": {},
   "outputs": [],
   "source": [
    "### select options\n",
    "account = 'cpu-s5-denovo-0'\n",
    "partition = 'cpu-core-0'\n",
    "jobname = 'SPCR_refOpt'\n",
    "time = '4-00:00:00' #time limit 4 days\n",
    "minK1 = 4\n",
    "maxK1 = 10\n",
    "minK2 = 4\n",
    "maxK2 = 10\n",
    "Type = 'SE' \n",
    "cpus = 64\n",
    "mem_cpu = 2500\n",
    "email = 'tfaske@nevada.unr.edu'"
   ]
  },
  {
   "cell_type": "code",
   "execution_count": 36,
   "metadata": {
    "ExecuteTime": {}
   },
   "outputs": [],
   "source": [
    "def write_refOpt_sh(account,partition,cpus,mem_cpu,email,refOpt,minK1,maxK1,minK2,maxK2,Type):\n",
    "    with open(\"run_refOpt.sh\", \"w\") as o:\n",
    "        o.write(\"\"\"#!/usr/bin/env bash\n",
    "#SBATCH --account=%s\n",
    "#SBATCH --partition=%s\n",
    "#SBATCH --ntasks 1\n",
    "#SBATCH --cpus-per-task %d\n",
    "#SBATCH --mem-per-cpu=%d\n",
    "#SBATCH --job-name %s\n",
    "#SBATCH --output output_refOpt.txt\n",
    "#SBATCH --mail-type=END\n",
    "#SBATCH --mail-user=%s\\n\\n\"\"\" % (account,partition,int(cpus),int(mem_cpu),jobname,email))\n",
    "\n",
    "        #ReferenceOpt.sh minK1 maxK1 minK2 maxK2 Assembly_Type Processors\n",
    "        o.write(\"%s %d %d %d %d %s %d\" % (refOpt,minK1,maxK1,minK2,maxK2,Type,cpus))"
   ]
  },
  {
   "cell_type": "code",
   "execution_count": 37,
   "metadata": {},
   "outputs": [],
   "source": [
    "write_refOpt_sh(account,partition,cpus,mem_cpu,email,refOpt,minK1,maxK1,minK2,maxK2,Type)"
   ]
  },
  {
   "cell_type": "markdown",
   "metadata": {},
   "source": [
    "# run refOpt.sh in slurm\n",
    "    cd /data/gpfs/assoc/denovo/ERNA/assembly/refOpt\n",
    "    source activate ddocent_env\n",
    "    sbatch run_refOpt.sh"
   ]
  },
  {
   "cell_type": "markdown",
   "metadata": {},
   "source": [
    "# Visualize kopt from refOpt"
   ]
  },
  {
   "cell_type": "code",
   "execution_count": 38,
   "metadata": {},
   "outputs": [
    {
     "name": "stdout",
     "output_type": "stream",
     "text": [
      "/data/gpfs/assoc/denovo/tfaske/SPCR/assembly/refOpt\n"
     ]
    }
   ],
   "source": [
    "cd $refOpt_dir"
   ]
  },
  {
   "cell_type": "code",
   "execution_count": 39,
   "metadata": {},
   "outputs": [
    {
     "name": "stdout",
     "output_type": "stream",
     "text": [
      "The top three most common number of contigs\r\n",
      "X\tContig number\r\n",
      "2\t26840\r\n",
      "2\t18231\r\n",
      "1\t9845\r\n",
      "The top three most common number of contigs (with values rounded)\r\n",
      "X\tContig number\r\n",
      "6\t21800\r\n",
      "5\t29100\r\n",
      "4\t27700\r\n"
     ]
    }
   ],
   "source": [
    "!tail output_refOpt.txt"
   ]
  },
  {
   "cell_type": "code",
   "execution_count": 40,
   "metadata": {},
   "outputs": [
    {
     "name": "stdout",
     "output_type": "stream",
     "text": [
      "The rpy2.ipython extension is already loaded. To reload it, use:\n",
      "  %reload_ext rpy2.ipython\n"
     ]
    }
   ],
   "source": [
    "%load_ext rpy2.ipython"
   ]
  },
  {
   "cell_type": "code",
   "execution_count": 41,
   "metadata": {},
   "outputs": [
    {
     "name": "stdout",
     "output_type": "stream",
     "text": [
      "\n",
      "── Column specification ────────────────────────────────────────────────────────\n",
      "cols(\n",
      "  k1 = col_double(),\n",
      "  k2 = col_double(),\n",
      "  c = col_double(),\n",
      "  contig = col_double()\n",
      ")\n",
      "\n"
     ]
    },
    {
     "data": {
      "image/png": "[encoded data removed]"
     },
     "metadata": {},
     "output_type": "display_data"
    }
   ],
   "source": [
    "%%R\n",
    "library(readr)\n",
    "library(ggplot2)\n",
    "\n",
    "kopt <- read_table2('kopt.data',col_names = c('k1','k2','c','contig'))\n",
    "kopt$k <- paste0(kopt$k1,'_',kopt$k2)\n",
    "\n",
    "ggplot(data=kopt,aes(x=c,y=contig,colour=k)) + \n",
    "  geom_line() "
   ]
  },
  {
   "cell_type": "markdown",
   "metadata": {},
   "source": [
    "c = .88, .92, .96 is the winner!, look where it starts to tick up"
   ]
  },
  {
   "cell_type": "markdown",
   "metadata": {},
   "source": [
    "# MapOpt now!!!\n",
    "    This script assembles references across cutoff values and then maps 20 random samples and evaluates mappings to the reference, along with number of contigs and coverage.\n",
    "    \n",
    "    Moves fastq files from refOpt, runs dDocent to get trimmed files\n",
    "    \n",
    "    choose mapOpt sim from kopt above: 94 add (e.g. 92,94,96)"
   ]
  },
  {
   "cell_type": "code",
   "execution_count": 42,
   "metadata": {},
   "outputs": [
    {
     "name": "stdout",
     "output_type": "stream",
     "text": [
      "/data/gpfs/assoc/denovo/tfaske/SPCR/assembly\n"
     ]
    }
   ],
   "source": [
    "cd $assembly_dir"
   ]
  },
  {
   "cell_type": "code",
   "execution_count": 43,
   "metadata": {},
   "outputs": [],
   "source": [
    "!mkdir mapOpt"
   ]
  },
  {
   "cell_type": "code",
   "execution_count": 44,
   "metadata": {},
   "outputs": [],
   "source": [
    "mapOpt_dir = os.path.join(assembly_dir,'mapOpt')\n",
    "assert mapOpt_dir"
   ]
  },
  {
   "cell_type": "code",
   "execution_count": 45,
   "metadata": {},
   "outputs": [],
   "source": [
    "sim_val = [88,92,96]"
   ]
  },
  {
   "cell_type": "code",
   "execution_count": 46,
   "metadata": {},
   "outputs": [],
   "source": [
    "for sim in sim_val:\n",
    "    mapsim = \"mapOpt/mapOpt%d\" % (sim)\n",
    "    !mkdir $mapsim"
   ]
  },
  {
   "cell_type": "code",
   "execution_count": 47,
   "metadata": {},
   "outputs": [
    {
     "data": {
      "text/plain": [
       "(44,\n",
       " '/data/gpfs/assoc/denovo/tfaske/SPCR/assembly/refOpt/buckman2_W_10.F.fq.gz')"
      ]
     },
     "execution_count": 47,
     "metadata": {},
     "output_type": "execute_result"
    }
   ],
   "source": [
    "### cp fastq from refOpt\n",
    "fq_files = !find $refOpt_dir -name '*fq.gz'\n",
    "fq_files = [os.path.abspath(x) for x in fq_files]\n",
    "len(fq_files),fq_files[0]"
   ]
  },
  {
   "cell_type": "code",
   "execution_count": 48,
   "metadata": {},
   "outputs": [],
   "source": [
    "for fq in fq_files:   \n",
    "    for sim in sim_val:\n",
    "        mapsim = \"mapOpt/mapOpt%d\" % (sim)\n",
    "        !cp $fq $mapsim"
   ]
  },
  {
   "cell_type": "code",
   "execution_count": 49,
   "metadata": {},
   "outputs": [],
   "source": [
    "for sim in sim_val:\n",
    "    mapsim = \"mapOpt/mapOpt%d\" % (sim)\n",
    "    logfiles = os.path.join(refOpt_dir,'logfiles')\n",
    "    !cp -r $logfiles $mapsim"
   ]
  },
  {
   "cell_type": "code",
   "execution_count": 50,
   "metadata": {},
   "outputs": [],
   "source": [
    "src_dir = '/data/gpfs/assoc/denovo/src/refOpt/./'\n",
    "mapOpt_sh = []\n",
    "for sim in sim_val:\n",
    "    sh = src_dir + \"Map%d.sh\"%(sim)\n",
    "    mapOpt_sh.append(sh)"
   ]
  },
  {
   "cell_type": "code",
   "execution_count": 51,
   "metadata": {},
   "outputs": [
    {
     "data": {
      "text/plain": [
       "(3,\n",
       " ['/data/gpfs/assoc/denovo/src/refOpt/./Map88.sh',\n",
       "  '/data/gpfs/assoc/denovo/src/refOpt/./Map92.sh',\n",
       "  '/data/gpfs/assoc/denovo/src/refOpt/./Map96.sh'])"
      ]
     },
     "execution_count": 51,
     "metadata": {},
     "output_type": "execute_result"
    }
   ],
   "source": [
    "len(mapOpt_sh), mapOpt_sh"
   ]
  },
  {
   "cell_type": "code",
   "execution_count": 52,
   "metadata": {},
   "outputs": [],
   "source": [
    "### select slurm options\n",
    "account = 'cpu-s5-denovo-0'\n",
    "partition = 'cpu-core-0'\n",
    "time = '1-00:00:00' #time limit 1 days\n",
    "cpus = 16\n",
    "mem_cpu = 9000\n",
    "\n",
    "#RefMapOpt minK1 maxK1 minK2 maxK2 cluster_similarity Assembly_Type Num_of_Processors\n",
    "minK1 = 4\n",
    "maxK1 = 10\n",
    "minK2 = 4\n",
    "maxK2 = 10\n",
    "Type = 'SE' "
   ]
  },
  {
   "cell_type": "code",
   "execution_count": 53,
   "metadata": {},
   "outputs": [
    {
     "name": "stdout",
     "output_type": "stream",
     "text": [
      "/data/gpfs/assoc/denovo/tfaske/SPCR/assembly/mapOpt\n"
     ]
    }
   ],
   "source": [
    "cd $mapOpt_dir"
   ]
  },
  {
   "cell_type": "code",
   "execution_count": 54,
   "metadata": {},
   "outputs": [],
   "source": [
    "def write_mapOpt_sh(account,partition,time,cpus,mem_cpu,sim,email,mapOpt_dir,\n",
    "                    mapOpt_sh,sim_val,minK1,maxK1,minK2,maxK2,Type):\n",
    "    for i in range(0,len(mapOpt_sh)):\n",
    "        sh = mapOpt_sh[i]\n",
    "        sim = sim_val[i]\n",
    "        with open(\"mapOpt%d/run_mapOpt%d.sh\" % (sim,sim), \"w\") as o:\n",
    "            o.write(\"\"\"#!/usr/bin/env bash\n",
    "#SBATCH --account=%s\n",
    "#SBATCH --partition=%s\n",
    "#SBATCH --time=%s\n",
    "#SBATCH --ntasks 1\n",
    "#SBATCH --cpus-per-task %d\n",
    "#SBATCH --mem-per-cpu=%d\n",
    "#SBATCH --job-name mapOpt%d\n",
    "#SBATCH --output output_mapOpt%d.txt\n",
    "#SBATCH --mail-type=END\n",
    "#SBATCH --mail-user=%s\n",
    "\n",
    "cd %s/mapOpt%d\\n\\n\"\"\" % (account,partition,time,int(cpus),int(mem_cpu),sim,sim,email,mapOpt_dir,sim))\n",
    "\n",
    "        #RefMapOpt minK1 maxK1 minK2 maxK2 cluster_similarity Assembly_Type Num_of_Processors\n",
    "            o.write(\"\"\"%s %d %d %d %d 0.%d %s %d\"\"\"% (sh,minK1,maxK1,minK2,maxK2,sim,Type,cpus))"
   ]
  },
  {
   "cell_type": "code",
   "execution_count": 55,
   "metadata": {},
   "outputs": [],
   "source": [
    "write_mapOpt_sh(account,partition,time,cpus,mem_cpu,sim,email,mapOpt_dir,\n",
    "                    mapOpt_sh,sim_val,minK1,maxK1,minK2,maxK2,Type)"
   ]
  },
  {
   "cell_type": "code",
   "execution_count": 56,
   "metadata": {},
   "outputs": [
    {
     "data": {
      "text/plain": [
       "['/data/gpfs/assoc/denovo/tfaske/SPCR/assembly/mapOpt/mapOpt96/run_mapOpt96.sh',\n",
       " '/data/gpfs/assoc/denovo/tfaske/SPCR/assembly/mapOpt/mapOpt92/run_mapOpt92.sh',\n",
       " '/data/gpfs/assoc/denovo/tfaske/SPCR/assembly/mapOpt/mapOpt88/run_mapOpt88.sh']"
      ]
     },
     "execution_count": 56,
     "metadata": {},
     "output_type": "execute_result"
    }
   ],
   "source": [
    "mapShells = !find $mapOpt_dir -name 'run_map*.sh'\n",
    "mapShells"
   ]
  },
  {
   "cell_type": "code",
   "execution_count": 83,
   "metadata": {},
   "outputs": [],
   "source": [
    "def write_sbatch_mapOpt(mapShells):\n",
    "         with open(\"sbatch_mapOpt.sh\", \"w\") as o:\n",
    "            o.write(\"\"\"#!/usr/bin/env bash \\n\"\"\")\n",
    "            for sh in mapShells:\n",
    "                o.write(\"\"\"sbatch %s\\n\"\"\" % (sh))"
   ]
  },
  {
   "cell_type": "code",
   "execution_count": 84,
   "metadata": {},
   "outputs": [],
   "source": [
    "write_sbatch_mapOpt(mapShells)"
   ]
  },
  {
   "cell_type": "code",
   "execution_count": null,
   "metadata": {},
   "outputs": [],
   "source": []
  },
  {
   "cell_type": "markdown",
   "metadata": {},
   "source": [
    "# Run all mapOpt*sh ()\n",
    "    cd /data/gpfs/assoc/denovo/PHHA/assembly/mapOpt\n",
    "    source activate ddocent_env\n",
    "    bash sbatch_mapOpt.sh"
   ]
  },
  {
   "cell_type": "markdown",
   "metadata": {},
   "source": [
    "# Read in mapping results and make decision"
   ]
  },
  {
   "cell_type": "code",
   "execution_count": 57,
   "metadata": {},
   "outputs": [
    {
     "name": "stdout",
     "output_type": "stream",
     "text": [
      "/data/gpfs/assoc/denovo/tfaske/SPCR\n"
     ]
    }
   ],
   "source": [
    "cd $root"
   ]
  },
  {
   "cell_type": "code",
   "execution_count": 58,
   "metadata": {},
   "outputs": [
    {
     "data": {
      "text/plain": [
       "['./assembly/mapOpt/mapOpt96/mapping96.results',\n",
       " './assembly/mapOpt/mapOpt92/mapping92.results',\n",
       " './assembly/mapOpt/mapOpt88/mapping88.results']"
      ]
     },
     "execution_count": 58,
     "metadata": {},
     "output_type": "execute_result"
    }
   ],
   "source": [
    "mapResults = !find . -name 'mapping*results'\n",
    "mapResults"
   ]
  },
  {
   "cell_type": "code",
   "execution_count": 59,
   "metadata": {},
   "outputs": [
    {
     "name": "stdout",
     "output_type": "stream",
     "text": [
      "./assembly/mapOpt/mapOpt96/mapping96.results\n",
      "Cov\tNon0Cov\tContigs\tMeanContigsMapped\tK1\tK2\tSUM Mapped\tSUM Properly\tMean Mapped\tMean Properly\tMisMatched\n",
      "18.1176\t29.4848\t85804\t56829.1\t4\t4\t24873279\t0\t1.55458e+06\t0\t0\n",
      "22.4459\t33.0484\t66083\t47656.1\t4\t5\t23733049\t0\t1.48332e+06\t0\t0\n",
      "26.7913\t36.7378\t52759\t40424.5\t4\t6\t22616118\t0\t1.41351e+06\t0\t0\n",
      "31.5302\t40.8666\t42478\t34123.6\t4\t7\t21429935\t0\t1.33937e+06\t0\t0\n",
      "36.7612\t45.4635\t34288\t28640.6\t4\t8\t20168057\t0\t1.2605e+06\t0\t0\n",
      "42.7189\t50.7722\t27476\t23723.7\t4\t9\t18780609\t0\t1.17379e+06\t0\t0\n",
      "49.6699\t57.0958\t21707\t19271.2\t4\t10\t17251742\t0\t1.07823e+06\t0\t0\n",
      "20.1948\t31.5563\t75378\t51520.7\t5\t4\t24356196\t0\t1.52226e+06\t0\t0\n",
      "24.8691\t35.4569\t58198\t43031.7\t5\t5\t23157675\t0\t1.44735e+06\t0\t0\n",
      "29.7404\t39.6711\t46214\t36177.4\t5\t6\t21991283\t0\t1.37446e+06\t0\t0\n",
      "34.9174\t44.1773\t37096\t30369.4\t5\t7\t20725276\t0\t1.29533e+06\t0\t0\n",
      "40.6329\t49.2846\t29828\t25287.6\t5\t8\t19392627\t0\t1.21204e+06\t0\t0\n",
      "47.2068\t55.2467\t23817\t20815.6\t5\t9\t17989952\t0\t1124372\t0\t0\n",
      "54.7739\t62.1367\t18721\t16796.7\t5\t10\t16407632\t0\t1025477\t0\t0\n",
      "22.262\t33.6313\t66923\t46966.2\t6\t4\t23837798\t0\t1.48986e+06\t0\t0\n",
      "27.3313\t37.9115\t51727\t39071.2\t6\t5\t22620712\t0\t1.41379e+06\t0\t0\n",
      "32.6281\t42.5271\t40894\t32591\t6\t6\t21349237\t0\t1.33433e+06\t0\t0\n",
      "38.1996\t47.4459\t32797\t27232.4\t6\t7\t20045909\t0\t1.25287e+06\t0\t0\n",
      "44.5021\t53.1495\t26215\t22501.1\t6\t8\t18666674\t0\t1.16667e+06\t0\t0\n",
      "51.8371\t59.7773\t20737\t18340.1\t6\t9\t17199948\t0\t1.075e+06\t0\t0\n",
      "59.9228\t67.2227\t16335\t14787.2\t6\t10\t15662392\t0\t978900\t0\t0\n",
      "24.2775\t35.6488\t60066\t43112.2\t7\t4\t23332439\t0\t1.45828e+06\t0\t0\n",
      "29.7864\t40.3657\t46278\t35605.2\t7\t5\t22055787\t0\t1.37849e+06\t0\t0\n",
      "35.3775\t45.2725\t36582\t29574.9\t7\t6\t20707464\t0\t1.29422e+06\t0\t0\n",
      "41.5425\t50.7878\t29134\t24493.5\t7\t7\t19365451\t0\t1.21034e+06\t0\t0\n",
      "48.4\t57.069\t23203\t20117.4\t7\t8\t17969171\t0\t1.12307e+06\t0\t0\n",
      "56.5003\t64.4336\t18256\t16285.4\t7\t9\t16504408\t0\t1.03153e+06\t0\t0\n",
      "65.3183\t72.583\t14295\t13042.9\t7\t10\t14940656\t0\t933791\t0\t0\n",
      "26.3331\t37.681\t54137\t39665.3\t8\t4\t22809962\t0\t1.42562e+06\t0\t0\n",
      "32.2304\t42.825\t41605\t32508.3\t8\t5\t21455672\t0\t1.34098e+06\t0\t0\n",
      "38.2539\t48.1435\t32825\t26889.1\t8\t6\t20091540\t0\t1.25572e+06\t0\t0\n",
      "44.8989\t54.1374\t26086\t22167\t8\t7\t18740434\t0\t1.17128e+06\t0\t0\n",
      "52.3508\t60.9926\t20656\t18080.4\t8\t8\t17302552\t0\t1.08141e+06\t0\t0\n",
      "61.3134\t69.2727\t16167\t14531\t8\t9\t15861048\t0\t991316\t0\t0\n",
      "70.7731\t78.0651\t12632\t11592.9\t8\t10\t14305233\t0\t894077\t0\t0\n",
      "28.4464\t39.8209\t48986\t36528.6\t9\t4\t22296074\t0\t1.3935e+06\t0\t0\n",
      "34.6387\t45.2331\t37692\t29859.8\t9\t5\t20890164\t0\t1.30564e+06\t0\t0\n",
      "41.1945\t51.0878\t29569\t24499.1\t9\t6\t19489927\t0\t1.21812e+06\t0\t0\n",
      "48.3425\t57.611\t23406\t20072.8\t9\t7\t18104837\t0\t1.13155e+06\t0\t0\n",
      "56.6158\t65.2711\t18415\t16255.2\t9\t8\t16682196\t0\t1.04264e+06\t0\t0\n",
      "66.1787\t74.1315\t14397\t13027.4\t9\t9\t15245466\t0\t952842\t0\t0\n",
      "76.2561\t83.5209\t11246\t10380.9\t9\t10\t13722432\t0\t857652\t0\t0\n",
      "30.5385\t41.9226\t44617\t33793.9\t10\t4\t21801070\t0\t1.36257e+06\t0\t0\n",
      "37.0681\t47.7023\t34355\t27536.5\t10\t5\t20376213\t0\t1.27351e+06\t0\t0\n",
      "44.0681\t53.988\t26811\t22430.4\t10\t6\t18904878\t0\t1.18155e+06\t0\t0\n",
      "51.7298\t61.0299\t21153\t18286\t10\t7\t17508693\t0\t1.09429e+06\t0\t0\n",
      "60.6714\t69.3461\t16533\t14695.6\t10\t8\t16050254\t0\t1.00314e+06\t0\t0\n",
      "71.0572\t79.0452\t12912\t11749.7\t10\t9\t14680981\t0\t917561\t0\t0\n",
      "81.7927\t89.1173\t10057\t9322.06\t10\t10\t13162734\t0\t822671\t0\t0\n",
      "\n",
      "\n",
      "./assembly/mapOpt/mapOpt92/mapping92.results\n",
      "Cov\tNon0Cov\tContigs\tMeanContigsMapped\tK1\tK2\tSUM Mapped\tSUM Properly\tMean Mapped\tMean Properly\tMisMatched\n",
      "21.2047\t33.5042\t73937\t50121.4\t4\t4\t26653132\t0\t1.56783e+06\t0\t0\n",
      "25.7029\t37.2286\t58149\t42490.8\t4\t5\t25408559\t0\t1.49462e+06\t0\t0\n",
      "30.1408\t41.0549\t47244\t36408.5\t4\t6\t24208079\t0\t1.424e+06\t0\t0\n",
      "34.9516\t45.2921\t38578\t31015.1\t4\t7\t22922790\t0\t1.3484e+06\t0\t0\n",
      "40.2422\t50.0039\t31539\t26266.1\t4\t8\t21577076\t0\t1.26924e+06\t0\t0\n",
      "46.1371\t55.3274\t25620\t21982.5\t4\t9\t20095329\t0\t1.18208e+06\t0\t0\n",
      "53.1282\t61.8006\t20463\t18014.3\t4\t10\t18482670\t0\t1.08722e+06\t0\t0\n",
      "23.4425\t35.7276\t65458\t45669.3\t5\t4\t26086865\t0\t1.53452e+06\t0\t0\n",
      "28.2815\t39.8103\t51557\t38544.4\t5\t5\t24788307\t0\t1.45814e+06\t0\t0\n",
      "33.189\t44.0867\t41665\t32754.8\t5\t6\t23508463\t0\t1.38285e+06\t0\t0\n",
      "38.4925\t48.7817\t33879\t27723.9\t5\t7\t22170122\t0\t1.30412e+06\t0\t0\n",
      "44.1975\t53.9311\t27597\t23308.8\t5\t8\t20735979\t0\t1.21976e+06\t0\t0\n",
      "50.8041\t60.039\t22292\t19350\t5\t9\t19253783\t0\t1.13258e+06\t0\t0\n",
      "58.3453\t67.0857\t17739\t15765.5\t5\t10\t17595779\t0\t1.03505e+06\t0\t0\n",
      "25.6359\t37.9135\t58566\t41851.5\t6\t4\t25524078\t0\t1.50142e+06\t0\t0\n",
      "30.8435\t42.3481\t46141\t35180.6\t6\t5\t24194097\t0\t1.42318e+06\t0\t0\n",
      "36.2103\t47.0883\t37068\t29627.9\t6\t6\t22818726\t0\t1342278\t0\t0\n",
      "41.9072\t52.1884\t30088\t24956.4\t6\t7\t21436082\t0\t1260946\t0\t0\n",
      "48.2595\t58.0421\t24349\t20805.6\t6\t8\t19977005\t0\t1.17512e+06\t0\t0\n",
      "55.5629\t64.7887\t19505\t17119.6\t6\t9\t18424783\t0\t1.08381e+06\t0\t0\n",
      "63.6992\t72.4883\t15545\t13932.4\t6\t10\t16834551\t0\t990268\t0\t0\n",
      "27.7975\t40.0961\t52903\t38568.9\t7\t4\t25000196\t0\t1.4706e+06\t0\t0\n",
      "33.4509\t44.9783\t41487\t32165.1\t7\t5\t23592772\t0\t1.38781e+06\t0\t0\n",
      "39.1156\t50.0296\t33310\t26971.8\t7\t6\t22150625\t0\t1.30298e+06\t0\t0\n",
      "45.4134\t55.7797\t26840\t22508.4\t7\t7\t20721991\t0\t1.21894e+06\t0\t0\n",
      "52.3643\t62.2525\t21625\t18649.8\t7\t8\t19251308\t0\t1.13243e+06\t0\t0\n",
      "60.3865\t69.6961\t17238\t15250.2\t7\t9\t17697042\t0\t1.041e+06\t0\t0\n",
      "69.2284\t78.0477\t13646\t12325.4\t7\t10\t16060918\t0\t944760\t0\t0\n",
      "29.9599\t42.2379\t47962\t35622.9\t8\t4\t24428402\t0\t1.43696e+06\t0\t0\n",
      "36.0129\t47.5593\t37476\t29473.9\t8\t5\t22944112\t0\t1.34965e+06\t0\t0\n",
      "42.0962\t53.0463\t30029\t24610.5\t8\t6\t21490558\t0\t1.26415e+06\t0\t0\n",
      "48.7961\t59.1746\t24166\t20473.4\t8\t7\t20047359\t0\t1.17926e+06\t0\t0\n",
      "56.3962\t66.3236\t19332\t16820.1\t8\t8\t18535230\t0\t1.09031e+06\t0\t0\n",
      "65.3052\t74.7133\t15313\t13647.2\t8\t9\t17001421\t0\t1.00008e+06\t0\t0\n",
      "74.8506\t83.7504\t12084\t10981.6\t8\t10\t15377685\t0\t904570\t0\t0\n",
      "32.1958\t44.5013\t43610\t32916.1\t9\t4\t23869536\t0\t1.40409e+06\t0\t0\n",
      "38.5597\t50.1294\t34091\t27151.1\t9\t5\t22347801\t0\t1.31458e+06\t0\t0\n",
      "45.1417\t56.1128\t27184\t22521.2\t9\t6\t20862006\t0\t1.22718e+06\t0\t0\n",
      "52.4161\t62.8888\t21755\t18589.8\t9\t7\t19386201\t0\t1.14036e+06\t0\t0\n",
      "60.8328\t70.8451\t17289\t15163.1\t9\t8\t17880587\t0\t1.0518e+06\t0\t0\n",
      "70.362\t79.8173\t13666\t12261.5\t9\t9\t16347836\t0\t961637\t0\t0\n",
      "80.6361\t89.5663\t10773\t9849.76\t9\t10\t14769149\t0\t868773\t0\t0\n",
      "34.3751\t46.6794\t39909\t30556\t10\t4\t23322459\t0\t1.37191e+06\t0\t0\n",
      "41.0633\t52.714\t31231\t25130.1\t10\t5\t21802300\t0\t1.28249e+06\t0\t0\n",
      "48.1345\t59.185\t24729\t20666.8\t10\t6\t20236224\t0\t1.19037e+06\t0\t0\n",
      "56.0019\t66.5453\t19705\t16967.3\t10\t7\t18760765\t0\t1.10357e+06\t0\t0\n",
      "65.001\t75.1148\t15570\t13740.3\t10\t8\t17206224\t0\t1.01213e+06\t0\t0\n",
      "75.4086\t84.9474\t12283\t11082.8\t10\t9\t15747426\t0\t926319\t0\t0\n",
      "86.289\t95.3495\t9661\t8869.71\t10\t10\t14173323\t0\t833725\t0\t0\n",
      "\n",
      "\n",
      "./assembly/mapOpt/mapOpt88/mapping88.results\n",
      "Cov\tNon0Cov\tContigs\tMeanContigsMapped\tK1\tK2\tSUM Mapped\tSUM Properly\tMean Mapped\tMean Properly\tMisMatched\n",
      "23.7452\t36.223\t65876\t45972.8\t4\t4\t25028203\t0\t1.56426e+06\t0\t0\n",
      "28.3409\t39.9882\t52610\t39278\t4\t5\t23856710\t0\t1.49104e+06\t0\t0\n",
      "32.7863\t43.7702\t43329\t33941.1\t4\t6\t22730090\t0\t1.42063e+06\t0\t0\n",
      "37.5141\t47.9125\t35859\t29168.3\t4\t7\t21524062\t0\t1.34525e+06\t0\t0\n",
      "42.6913\t52.5258\t29651\t24887.7\t4\t8\t20254115\t0\t1.26588e+06\t0\t0\n",
      "48.3869\t57.7014\t24379\t21007.6\t4\t9\t18874762\t0\t1.17967e+06\t0\t0\n",
      "55.1765\t63.9971\t19664\t17346.6\t4\t10\t17360734\t0\t1.08505e+06\t0\t0\n",
      "26.0905\t38.5293\t58672\t42017.6\t5\t4\t24492913\t0\t1.53081e+06\t0\t0\n",
      "31.0308\t42.6458\t46869\t35735.1\t5\t5\t23270631\t0\t1.45441e+06\t0\t0\n",
      "35.9234\t46.8775\t38396\t30621.1\t5\t6\t22069637\t0\t1.37935e+06\t0\t0\n",
      "41.1218\t51.4648\t31648\t26157\t5\t7\t20823413\t0\t1.30146e+06\t0\t0\n",
      "46.709\t56.5257\t26063\t22155.8\t5\t8\t19478795\t0\t1.21742e+06\t0\t0\n",
      "53.092\t62.4628\t21292\t18543.4\t5\t9\t18087794\t0\t1.13049e+06\t0\t0\n",
      "60.4257\t69.3456\t17108\t15222.9\t5\t10\t16541172\t0\t1.03382e+06\t0\t0\n",
      "28.3687\t40.7849\t52779\t38613.1\t6\t4\t23956783\t0\t1.4973e+06\t0\t0\n",
      "33.6687\t45.2441\t42160\t32721.9\t6\t5\t22712127\t0\t1.41951e+06\t0\t0\n",
      "38.9645\t49.8947\t34364\t27813.5\t6\t6\t21424216\t0\t1.33901e+06\t0\t0\n",
      "44.5069\t54.8745\t28255\t23623.9\t6\t7\t20121397\t0\t1.25759e+06\t0\t0\n",
      "50.7579\t60.6328\t23083\t19829.2\t6\t8\t18747106\t0\t1.17169e+06\t0\t0\n",
      "57.8485\t67.2195\t18694\t16449.3\t6\t9\t17303634\t0\t1.08148e+06\t0\t0\n",
      "65.7903\t74.7563\t15029\t13482.1\t6\t10\t15821234\t0\t988827\t0\t0\n",
      "30.59\t43.0067\t47937\t35704.3\t7\t4\t23462804\t0\t1.46643e+06\t0\t0\n",
      "36.2901\t47.8617\t38116\t30030.1\t7\t5\t22132304\t0\t1383269\t0\t0\n",
      "41.9061\t52.8644\t30998\t25384.6\t7\t6\t20784779\t0\t1.29905e+06\t0\t0\n",
      "48.0184\t58.4701\t25304\t21366.6\t7\t7\t19441684\t0\t1.21511e+06\t0\t0\n",
      "54.8254\t64.8105\t20590\t17835.9\t7\t8\t18062570\t0\t1.12891e+06\t0\t0\n",
      "62.6586\t72.1242\t16580\t14697.2\t7\t9\t16623089\t0\t1.03894e+06\t0\t0\n",
      "71.2612\t80.3039\t13246\t11965.1\t7\t10\t15103964\t0\t943998\t0\t0\n",
      "32.7657\t45.1385\t43702\t33089.1\t8\t4\t22911349\t0\t1.43196e+06\t0\t0\n",
      "38.8894\t50.47\t34575\t27586.9\t8\t5\t21514220\t0\t1.34464e+06\t0\t0\n",
      "44.8747\t55.8777\t28076\t23230.6\t8\t6\t20159171\t0\t1.25995e+06\t0\t0\n",
      "51.4034\t61.8724\t22860\t19478.9\t8\t7\t18802129\t0\t1.17513e+06\t0\t0\n",
      "58.8537\t68.9068\t18475\t16128.3\t8\t8\t17398110\t0\t1.08738e+06\t0\t0\n",
      "67.6058\t77.178\t14760\t13173.6\t8\t9\t15966861\t0\t997929\t0\t0\n",
      "76.9994\t86.1353\t11736\t10663.1\t8\t10\t14459873\t0\t903742\t0\t0\n",
      "35.0864\t47.4628\t39858\t30631\t9\t4\t22376147\t0\t1.39851e+06\t0\t0\n",
      "41.4365\t53.0458\t31601\t25487.8\t9\t5\t20951591\t0\t1.30947e+06\t0\t0\n",
      "47.915\t58.9468\t25521\t21317.7\t9\t6\t19566179\t0\t1.22289e+06\t0\t0\n",
      "55.0738\t65.6556\t20641\t17723.4\t9\t7\t18189344\t0\t1136834\t0\t0\n",
      "63.3145\t73.4529\t16570\t14573.9\t9\t8\t16786963\t0\t1.04919e+06\t0\t0\n",
      "72.6646\t82.2871\t13201\t11856.8\t9\t9\t15349084\t0\t959318\t0\t0\n",
      "82.8532\t92.0217\t10480\t9578.38\t9\t10\t13894144\t0\t868384\t0\t0\n",
      "37.2994\t49.6722\t36650\t28522.2\t10\t4\t21872992\t0\t1367062\t0\t0\n",
      "43.9492\t55.6412\t29079\t23666.5\t10\t5\t20448684\t0\t1.27804e+06\t0\t0\n",
      "50.8813\t62.0089\t23314\t19621.2\t10\t6\t18980760\t0\t1.1863e+06\t0\t0\n",
      "58.6729\t69.3372\t18751\t16212.8\t10\t7\t17603733\t0\t1.10023e+06\t0\t0\n",
      "67.5086\t77.761\t14956\t13229.3\t10\t8\t16155612\t0\t1.00973e+06\t0\t0\n",
      "77.769\t87.5025\t11886\t10730.8\t10\t9\t14791042\t0\t924440\t0\t0\n",
      "88.5692\t97.8971\t9410\t8633.31\t10\t10\t13336409\t0\t833526\t0\t0\n"
     ]
    },
    {
     "name": "stdout",
     "output_type": "stream",
     "text": [
      "\n",
      "\n"
     ]
    }
   ],
   "source": [
    "for mR in mapResults:\n",
    "    print(mR)\n",
    "    !cat $mR\n",
    "    print('\\n')"
   ]
  },
  {
   "cell_type": "code",
   "execution_count": 60,
   "metadata": {},
   "outputs": [
    {
     "name": "stderr",
     "output_type": "stream",
     "text": [
      "R[write to console]: data.table 1.14.6 using 32 threads (see ?getDTthreads).  Latest news: r-datatable.com\n",
      "\n"
     ]
    },
    {
     "name": "stdout",
     "output_type": "stream",
     "text": [
      "\n",
      "── Column specification ────────────────────────────────────────────────────────\n",
      "cols(\n",
      "  Cov = col_double(),\n",
      "  Non0Cov = col_double(),\n",
      "  Contigs = col_double(),\n",
      "  MeanContigsMapped = col_double(),\n",
      "  K1 = col_double(),\n",
      "  K2 = col_double(),\n",
      "  SUM = col_double(),\n",
      "  Mapped = col_double(),\n",
      "  SUM_1 = col_double(),\n",
      "  Properly = col_double(),\n",
      "  Mean = col_double(),\n",
      "  Mapped_1 = col_character(),\n",
      "  Mean_1 = col_character(),\n",
      "  Properly_1 = col_character(),\n",
      "  MisMatched = col_character()\n",
      ")\n",
      "\n"
     ]
    },
    {
     "name": "stderr",
     "output_type": "stream",
     "text": [
      "R[write to console]: Warning:\n",
      "R[write to console]:  49 parsing failures.\n",
      "row col   expected     actual                         file\n",
      "  1  -- 15 columns 11 columns 'mapOpt88/mapping88.results'\n",
      "  2  -- 15 columns 11 columns 'mapOpt88/mapping88.results'\n",
      "  3  -- 15 columns 11 columns 'mapOpt88/mapping88.results'\n",
      "  4  -- 15 columns 11 columns 'mapOpt88/mapping88.results'\n",
      "  5  -- 15 columns 11 columns 'mapOpt88/mapping88.results'\n",
      "... ... .......... .......... ............................\n",
      "See problems(...) for more details.\n",
      "\n",
      "\n"
     ]
    },
    {
     "name": "stdout",
     "output_type": "stream",
     "text": [
      "\n",
      "── Column specification ────────────────────────────────────────────────────────\n",
      "cols(\n",
      "  Cov = col_double(),\n",
      "  Non0Cov = col_double(),\n",
      "  Contigs = col_double(),\n",
      "  MeanContigsMapped = col_double(),\n",
      "  K1 = col_double(),\n",
      "  K2 = col_double(),\n",
      "  SUM = col_double(),\n",
      "  Mapped = col_double(),\n",
      "  SUM_1 = col_double(),\n",
      "  Properly = col_double(),\n",
      "  Mean = col_double(),\n",
      "  Mapped_1 = col_character(),\n",
      "  Mean_1 = col_character(),\n",
      "  Properly_1 = col_character(),\n",
      "  MisMatched = col_character()\n",
      ")\n",
      "\n"
     ]
    },
    {
     "name": "stderr",
     "output_type": "stream",
     "text": [
      "R[write to console]: Warning:\n",
      "R[write to console]:  49 parsing failures.\n",
      "row col   expected     actual                         file\n",
      "  1  -- 15 columns 11 columns 'mapOpt92/mapping92.results'\n",
      "  2  -- 15 columns 11 columns 'mapOpt92/mapping92.results'\n",
      "  3  -- 15 columns 11 columns 'mapOpt92/mapping92.results'\n",
      "  4  -- 15 columns 11 columns 'mapOpt92/mapping92.results'\n",
      "  5  -- 15 columns 11 columns 'mapOpt92/mapping92.results'\n",
      "... ... .......... .......... ............................\n",
      "See problems(...) for more details.\n",
      "\n",
      "\n"
     ]
    },
    {
     "name": "stdout",
     "output_type": "stream",
     "text": [
      "\n",
      "── Column specification ────────────────────────────────────────────────────────\n",
      "cols(\n",
      "  Cov = col_double(),\n",
      "  Non0Cov = col_double(),\n",
      "  Contigs = col_double(),\n",
      "  MeanContigsMapped = col_double(),\n",
      "  K1 = col_double(),\n",
      "  K2 = col_double(),\n",
      "  SUM = col_double(),\n",
      "  Mapped = col_double(),\n",
      "  SUM_1 = col_double(),\n",
      "  Properly = col_double(),\n",
      "  Mean = col_double(),\n",
      "  Mapped_1 = col_character(),\n",
      "  Mean_1 = col_character(),\n",
      "  Properly_1 = col_character(),\n",
      "  MisMatched = col_character()\n",
      ")\n",
      "\n"
     ]
    },
    {
     "name": "stderr",
     "output_type": "stream",
     "text": [
      "R[write to console]: Warning:\n",
      "R[write to console]:  49 parsing failures.\n",
      "row col   expected     actual                         file\n",
      "  1  -- 15 columns 11 columns 'mapOpt96/mapping96.results'\n",
      "  2  -- 15 columns 11 columns 'mapOpt96/mapping96.results'\n",
      "  3  -- 15 columns 11 columns 'mapOpt96/mapping96.results'\n",
      "  4  -- 15 columns 11 columns 'mapOpt96/mapping96.results'\n",
      "  5  -- 15 columns 11 columns 'mapOpt96/mapping96.results'\n",
      "... ... .......... .......... ............................\n",
      "See problems(...) for more details.\n",
      "\n",
      "\n"
     ]
    },
    {
     "name": "stdout",
     "output_type": "stream",
     "text": [
      "       Cov Non0Cov Contigs MeanContigsMapped K1 K2      SUM Mapped   SUM_1\n",
      "1: 23.7452 36.2230   65876           45972.8  4  4 25028203      0 1564260\n",
      "2: 28.3409 39.9882   52610           39278.0  4  5 23856710      0 1491040\n",
      "3: 32.7863 43.7702   43329           33941.1  4  6 22730090      0 1420630\n",
      "4: 37.5141 47.9125   35859           29168.3  4  7 21524062      0 1345250\n",
      "5: 42.6913 52.5258   29651           24887.7  4  8 20254115      0 1265880\n",
      "6: 48.3869 57.7014   24379           21007.6  4  9 18874762      0 1179670\n",
      "   Properly Mean Mapped_1 Mean_1 Properly_1 MisMatched   k sim      ratio\n",
      "1:        0    0     <NA>   <NA>       <NA>       <NA> 4_4  88 1.19910400\n",
      "2:        0    0     <NA>   <NA>       <NA>       <NA> 4_5  88 1.09923131\n",
      "3:        0    0     <NA>   <NA>       <NA>       <NA> 4_6  88 0.96294385\n",
      "4:        0    0     <NA>   <NA>       <NA>       <NA> 4_7  88 0.77719336\n",
      "5:        0    0     <NA>   <NA>       <NA>       <NA> 4_8  88 0.56848722\n",
      "6:        0    0     <NA>   <NA>       <NA>       <NA> 4_9  88 0.05565659\n"
     ]
    }
   ],
   "source": [
    "%%R \n",
    "library(readr)\n",
    "library(data.table)\n",
    "setwd('/data/gpfs/assoc/denovo/tfaske/SPCR/assembly/mapOpt')\n",
    "\n",
    "\n",
    "mapping88 <- read_table2('mapOpt88/mapping88.results')\n",
    "mapping88$k <- paste0(mapping88$K1,'_',mapping88$K2)\n",
    "mapping88$sim <- '88'\n",
    "mapping88$ratio <- abs( scale(mapping88$SUM_1) / (scale(mapping88$MeanContigsMapped) / scale(mapping88$Cov) ) ) \n",
    "\n",
    "mapping92 <- read_table2('mapOpt92/mapping92.results')\n",
    "mapping92$k <- paste0(mapping92$K1,'_',mapping92$K2)\n",
    "mapping92$sim <- '92'\n",
    "mapping92$ratio <- abs( scale(mapping92$SUM_1) / (scale(mapping92$MeanContigsMapped) / scale(mapping92$Cov) ) ) \n",
    "\n",
    "mapping96 <- read_table2('mapOpt96/mapping96.results')\n",
    "mapping96$k <- paste0(mapping96$K1,'_',mapping96$K2)\n",
    "mapping96$sim <- '96'\n",
    "mapping96$ratio <- abs( scale(mapping96$SUM_1) / (scale(mapping96$MeanContigsMapped) / scale(mapping96$Cov) ) )\n",
    "\n",
    "#print(mapping92)\n",
    "#print(mapping88)\n",
    "#print(mapping96)\n",
    "\n",
    "#map_df\n",
    "map_df <- rbindlist(list(mapping88,mapping92,mapping96))\n",
    "head(map_df)"
   ]
  },
  {
   "cell_type": "code",
   "execution_count": 61,
   "metadata": {},
   "outputs": [
    {
     "data": {
      "image/png": "[encoded data removed]"
     },
     "metadata": {},
     "output_type": "display_data"
    }
   ],
   "source": [
    "%%R\n",
    "ggplot(data=map_df,aes(x=k,y=ratio,color=as.factor(sim))) + \n",
    "    geom_line(aes(group=as.factor(sim))) + theme_bw()"
   ]
  },
  {
   "cell_type": "code",
   "execution_count": 63,
   "metadata": {},
   "outputs": [
    {
     "name": "stdout",
     "output_type": "stream",
     "text": [
      "              Cov           Non0Cov           Contigs MeanContigsMapped \n",
      "     4.648880e+01      5.660185e+01      3.097990e+04      2.473056e+04 \n",
      "               K1                K2               SUM             SUM_1 \n",
      "     7.000000e+00      7.000000e+00      1.980902e+07      1.212711e+06 \n"
     ]
    }
   ],
   "source": [
    "%%R \n",
    "colMeans(map_df[,c(1:7,9)])"
   ]
  },
  {
   "cell_type": "code",
   "execution_count": 62,
   "metadata": {},
   "outputs": [
    {
     "data": {
      "image/png": "[encoded data removed]"
     },
     "metadata": {},
     "output_type": "display_data"
    }
   ],
   "source": [
    "%%R\n",
    "map_top <- map_df[which(map_df$ratio > quantile(map_df$ratio,probs=.75)),]\n",
    "\n",
    "#SUM Properly\n",
    "ggplot(data=map_top,aes(x=k,y=ratio,color=as.factor(sim))) + \n",
    "    geom_line(aes(group=as.factor(sim))) + theme_bw()"
   ]
  },
  {
   "cell_type": "code",
   "execution_count": 64,
   "metadata": {},
   "outputs": [
    {
     "name": "stdout",
     "output_type": "stream",
     "text": [
      " [1] \"Cov\"               \"Non0Cov\"           \"Contigs\"          \n",
      " [4] \"MeanContigsMapped\" \"K1\"                \"K2\"               \n",
      " [7] \"SUM\"               \"Mapped\"            \"SUM_1\"            \n",
      "[10] \"Properly\"          \"Mean\"              \"Mapped_1\"         \n",
      "[13] \"Mean_1\"            \"Properly_1\"        \"MisMatched\"       \n",
      "[16] \"k\"                 \"sim\"               \"ratio\"            \n"
     ]
    }
   ],
   "source": [
    "%%R\n",
    "names(map_df)"
   ]
  },
  {
   "cell_type": "code",
   "execution_count": 65,
   "metadata": {},
   "outputs": [
    {
     "name": "stdout",
     "output_type": "stream",
     "text": [
      "       Cov Non0Cov Contigs MeanContigsMapped K1 K2      SUM   SUM_1 sim\n",
      "1: 44.8747 55.8777   28076           23230.6  8  6 20159171 1259950  88\n",
      "2: 42.0962 53.0463   30029           24610.5  8  6 21490558 1264150  92\n",
      "3: 38.2539 48.1435   32825           26889.1  8  6 20091540 1255720  96\n",
      "      ratio\n",
      "1: 2.729166\n",
      "2: 3.890261\n",
      "3: 8.438276\n"
     ]
    }
   ],
   "source": [
    "%%R\n",
    "map_df[which(map_df$k %in% c('8_6')),c(1:7,9,17,18)]"
   ]
  },
  {
   "cell_type": "markdown",
   "metadata": {},
   "source": [
    "# Map results \n",
    "    sim=96 K1=8 k2=6 WINNER\n",
    "    \n",
    "    remake reference in fastq using these parameters. Move reference.fasta to assembly dir"
   ]
  },
  {
   "cell_type": "code",
   "execution_count": null,
   "metadata": {},
   "outputs": [],
   "source": []
  }
 ],
 "metadata": {
  "kernelspec": {
   "display_name": "Python 3 (ipykernel)",
   "language": "python",
   "name": "python3"
  },
  "language_info": {
   "codemirror_mode": {
    "name": "ipython",
    "version": 3
   },
   "file_extension": ".py",
   "mimetype": "text/x-python",
   "name": "python",
   "nbconvert_exporter": "python",
   "pygments_lexer": "ipython3",
   "version": "3.11.0"
  }
 },
 "nbformat": 4,
 "nbformat_minor": 1
}
