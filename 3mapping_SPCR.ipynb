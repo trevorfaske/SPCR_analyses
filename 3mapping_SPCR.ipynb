{
 "cells": [
  {
   "cell_type": "markdown",
   "metadata": {},
   "source": [
    "# Mapping using bwa-mem\n",
    "\n",
    "Was considering using bwa-mem2 (https://github.com/bwa-mem2/bwa-mem2). It's much faster but needs much more memory. We don't have a speed problem so not needed\n",
    "\n",
    "use preferred conda env  \n",
    "**Packages needed**: bwa-mem, samtools"
   ]
  },
  {
   "cell_type": "code",
   "execution_count": 1,
   "metadata": {
    "ExecuteTime": {}
   },
   "outputs": [],
   "source": [
    "import sys\n",
    "import ipyparallel as ipp\n",
    "import os\n",
    "from os import environ\n",
    "import gzip\n",
    "import warnings\n",
    "import pandas as pd\n",
    "import numpy as np\n",
    "import scipy as sp\n",
    "import glob\n",
    "import re\n",
    "import random"
   ]
  },
  {
   "cell_type": "code",
   "execution_count": 2,
   "metadata": {
    "ExecuteTime": {}
   },
   "outputs": [],
   "source": [
    "root = \"/data/gpfs/assoc/denovo/tfaske/SPCR/\""
   ]
  },
  {
   "cell_type": "code",
   "execution_count": 3,
   "metadata": {
    "ExecuteTime": {}
   },
   "outputs": [
    {
     "name": "stdout",
     "output_type": "stream",
     "text": [
      "/data/gpfs/assoc/denovo/tfaske/SPCR\n"
     ]
    }
   ],
   "source": [
    "cd $root"
   ]
  },
  {
   "cell_type": "code",
   "execution_count": 4,
   "metadata": {},
   "outputs": [],
   "source": [
    "fq_dir = '/data/gpfs/assoc/denovo/tfaske/SPCR/fastq'"
   ]
  },
  {
   "cell_type": "code",
   "execution_count": 5,
   "metadata": {
    "ExecuteTime": {}
   },
   "outputs": [
    {
     "data": {
      "text/plain": [
       "'/data/gpfs/assoc/denovo/tfaske/SPCR'"
      ]
     },
     "execution_count": 5,
     "metadata": {},
     "output_type": "execute_result"
    }
   ],
   "source": [
    "pwd"
   ]
  },
  {
   "cell_type": "markdown",
   "metadata": {},
   "source": [
    "## Assembly\n",
    "\n",
    "with dDocent c=.96, k1=8, k2=6"
   ]
  },
  {
   "cell_type": "code",
   "execution_count": 6,
   "metadata": {
    "ExecuteTime": {}
   },
   "outputs": [],
   "source": [
    "assembly = os.path.join(root,\"assembly/reference.fasta\")"
   ]
  },
  {
   "cell_type": "code",
   "execution_count": 7,
   "metadata": {},
   "outputs": [],
   "source": [
    "!samtools faidx $assembly"
   ]
  },
  {
   "cell_type": "markdown",
   "metadata": {},
   "source": [
    "## Actual Mapping \n",
    " "
   ]
  },
  {
   "cell_type": "code",
   "execution_count": 8,
   "metadata": {
    "ExecuteTime": {}
   },
   "outputs": [],
   "source": [
    "fastq_files = []\n",
    "files = !find $fq_dir -name '*fq.gz'\n",
    "files = [os.path.abspath(x) for x in files]\n",
    "for x in files:\n",
    "    fastq_files.append(x)\n",
    "fastq_files = sorted(fastq_files)"
   ]
  },
  {
   "cell_type": "code",
   "execution_count": 9,
   "metadata": {
    "ExecuteTime": {}
   },
   "outputs": [
    {
     "data": {
      "text/plain": [
       "(626, '/data/gpfs/assoc/denovo/tfaske/SPCR/fastq/SE10_F_1.fq.gz')"
      ]
     },
     "execution_count": 9,
     "metadata": {},
     "output_type": "execute_result"
    }
   ],
   "source": [
    "len(fastq_files),fastq_files[0]"
   ]
  },
  {
   "cell_type": "code",
   "execution_count": 10,
   "metadata": {},
   "outputs": [
    {
     "name": "stdout",
     "output_type": "stream",
     "text": [
      "/data/gpfs/assoc/denovo/tfaske/SPCR\n"
     ]
    }
   ],
   "source": [
    "cd $root"
   ]
  },
  {
   "cell_type": "code",
   "execution_count": 29,
   "metadata": {
    "ExecuteTime": {}
   },
   "outputs": [],
   "source": [
    "# -k INT minimum seed length [19]\n",
    "# -w INT band width for banded alignment [100]\n",
    "# -r FLOAT look for internal seeds inside a seed longer than {-k} * FLOAT [1.5]\n",
    "# -T INT minimum score to output [30]\n",
    "# -R STR read group header line such as '@RG\\tID:foo\\tSM:bar' [null]\n",
    "\n",
    "#@lview.remote()\n",
    "def run_bwamem(args):\n",
    "    import os, multiprocessing, socket\n",
    "    cpus = 1\n",
    "    assembly, fq, outdir = args\n",
    "    ID = fq.split('/')[8] ### need to change this to match your ID \n",
    "    ID = ID.split('.fq.')[0] ### This too \n",
    "    sam = os.path.join(outdir, \"{}.sam\".format(os.path.basename(ID)))\n",
    "    bam = sam.replace('.sam','.bam')\n",
    "    bam_sorted = \"%s_sorted.bam\" % bam.replace(\".bam\", \"\")\n",
    "    bwa_cmd = r\"bwa mem -k 20 -w 100 -r 1.3 -T 30 -R '@RG\\tID:%s\\tLB:%s\\tSM:%s\\tPL:ILLUMINA' %s %s > %s\" % (ID,ID,ID,assembly,fq,sam)\n",
    "    s2b_cmd =  \"samtools view -b %s -o %s\\n\\nsamtools sort -@ %s %s -o %s\\n\\nsamtools index %s\\n\\n\" % (sam,bam,cpus,bam,bam_sorted,bam_sorted)                                                              \n",
    "    return  bwa_cmd,s2b_cmd "
   ]
  },
  {
   "cell_type": "code",
   "execution_count": 30,
   "metadata": {},
   "outputs": [],
   "source": [
    "!mkdir SNPcall"
   ]
  },
  {
   "cell_type": "code",
   "execution_count": 31,
   "metadata": {},
   "outputs": [],
   "source": [
    "!mkdir SNPcall/bwa"
   ]
  },
  {
   "cell_type": "code",
   "execution_count": 32,
   "metadata": {},
   "outputs": [],
   "source": [
    "!mkdir SNPcall/bwa/shdir"
   ]
  },
  {
   "cell_type": "code",
   "execution_count": 33,
   "metadata": {},
   "outputs": [],
   "source": [
    "bwa_dir = os.path.join(root,\"SNPcall/bwa/\")\n",
    "assert(bwa_dir)"
   ]
  },
  {
   "cell_type": "code",
   "execution_count": 34,
   "metadata": {},
   "outputs": [],
   "source": [
    "### creates a list of commands for bwa-mem for each fastq file\n",
    "res_bwa = []\n",
    "res_s2b = []\n",
    "for f in fastq_files:\n",
    "    r1,r2 = run_bwamem((assembly, f, bwa_dir))\n",
    "    res_bwa.append(r1)\n",
    "    res_s2b.append(r2)"
   ]
  },
  {
   "cell_type": "code",
   "execution_count": 35,
   "metadata": {},
   "outputs": [
    {
     "data": {
      "text/plain": [
       "(626,\n",
       " \"bwa mem -k 20 -w 100 -r 1.3 -T 30 -R '@RG\\\\tID:SE10_F_1\\\\tLB:SE10_F_1\\\\tSM:SE10_F_1\\\\tPL:ILLUMINA' /data/gpfs/assoc/denovo/tfaske/SPCR/assembly/reference.fasta /data/gpfs/assoc/denovo/tfaske/SPCR/fastq/SE10_F_1.fq.gz > /data/gpfs/assoc/denovo/tfaske/SPCR/SNPcall/bwa/SE10_F_1.sam\")"
      ]
     },
     "execution_count": 35,
     "metadata": {},
     "output_type": "execute_result"
    }
   ],
   "source": [
    "len(res_bwa),res_bwa[0]"
   ]
  },
  {
   "cell_type": "code",
   "execution_count": 36,
   "metadata": {},
   "outputs": [
    {
     "data": {
      "text/plain": [
       "(626,\n",
       " 'samtools view -b /data/gpfs/assoc/denovo/tfaske/SPCR/SNPcall/bwa/SE10_F_1.sam -o /data/gpfs/assoc/denovo/tfaske/SPCR/SNPcall/bwa/SE10_F_1.bam\\n\\nsamtools sort -@ 1 /data/gpfs/assoc/denovo/tfaske/SPCR/SNPcall/bwa/SE10_F_1.bam -o /data/gpfs/assoc/denovo/tfaske/SPCR/SNPcall/bwa/SE10_F_1_sorted.bam\\n\\nsamtools index /data/gpfs/assoc/denovo/tfaske/SPCR/SNPcall/bwa/SE10_F_1_sorted.bam\\n\\n')"
      ]
     },
     "execution_count": 36,
     "metadata": {},
     "output_type": "execute_result"
    }
   ],
   "source": [
    "len(res_s2b),res_s2b[0]"
   ]
  },
  {
   "cell_type": "code",
   "execution_count": 37,
   "metadata": {},
   "outputs": [
    {
     "name": "stdout",
     "output_type": "stream",
     "text": [
      "/data/gpfs/assoc/denovo/tfaske/SPCR/SNPcall/bwa\n"
     ]
    }
   ],
   "source": [
    "cd $bwa_dir"
   ]
  },
  {
   "cell_type": "markdown",
   "metadata": {},
   "source": [
    "#### Below selects options for slurm submission and is a function for creating a slurm script per fastq"
   ]
  },
  {
   "cell_type": "code",
   "execution_count": 38,
   "metadata": {},
   "outputs": [],
   "source": [
    "fq_ID = [fq.split('/')[8].split('.fq.')[0] for fq in fastq_files]"
   ]
  },
  {
   "cell_type": "code",
   "execution_count": 39,
   "metadata": {},
   "outputs": [
    {
     "data": {
      "text/plain": [
       "(626, 'SE10_F_1')"
      ]
     },
     "execution_count": 39,
     "metadata": {},
     "output_type": "execute_result"
    }
   ],
   "source": [
    "len(fq_ID), fq_ID[0]"
   ]
  },
  {
   "cell_type": "code",
   "execution_count": 40,
   "metadata": {},
   "outputs": [],
   "source": [
    "### select options for slurm submission\n",
    "account = 'cpu-s5-denovo-0'\n",
    "partition = 'cpu-core-0'\n",
    "jobname = 'bwa_SPCR'\n",
    "time = '1-00:00:00' #time limit 1 day\n",
    "cpus = 1\n",
    "mem_cpu = 10000\n",
    "email = 'tfaske@nevada.unr.edu'"
   ]
  },
  {
   "cell_type": "code",
   "execution_count": 41,
   "metadata": {},
   "outputs": [],
   "source": [
    "def write_bwamem_ind_sh(account,partition,time,jobname,cpus,mem_cpu,email,fq_ID,bwa_cmds,s2b_cmds):\n",
    "    #print(account)\n",
    "    #print(partition)\n",
    "    #print(cpus)\n",
    "    #print(email)\n",
    "    #print(cmds[0])\n",
    "    for i in range(0,len(bwa_cmds)):\n",
    "        with open(\"shdir/run_bwamem_%s.sh\" % (fq_ID[i]), \"w\") as o:\n",
    "            o.write(\"\"\"#!/usr/bin/env bash\n",
    "#SBATCH --account=%s\n",
    "#SBATCH --partition=%s\n",
    "#SBATCH --time=%s\n",
    "#SBATCH --ntasks 1\n",
    "#SBATCH --cpus-per-task %d\n",
    "#SBATCH --mem-per-cpu=%d\n",
    "#SBATCH --job-name %s_bwamem\n",
    "#SBATCH --output bwa/shdir/output_bwamem_%s.txt\n",
    "#SBATCH --mail-type=FAIL\n",
    "#SBATCH --mail-user=%s \\n\\n\n",
    "    \n",
    "%s \\n\\n\n",
    "%s \\n\"\"\" % (account,partition,time,int(cpus),int(mem_cpu),fq_ID[i],fq_ID[i],email,bwa_cmds[i],s2b_cmds[i]))"
   ]
  },
  {
   "cell_type": "code",
   "execution_count": 42,
   "metadata": {},
   "outputs": [],
   "source": [
    "write_bwamem_ind_sh(account,partition,time,jobname,cpus,mem_cpu,email,fq_ID,res_bwa,res_s2b)"
   ]
  },
  {
   "cell_type": "markdown",
   "metadata": {},
   "source": [
    "#### finds all bwa slurm scripts and writes bash script to sbatch them"
   ]
  },
  {
   "cell_type": "code",
   "execution_count": 43,
   "metadata": {},
   "outputs": [],
   "source": [
    "shbwa_files = []\n",
    "files = !find ./shdir -name '*.sh'\n",
    "files = [os.path.abspath(x) for x in files]\n",
    "for x in files:\n",
    "        shbwa_files.append(x)\n",
    "shbwa_files = sorted(shbwa_files)"
   ]
  },
  {
   "cell_type": "code",
   "execution_count": 44,
   "metadata": {},
   "outputs": [
    {
     "data": {
      "text/plain": [
       "(626,\n",
       " '/data/gpfs/assoc/denovo/tfaske/SPCR/SNPcall/bwa/shdir/run_bwamem_SE10_F_1.sh')"
      ]
     },
     "execution_count": 44,
     "metadata": {},
     "output_type": "execute_result"
    }
   ],
   "source": [
    "len(shbwa_files),shbwa_files[0]"
   ]
  },
  {
   "cell_type": "code",
   "execution_count": 45,
   "metadata": {},
   "outputs": [],
   "source": [
    "def write_bash_bwamem_sh(sh_files):\n",
    "    with open(\"SNPcall/run_bash_bwa.sh\", \"w\") as o:\n",
    "        o.write(\"\"\"#!/usr/bin/env bash \\n\\n\"\"\")\n",
    "        for f in sh_files:\n",
    "            o.write(\"sbatch %s \\n\" % (f))    "
   ]
  },
  {
   "cell_type": "code",
   "execution_count": 46,
   "metadata": {},
   "outputs": [
    {
     "name": "stdout",
     "output_type": "stream",
     "text": [
      "/data/gpfs/assoc/denovo/tfaske/SPCR\n"
     ]
    }
   ],
   "source": [
    "cd $root"
   ]
  },
  {
   "cell_type": "code",
   "execution_count": 47,
   "metadata": {},
   "outputs": [],
   "source": [
    "write_bash_bwamem_sh(shbwa_files)"
   ]
  },
  {
   "cell_type": "markdown",
   "metadata": {},
   "source": [
    "# Run run_bash_bwamem_sh locally\n",
    "    cd /data/gpfs/assoc/denovo/PHHA/SNPcall \n",
    "    source activate py36\n",
    "    bash run_bash_bwa.sh\n",
    "    \n",
    "## Remove sam files and unsorted bams\n",
    "\n",
    "       whatever, run in terminal. Move sorted bams, rm bam, mv back"
   ]
  },
  {
   "cell_type": "markdown",
   "metadata": {},
   "source": [
    "# Calculates coverage from bam_files (slowwwww)\n",
    "\n",
    "also outputs a file called \"bam_coverage.csv\" in the bam folder"
   ]
  },
  {
   "cell_type": "code",
   "execution_count": 48,
   "metadata": {},
   "outputs": [],
   "source": [
    "samtools = \"samtools\""
   ]
  },
  {
   "cell_type": "code",
   "execution_count": 49,
   "metadata": {},
   "outputs": [
    {
     "name": "stdout",
     "output_type": "stream",
     "text": [
      "/data/gpfs/assoc/denovo/tfaske/SPCR/SNPcall/bwa\n"
     ]
    }
   ],
   "source": [
    "cd $bwa_dir"
   ]
  },
  {
   "cell_type": "code",
   "execution_count": 50,
   "metadata": {},
   "outputs": [
    {
     "data": {
      "text/plain": [
       "(626, 626)"
      ]
     },
     "execution_count": 50,
     "metadata": {},
     "output_type": "execute_result"
    }
   ],
   "source": [
    "bam_files = []\n",
    "files = !find . -type f -name '*sorted.bam'\n",
    "files = [os.path.abspath(x) for x in files if 'bam' in x]\n",
    "for x in files:\n",
    "    bam_files.append(x)\n",
    "bam_files = sorted(bam_files)\n",
    "\n",
    "len(bam_files), len(fastq_files)"
   ]
  },
  {
   "cell_type": "code",
   "execution_count": 51,
   "metadata": {},
   "outputs": [
    {
     "data": {
      "text/plain": [
       "(626, '/data/gpfs/assoc/denovo/tfaske/SPCR/SNPcall/bwa/SE10_F_10_sorted.bam')"
      ]
     },
     "execution_count": 51,
     "metadata": {},
     "output_type": "execute_result"
    }
   ],
   "source": [
    "len(bam_files), bam_files[0]"
   ]
  },
  {
   "cell_type": "code",
   "execution_count": 52,
   "metadata": {},
   "outputs": [
    {
     "name": "stdout",
     "output_type": "stream",
     "text": [
      "16.451664426041077 SE10_F_10 0\n",
      "17.88378390263977 SE10_F_11 1\n",
      "18.102843412704296 SE10_F_12 2\n",
      "16.88780844262109 SE10_F_1 3\n",
      "13.565269247917353 SE10_F_2 4\n",
      "50.03893049155146 SE10_F_3 5\n",
      "25.534332133000255 SE10_F_4 6\n",
      "32.63413007605694 SE10_F_5 7\n",
      "16.11323962744994 SE10_F_6 8\n",
      "15.70459578048576 SE10_F_7 9\n",
      "23.503249821245102 SE10_F_8 10\n",
      "21.889632912661632 SE10_F_9 11\n",
      "20.886855360281917 SE1_F_10 12\n",
      "21.65559751660867 SE1_F_11 13\n",
      "14.026697738941037 SE1_F_12 14\n",
      "16.97337810919863 SE1_F_1 15\n",
      "18.264025259323777 SE1_F_2 16\n",
      "23.554715032797336 SE1_F_3 17\n",
      "25.440793527367127 SE1_F_4 18\n",
      "30.73852021520713 SE1_F_5 19\n",
      "20.02402831600353 SE1_F_6 20\n",
      "21.340599960442674 SE1_F_7 21\n",
      "16.063431532224417 SE1_F_8 22\n",
      "15.69634507844457 SE1_F_9 23\n",
      "18.470295370204248 SE2_F_10 24\n",
      "19.178853067101485 SE2_F_11 25\n",
      "12.787622752589408 SE2_F_12 26\n",
      "30.704615688999557 SE2_F_1 27\n",
      "20.72046187155862 SE2_F_2 28\n",
      "21.418897811822514 SE2_F_3 29\n",
      "16.57751549235233 SE2_F_4 30\n",
      "11.06175990984973 SE2_F_5 31\n",
      "14.20671954708883 SE2_F_6 32\n",
      "15.22623025737134 SE2_F_7 33\n",
      "12.91923549536329 SE2_F_8 34\n",
      "12.860428858715238 SE2_F_9 35\n",
      "18.43240644129356 SE3_F_10 36\n",
      "17.944385308589453 SE3_F_11 37\n",
      "16.84997987839002 SE3_F_12 38\n",
      "17.407928337495957 SE3_F_1 39\n",
      "14.883519872312755 SE3_F_2 40\n",
      "14.747933392332692 SE3_F_3 41\n",
      "16.574268926768415 SE3_F_4 42\n",
      "23.77798145397267 SE3_F_5 43\n",
      "18.015604935993167 SE3_F_6 44\n",
      "16.1407187499105 SE3_F_7 45\n",
      "13.882911683934758 SE3_F_8 46\n",
      "15.35144865987165 SE3_F_9 47\n",
      "17.41355975737459 SE4_F_10 48\n",
      "16.397157096666554 SE4_F_11 49\n",
      "17.622626676804433 SE4_F_12 50\n",
      "22.95770664470985 SE4_F_1 51\n",
      "16.483240719248254 SE4_F_2 52\n",
      "22.000384708607342 SE4_F_3 53\n",
      "21.346880298938643 SE4_F_4 54\n",
      "15.443013852672225 SE4_F_5 55\n",
      "25.650497328957247 SE4_F_6 56\n",
      "16.7314257146707 SE4_F_7 57\n",
      "19.84688927246607 SE4_F_8 58\n",
      "24.094498238758113 SE4_F_9 59\n",
      "17.713445351776127 SE5_F_10 60\n",
      "11.833488911680748 SE5_F_11 61\n",
      "17.87194023587139 SE5_F_12 62\n",
      "16.842672773707868 SE5_F_1 63\n",
      "26.011410419493693 SE5_F_2 64\n",
      "68.7977798840832 SE5_F_3 65\n",
      "25.00762570217976 SE5_F_4 66\n",
      "52.85214489374486 SE5_F_5 67\n",
      "18.36788411947626 SE5_F_6 68\n",
      "27.19532861949293 SE5_F_7 69\n",
      "22.96807580899371 SE5_F_8 70\n",
      "22.4079436923162 SE5_F_9 71\n",
      "17.331602416112727 SE6_F_10 72\n",
      "22.95391051119382 SE6_F_11 73\n",
      "18.418021884555372 SE6_F_12 74\n",
      "10.868039635685937 SE6_F_1 75\n",
      "14.142994974803745 SE6_F_2 76\n",
      "25.218477217351914 SE6_F_3 77\n",
      "14.718831872311192 SE6_F_4 78\n",
      "26.14678587065299 SE6_F_5 79\n",
      "14.903330658459247 SE6_F_6 80\n",
      "19.6573421025429 SE6_F_7 81\n",
      "15.157493365141933 SE6_F_8 82\n",
      "10.054506691076933 SE6_F_9 83\n",
      "15.30134894902792 SE7_F_10 84\n",
      "15.427588816049443 SE7_F_11 85\n",
      "34.85793618236318 SE7_F_12 86\n",
      "14.562574730190287 SE7_F_1 87\n",
      "21.413587739976627 SE7_F_2 88\n",
      "18.29881501776416 SE7_F_3 89\n",
      "15.073194418371816 SE7_F_4 90\n",
      "11.262225507278615 SE7_F_5 91\n",
      "13.975435210867603 SE7_F_6 92\n",
      "21.153791861885843 SE7_F_7 93\n",
      "15.382012742923594 SE7_F_8 94\n",
      "13.761985506267152 SE7_F_9 95\n",
      "12.65579033413502 SE8_F_10 96\n",
      "10.676036371562898 SE8_F_11 97\n",
      "11.385639562789073 SE8_F_12 98\n",
      "14.428268861314157 SE8_F_1 99\n",
      "15.785998604166505 SE8_F_2 100\n",
      "14.865605694303692 SE8_F_3 101\n",
      "17.988550543592105 SE8_F_4 102\n",
      "5.222019220981131 SE8_F_5 103\n",
      "12.115410936799337 SE8_F_6 104\n",
      "9.955940098374876 SE8_F_7 105\n",
      "10.62806970941477 SE8_F_8 106\n",
      "15.02918612570539 SE8_F_9 107\n",
      "14.773304099317047 SE9_F_10 108\n",
      "17.9233320552396 SE9_F_11 109\n",
      "20.88302795694549 SE9_F_12 110\n",
      "19.255749735460064 SE9_F_1 111\n",
      "17.07734076238586 SE9_F_2 112\n",
      "15.127779766417728 SE9_F_3 113\n",
      "17.592769593353147 SE9_F_4 114\n",
      "16.59832386997181 SE9_F_5 115\n",
      "18.822857171364998 SE9_F_6 116\n",
      "11.699686083599127 SE9_F_7 117\n",
      "14.704310959478642 SE9_F_8 118\n",
      "14.06221212482184 SE9_F_9 119\n",
      "13.508278848892669 aguirre_W_10 120\n",
      "18.83655413457561 aguirre_W_1 121\n",
      "12.160498693075839 aguirre_W_2 122\n",
      "13.36317869656448 aguirre_W_3 123\n",
      "11.787517670928429 aguirre_W_4 124\n",
      "12.095596172477046 aguirre_W_5 125\n",
      "22.524578118730997 aguirre_W_6 126\n",
      "14.626002370110449 aguirre_W_7 127\n",
      "12.779123784471917 aguirre_W_8 128\n",
      "19.434243607049506 aguirre_W_9 129\n",
      "17.466568607663856 alamosa_W_10 130\n",
      "15.537486580535298 alamosa_W_1 131\n",
      "16.244030287881795 alamosa_W_2 132\n",
      "16.524378587807455 alamosa_W_3 133\n",
      "16.872214119923335 alamosa_W_4 134\n",
      "18.757516889581794 alamosa_W_5 135\n",
      "17.67846995845318 alamosa_W_6 136\n",
      "15.502996738923844 alamosa_W_7 137\n",
      "20.86013111587162 alamosa_W_8 138\n",
      "16.56332026884072 alamosa_W_9 139\n",
      "12.139271799108554 animas_W_1 140\n",
      "21.04256418446342 animas_W_2 141\n",
      "12.795740687778624 animas_W_3 142\n",
      "11.966889039592795 animas_W_4 143\n",
      "18.287969682203112 animas_W_5 144\n",
      "10.646601735805852 animas_W_6 145\n",
      "15.466070350024447 animas_W_7 146\n",
      "14.337124429182698 animas_W_8 147\n",
      "16.92173241610116 blackhawk_W_10 148\n",
      "18.3659572760351 blackhawk_W_1 149\n",
      "19.532365094271107 blackhawk_W_2 150\n",
      "11.419151434034985 blackhawk_W_3 151\n",
      "18.74058329986165 blackhawk_W_4 152\n",
      "15.06513238752245 blackhawk_W_5 153\n",
      "12.105206628677662 blackhawk_W_6 154\n",
      "18.39438386736486 blackhawk_W_7 155\n",
      "16.62904900659715 blackhawk_W_8 156\n",
      "16.800608899641094 blackhawk_W_9 157\n",
      "29.516245258766773 blm_W_10 158\n",
      "24.186375812980398 blm_W_11 159\n",
      "24.2915703146426 blm_W_12 160\n",
      "20.490721078175383 blm_W_1 161\n",
      "31.069489313731545 blm_W_2 162\n",
      "22.920511572615972 blm_W_3 163\n",
      "25.565939631874826 blm_W_4 164\n",
      "30.15396705719644 blm_W_5 165\n",
      "35.29480339963788 blm_W_6 166\n",
      "22.06316782020375 blm_W_7 167\n",
      "27.693954278254196 blm_W_8 168\n",
      "21.67744203969361 blm_W_9 169\n",
      "15.086812165601266 bonanza_W_10 170\n",
      "13.229225831964273 bonanza_W_11 171\n",
      "15.735524650135739 bonanza_W_12 172\n",
      "17.79519397381594 bonanza_W_1 173\n",
      "20.122333978293746 bonanza_W_2 174\n",
      "12.429789886089441 bonanza_W_3 175\n",
      "16.44228041695147 bonanza_W_4 176\n",
      "12.508196503323596 bonanza_W_5 177\n",
      "13.450665947179743 bonanza_W_6 178\n",
      "14.937306761799968 bonanza_W_7 179\n",
      "13.300425647656958 bonanza_W_8 180\n",
      "16.589396570837337 bonanza_W_9 181\n",
      "18.787575259989055 buckman1_W_10 182\n",
      "10.216092367958359 buckman1_W_1 183\n",
      "23.30155655928557 buckman1_W_2 184\n",
      "21.018297960403885 buckman1_W_3 185\n",
      "20.74335336879161 buckman1_W_4 186\n",
      "21.366517684728407 buckman1_W_5 187\n",
      "18.653867866446117 buckman1_W_6 188\n",
      "20.06773363912873 buckman1_W_7 189\n",
      "21.51714267481501 buckman1_W_8 190\n",
      "24.069160310688815 buckman1_W_9 191\n",
      "26.907775609111294 buckman2_W_10 192\n",
      "24.53031143501888 buckman2_W_11 193\n",
      "21.84963622921409 buckman2_W_12 194\n",
      "21.554697505171905 buckman2_W_1 195\n",
      "28.84371546297631 buckman2_W_2 196\n",
      "23.76828373837903 buckman2_W_3 197\n",
      "26.729519617771427 buckman2_W_4 198\n",
      "25.52359166583404 buckman2_W_5 199\n",
      "23.149682499287046 buckman2_W_6 200\n",
      "23.448069510043126 buckman2_W_7 201\n",
      "23.43797152691214 buckman2_W_8 202\n",
      "22.03689985118659 buckman2_W_9 203\n",
      "7.674201706934324 caballo_W_10 204\n",
      "26.198619221923526 caballo_W_1 205\n",
      "43.66786702376221 caballo_W_2 206\n",
      "24.5073926226772 caballo_W_3 207\n",
      "13.03443480939078 caballo_W_4 208\n",
      "10.490399462976066 caballo_W_5 209\n",
      "8.875245896260394 caballo_W_6 210\n",
      "8.515810939424096 caballo_W_7 211\n",
      "8.30725961032414 caballo_W_8 212\n",
      "10.740662753990698 caballo_W_9 213\n",
      "31.2460924692891 camino_W_10 214\n",
      "20.56820874296718 camino_W_11 215\n",
      "24.91277876590505 camino_W_12 216\n",
      "18.337388370543152 camino_W_13 217\n",
      "23.069299719508393 camino_W_14 218\n",
      "20.161874394987077 camino_W_15 219\n",
      "22.79202789620634 camino_W_16 220\n",
      "22.865269819960204 camino_W_17 221\n",
      "26.680824888715758 camino_W_18 222\n",
      "23.026565343225396 camino_W_19 223\n",
      "19.753486382747692 camino_W_1 224\n",
      "24.972895432357927 camino_W_20 225\n",
      "16.587161543034348 camino_W_21 226\n",
      "23.650641604269634 camino_W_22 227\n",
      "22.814613702146914 camino_W_23 228\n",
      "29.453496429748235 camino_W_24 229\n",
      "29.380759013768756 camino_W_2 230\n",
      "22.527753844174168 camino_W_3 231\n",
      "21.3021950177884 camino_W_4 232\n",
      "26.275391533922075 camino_W_5 233\n",
      "27.60513611396708 camino_W_6 234\n",
      "21.791849380801647 camino_W_7 235\n",
      "29.225682619814137 camino_W_8 236\n",
      "21.114796822904324 camino_W_9 237\n",
      "12.731927315563421 casitas_W_1 238\n",
      "14.008975742835801 casitas_W_2 239\n",
      "9.846428215807155 casitas_W_3 240\n",
      "13.9661774556528 casitas_W_4 241\n",
      "10.831144820187028 casitas_W_5 242\n",
      "8.9993767731698 casitas_W_6 243\n",
      "11.751551911968736 cerrillos_W_10 244\n",
      "10.37711664432674 cerrillos_W_11 245\n",
      "13.523378174013715 cerrillos_W_12 246\n",
      "9.22172451132648 cerrillos_W_1 247\n",
      "10.230670225021512 cerrillos_W_2 248\n",
      "11.40861508609159 cerrillos_W_3 249\n",
      "10.705425451161194 cerrillos_W_4 250\n",
      "11.236551434170602 cerrillos_W_5 251\n",
      "14.249183492567672 cerrillos_W_6 252\n"
     ]
    },
    {
     "name": "stdout",
     "output_type": "stream",
     "text": [
      "11.503933505864815 cerrillos_W_7 253\n",
      "20.334394941957648 cerrillos_W_8 254\n",
      "9.541080851525228 cerrillos_W_9 255\n",
      "16.68030386394027 cieneguilla_W_10 256\n",
      "17.702597157979852 cieneguilla_W_1 257\n",
      "20.598888186354657 cieneguilla_W_2 258\n",
      "10.73050810498913 cieneguilla_W_3 259\n",
      "18.867488208449736 cieneguilla_W_4 260\n",
      "28.202086115243084 cieneguilla_W_5 261\n",
      "10.616231913616405 cieneguilla_W_6 262\n",
      "18.263087388341404 cieneguilla_W_7 263\n",
      "19.859738671911433 cieneguilla_W_8 264\n",
      "14.356402437496556 cieneguilla_W_9 265\n",
      "32.350784376582055 dell_W_10 266\n",
      "26.54844700989419 dell_W_1 267\n",
      "30.43921908315565 dell_W_2 268\n",
      "33.827023145399636 dell_W_3 269\n",
      "35.60719816778381 dell_W_4 270\n",
      "13.988440367233528 dell_W_5 271\n",
      "35.68769923838237 dell_W_6 272\n",
      "29.080660134366482 dell_W_7 273\n",
      "32.45892902058012 dell_W_8 274\n",
      "34.787033433632786 dell_W_9 275\n",
      "8.197999857950062 elephant_W_10 276\n",
      "13.959976228945866 elephant_W_1 277\n",
      "13.235490286207446 elephant_W_2 278\n",
      "14.680505761634446 elephant_W_3 279\n",
      "11.853359788237379 elephant_W_4 280\n",
      "12.220503243741137 elephant_W_5 281\n",
      "14.207420470200926 elephant_W_6 282\n",
      "13.668492477885403 elephant_W_7 283\n",
      "11.552850088066513 elephant_W_8 284\n",
      "13.174793419368891 elephant_W_9 285\n",
      "11.99431922688365 hachita_W_10 286\n",
      "17.01460167179015 hachita_W_1 287\n",
      "12.12012658135603 hachita_W_2 288\n",
      "15.255880126713578 hachita_W_3 289\n",
      "12.666308883326495 hachita_W_4 290\n",
      "12.712798067116701 hachita_W_5 291\n",
      "13.858095862293485 hachita_W_6 292\n",
      "11.518974672235483 hachita_W_7 293\n",
      "13.2937516801786 hachita_W_8 294\n",
      "16.249234985881266 hachita_W_9 295\n",
      "11.566829566553006 horsemtn_W_10 296\n",
      "13.82452441149271 horsemtn_W_1 297\n",
      "11.23639811885019 horsemtn_W_2 298\n",
      "15.012558119792075 horsemtn_W_3 299\n",
      "14.504500268206852 horsemtn_W_4 300\n",
      "11.993390592184793 horsemtn_W_5 301\n",
      "14.264404197183344 horsemtn_W_6 302\n",
      "11.18251688328192 horsemtn_W_7 303\n",
      "11.079024688622585 horsemtn_W_8 304\n",
      "16.229477859390435 horsemtn_W_9 305\n",
      "14.230630020501794 jornada_W_10 306\n",
      "15.897976371635092 jornada_W_1 307\n",
      "17.92698876641584 jornada_W_2 308\n",
      "11.447373440992523 jornada_W_3 309\n",
      "15.187795953694764 jornada_W_4 310\n",
      "16.64114404455599 jornada_W_5 311\n",
      "10.481066701291915 jornada_W_6 312\n",
      "14.552486597137543 jornada_W_7 313\n",
      "14.162868738061169 jornada_W_8 314\n",
      "11.824428168987001 jornada_W_9 315\n",
      "11.108819175392577 kennedy_W_10 316\n",
      "11.016099001203761 kennedy_W_11 317\n",
      "20.060151772092365 kennedy_W_12 318\n",
      "10.451849962563996 kennedy_W_1 319\n",
      "12.742106973518691 kennedy_W_2 320\n",
      "10.970964206619854 kennedy_W_3 321\n",
      "13.660558251786638 kennedy_W_4 322\n",
      "9.582500815278316 kennedy_W_5 323\n",
      "12.548442133874683 kennedy_W_6 324\n",
      "12.027959273841367 kennedy_W_7 325\n",
      "12.757871041817742 kennedy_W_8 326\n",
      "13.159558936517277 kennedy_W_9 327\n",
      "25.71467910973554 nm14_W_10 328\n",
      "25.430750824255036 nm14_W_11 329\n",
      "23.9355536227288 nm14_W_12 330\n",
      "22.971889536353522 nm14_W_1 331\n",
      "24.43044274352045 nm14_W_2 332\n",
      "26.528197530000664 nm14_W_3 333\n",
      "26.696449091087125 nm14_W_4 334\n",
      "24.6423495451431 nm14_W_5 335\n",
      "27.547689487506773 nm14_W_6 336\n",
      "21.619530567500203 nm14_W_7 337\n",
      "54.541015115668216 nm14_W_8 338\n",
      "23.85067926359936 nm14_W_9 339\n",
      "9.947443911145067 percha_W_10 340\n",
      "15.958751757347128 percha_W_1 341\n",
      "12.191947216935642 percha_W_2 342\n",
      "13.91934145135781 percha_W_3 343\n",
      "10.456491812780756 percha_W_4 344\n",
      "13.462739374663176 percha_W_5 345\n",
      "9.728670777588613 percha_W_6 346\n",
      "11.028090461497007 percha_W_7 347\n",
      "9.85517546604053 percha_W_8 348\n",
      "11.416971608140658 percha_W_9 349\n",
      "15.742611113228763 petroglyph_W_10 350\n",
      "18.0262801707314 petroglyph_W_1 351\n",
      "14.45677950071047 petroglyph_W_2 352\n",
      "18.251032943859347 petroglyph_W_3 353\n",
      "14.913876296420208 petroglyph_W_4 354\n",
      "15.252596008076162 petroglyph_W_5 355\n",
      "14.477562927174011 petroglyph_W_6 356\n",
      "16.24153243954688 petroglyph_W_7 357\n",
      "15.632974550886367 petroglyph_W_8 358\n",
      "13.648659368527545 petroglyph_W_9 359\n",
      "7.594585777499343 pool_F_100 360\n",
      "12.77435092739301 pool_F_101 361\n",
      "17.329526930367532 pool_F_102 362\n",
      "9.469573515096773 pool_F_103 363\n",
      "16.353250545157795 pool_F_104 364\n",
      "16.00219051378521 pool_F_105 365\n",
      "22.37001217188823 pool_F_106 366\n",
      "10.216000093481242 pool_F_107 367\n",
      "17.502662441576916 pool_F_108 368\n",
      "15.308050878014258 pool_F_109 369\n",
      "13.401072059831732 pool_F_10 370\n",
      "10.868130192904001 pool_F_110 371\n",
      "12.760606876215277 pool_F_111 372\n",
      "16.744299163927167 pool_F_112 373\n",
      "12.478438334431017 pool_F_113 374\n",
      "15.368028321248593 pool_F_114 375\n",
      "13.897854935298103 pool_F_115 376\n",
      "8.939097097010507 pool_F_116 377\n",
      "17.93207945687962 pool_F_117 378\n",
      "15.675039236514667 pool_F_118 379\n",
      "10.023896962504192 pool_F_119 380\n",
      "9.66620996961477 pool_F_11 381\n",
      "14.769187616087134 pool_F_120 382\n",
      "13.71683856526256 pool_F_12 383\n",
      "11.796558149387845 pool_F_13 384\n",
      "9.45455126929053 pool_F_14 385\n",
      "12.876150463009663 pool_F_15 386\n",
      "5.5404013218404184 pool_F_16 387\n",
      "10.789179631159548 pool_F_17 388\n",
      "19.582340026264344 pool_F_18 389\n",
      "8.729974089021347 pool_F_19 390\n",
      "16.52382430724095 pool_F_1 391\n",
      "11.2057211417873 pool_F_20 392\n",
      "13.767640401255008 pool_F_21 393\n",
      "10.106246572317268 pool_F_22 394\n",
      "16.597635363608042 pool_F_23 395\n",
      "7.8396741624841475 pool_F_24 396\n",
      "9.405441427490114 pool_F_25 397\n",
      "14.48075276550837 pool_F_26 398\n",
      "14.746703785298081 pool_F_27 399\n",
      "12.476180417006306 pool_F_28 400\n",
      "15.11549532458631 pool_F_2 401\n",
      "13.089274065913255 pool_F_30 402\n",
      "10.33108145912529 pool_F_32 403\n",
      "11.945636720665282 pool_F_33 404\n",
      "17.47663415960277 pool_F_34 405\n",
      "13.479941367348689 pool_F_35 406\n",
      "13.545578910762629 pool_F_36 407\n",
      "14.066567009245375 pool_F_37 408\n",
      "11.884564240536584 pool_F_38 409\n",
      "16.043005834968568 pool_F_39 410\n",
      "6.893651107984177 pool_F_3 411\n",
      "11.694503001310997 pool_F_40 412\n",
      "12.385142901350545 pool_F_41 413\n",
      "26.783464937452578 pool_F_42 414\n",
      "8.483803590806817 pool_F_43 415\n",
      "14.360161434995415 pool_F_44 416\n",
      "9.145063757497748 pool_F_45 417\n",
      "14.857673230960902 pool_F_46 418\n",
      "13.595943526189062 pool_F_47 419\n",
      "7.661603918176576 pool_F_48 420\n",
      "22.416384809124946 pool_F_49 421\n",
      "10.86310152545262 pool_F_4 422\n",
      "19.976484769902093 pool_F_50 423\n",
      "18.765872989853726 pool_F_51 424\n",
      "13.511918758424432 pool_F_52 425\n",
      "11.770189110049175 pool_F_53 426\n",
      "13.097471746002896 pool_F_54 427\n",
      "14.13130166951662 pool_F_55 428\n",
      "13.781409632472897 pool_F_56 429\n",
      "14.336548575140858 pool_F_57 430\n",
      "10.008592411946815 pool_F_58 431\n",
      "9.478979377928601 pool_F_59 432\n",
      "10.505445991464825 pool_F_5 433\n",
      "11.979008303435783 pool_F_60 434\n",
      "11.85101128478812 pool_F_61 435\n",
      "10.882136055402748 pool_F_62 436\n",
      "21.435028752331586 pool_F_63 437\n",
      "13.964339527620455 pool_F_64 438\n",
      "15.456818375273489 pool_F_65 439\n",
      "21.664373039272643 pool_F_66 440\n",
      "11.090540578981804 pool_F_67 441\n",
      "12.849758093838938 pool_F_68 442\n",
      "11.681863141846707 pool_F_69 443\n",
      "8.267532801749612 pool_F_6 444\n",
      "13.081180020601934 pool_F_70 445\n",
      "28.94459177434552 pool_F_71 446\n",
      "10.487768969502028 pool_F_72 447\n",
      "15.291385079757589 pool_F_73 448\n",
      "21.33984593659356 pool_F_74 449\n",
      "45.25101451408331 pool_F_75 450\n",
      "11.629340722353472 pool_F_76 451\n",
      "14.072791065590485 pool_F_77 452\n",
      "19.591795800624407 pool_F_78 453\n",
      "12.036123346557925 pool_F_79 454\n",
      "17.108854264639774 pool_F_7 455\n",
      "10.483464397788405 pool_F_80 456\n",
      "12.715561084911805 pool_F_81 457\n",
      "14.079414087672697 pool_F_82 458\n",
      "10.917056636885095 pool_F_83 459\n",
      "13.025541329846792 pool_F_84 460\n",
      "12.497204550061072 pool_F_85 461\n",
      "12.438852938917204 pool_F_86 462\n",
      "22.104277151280474 pool_F_87 463\n",
      "11.369486833337756 pool_F_88 464\n",
      "10.914164712386007 pool_F_89 465\n",
      "6.7185668922938975 pool_F_8 466\n",
      "16.33454272732268 pool_F_90 467\n",
      "9.473293765982445 pool_F_91 468\n",
      "11.866428074892863 pool_F_92 469\n",
      "12.572428990972796 pool_F_93 470\n",
      "11.862833090015995 pool_F_94 471\n",
      "11.183085165774258 pool_F_95 472\n",
      "10.250624288084154 pool_F_96 473\n",
      "14.136598164118503 pool_F_97 474\n",
      "12.789036894720953 pool_F_98 475\n",
      "18.520487502811328 pool_F_99 476\n",
      "9.08455941912747 pool_F_9 477\n",
      "25.545834656062556 queen_W_10 478\n",
      "30.92601797688339 queen_W_1 479\n",
      "24.254936032591218 queen_W_2 480\n",
      "25.362760567919207 queen_W_3 481\n",
      "13.691241042058271 queen_W_4 482\n",
      "25.689120402136734 queen_W_5 483\n",
      "26.274499783017855 queen_W_6 484\n",
      "30.318485563134974 queen_W_7 485\n",
      "25.14621293125324 queen_W_8 486\n",
      "14.903924412960182 queen_W_9 487\n",
      "14.011017517926303 rda018_W_10 488\n",
      "12.085400624915797 rda018_W_1 489\n",
      "13.906399624491076 rda018_W_2 490\n",
      "13.64676033684923 rda018_W_3 491\n",
      "15.680708459424675 rda018_W_4 492\n",
      "15.529934482660252 rda018_W_5 493\n",
      "14.474981296267128 rda018_W_6 494\n",
      "13.013631152219975 rda018_W_7 495\n"
     ]
    },
    {
     "name": "stdout",
     "output_type": "stream",
     "text": [
      "14.125572528403737 rda018_W_8 496\n",
      "12.364415043467986 rda018_W_9 497\n",
      "15.656787990852028 redhill_W_10 498\n",
      "14.664175956280436 redhill_W_1 499\n",
      "13.395917280123983 redhill_W_2 500\n",
      "13.967037929643569 redhill_W_3 501\n",
      "14.569597329115462 redhill_W_4 502\n",
      "12.023910303972693 redhill_W_5 503\n",
      "13.812234897238659 redhill_W_6 504\n",
      "13.16628840402345 redhill_W_7 505\n",
      "12.37733371810594 redhill_W_8 506\n",
      "13.645183760243691 redhill_W_9 507\n",
      "14.19794566813604 sandias_W_10 508\n",
      "9.851313350206077 sandias_W_1 509\n",
      "13.441132243789232 sandias_W_2 510\n",
      "9.498634368473974 sandias_W_3 511\n",
      "10.684996103119799 sandias_W_4 512\n",
      "12.775304236347633 sandias_W_5 513\n",
      "10.726475072419577 sandias_W_6 514\n",
      "9.013761715462762 sandias_W_7 515\n",
      "10.153744752513223 sandias_W_8 516\n",
      "11.739618734948452 sandias_W_9 517\n",
      "16.318475614451007 santacruz_W_10 518\n",
      "17.989194184327253 santacruz_W_1 519\n",
      "15.350834038065772 santacruz_W_2 520\n",
      "13.129157761196092 santacruz_W_3 521\n",
      "18.361100786079103 santacruz_W_4 522\n",
      "12.53413641922348 santacruz_W_5 523\n",
      "10.916153000638461 santacruz_W_6 524\n",
      "12.722141638010225 santacruz_W_7 525\n",
      "6.986814646177196 santacruz_W_8 526\n",
      "13.606531251921776 santacruz_W_9 527\n",
      "14.826049689440994 santafe_W_10 528\n",
      "11.688007759014148 santafe_W_1 529\n",
      "8.426533912608212 santafe_W_2 530\n",
      "12.614952672101909 santafe_W_3 531\n",
      "16.966666740848883 santafe_W_4 532\n",
      "16.162885426439914 santafe_W_5 533\n",
      "11.839178308079827 santafe_W_6 534\n",
      "12.376807685465995 santafe_W_7 535\n",
      "10.965574990190456 santafe_W_8 536\n",
      "12.213695957243331 santafe_W_9 537\n",
      "13.445687277713208 stanton_W_10 538\n",
      "18.15498201082811 stanton_W_1 539\n",
      "14.078292718709195 stanton_W_2 540\n",
      "13.895960985874172 stanton_W_3 541\n",
      "15.450856661369176 stanton_W_4 542\n",
      "11.801709197245449 stanton_W_5 543\n",
      "10.991677355710783 stanton_W_6 544\n",
      "15.491720734322376 stanton_W_7 545\n",
      "9.104339829414164 stanton_W_8 546\n",
      "13.85428411110813 stanton_W_9 547\n",
      "18.481026352259214 taos_W_10 548\n",
      "18.20639677909147 taos_W_11 549\n",
      "29.064269301261067 taos_W_12 550\n",
      "22.738342587438094 taos_W_1 551\n",
      "24.683158231616822 taos_W_2 552\n",
      "24.256159610134766 taos_W_3 553\n",
      "31.262629136832405 taos_W_4 554\n",
      "22.935599575626973 taos_W_5 555\n",
      "16.45331135972614 taos_W_6 556\n",
      "19.739870993282953 taos_W_7 557\n",
      "28.145076652004068 taos_W_8 558\n",
      "14.584153598265674 taos_W_9 559\n",
      "10.783738004911326 threerivers_W_10 560\n",
      "14.861991984383895 threerivers_W_1 561\n",
      "13.94085036783558 threerivers_W_2 562\n",
      "14.960199511530002 threerivers_W_3 563\n",
      "15.662007164776153 threerivers_W_4 564\n",
      "20.38777923198811 threerivers_W_5 565\n",
      "14.547871304172878 threerivers_W_6 566\n",
      "14.589454567524172 threerivers_W_7 567\n",
      "16.03738101514792 threerivers_W_8 568\n",
      "10.929954201050672 threerivers_W_9 569\n",
      "24.70938450484586 tierra_W_10 570\n",
      "20.959966984769615 tierra_W_11 571\n",
      "20.46471953607024 tierra_W_12 572\n",
      "31.649017489315376 tierra_W_1 573\n",
      "22.030655126266264 tierra_W_2 574\n",
      "22.146888735639855 tierra_W_3 575\n",
      "30.460102433875797 tierra_W_4 576\n",
      "23.088465609305025 tierra_W_5 577\n",
      "29.81225222156898 tierra_W_6 578\n",
      "28.753781339322536 tierra_W_7 579\n",
      "26.51333263982027 tierra_W_8 580\n",
      "28.116706559556025 tierra_W_9 581\n",
      "16.119527216849036 tunnel_W_10 582\n",
      "24.17779816754426 tunnel_W_11 583\n",
      "17.931992903877582 tunnel_W_12 584\n",
      "27.205536046921413 tunnel_W_1 585\n",
      "28.341555283763906 tunnel_W_2 586\n",
      "14.021476430708491 tunnel_W_3 587\n",
      "17.599802195814146 tunnel_W_4 588\n",
      "21.200479590307 tunnel_W_5 589\n",
      "29.46713030248585 tunnel_W_6 590\n",
      "24.776175444221117 tunnel_W_7 591\n",
      "16.07901975292755 tunnel_W_8 592\n",
      "26.937147053609866 tunnel_W_9 593\n",
      "11.169228565972885 watercan_W_10 594\n",
      "11.775848622804242 watercan_W_1 595\n",
      "15.12143000810856 watercan_W_2 596\n",
      "11.229490717933395 watercan_W_3 597\n",
      "9.308606636277315 watercan_W_4 598\n",
      "12.907338856905664 watercan_W_5 599\n",
      "10.936758918892671 watercan_W_6 600\n",
      "12.257750090938629 watercan_W_7 601\n",
      "12.250699650507658 watercan_W_8 602\n",
      "10.478671857347788 watercan_W_9 603\n",
      "11.787343469280174 whitehills_W_1 604\n",
      "15.469429169791027 whitehills_W_2 605\n",
      "10.073194207836456 whitehills_W_3 606\n",
      "14.240222350216794 whitehills_W_4 607\n",
      "13.893630396669682 whitehills_W_5 608\n",
      "11.98912067727323 whitehills_W_6 609\n",
      "19.156577311040486 whitehills_W_7 610\n",
      "33.31562825367203 young_W_1 611\n",
      "17.597440905986613 young_W_2 612\n",
      "15.226816582468485 young_W_3 613\n",
      "20.341044107326336 young_W_4 614\n",
      "24.564104664265635 young_W_5 615\n",
      "22.466823447426666 ysidro_W_10 616\n",
      "25.59928594262005 ysidro_W_1 617\n",
      "21.43887097547527 ysidro_W_2 618\n",
      "20.079656181334155 ysidro_W_3 619\n",
      "18.599314635352844 ysidro_W_4 620\n",
      "20.535322846423192 ysidro_W_5 621\n",
      "22.125598922336202 ysidro_W_6 622\n",
      "18.43561537732366 ysidro_W_7 623\n",
      "23.914719293413377 ysidro_W_8 624\n",
      "21.626039867943433 ysidro_W_9 625\n"
     ]
    },
    {
     "ename": "TypeError",
     "evalue": "DataFrame.__init__() got an unexpected keyword argument 'bam'",
     "output_type": "error",
     "traceback": [
      "\u001b[0;31m---------------------------------------------------------------------------\u001b[0m",
      "\u001b[0;31mTypeError\u001b[0m                                 Traceback (most recent call last)",
      "Cell \u001b[0;32mIn[52], line 16\u001b[0m\n\u001b[1;32m     14\u001b[0m     cov_list\u001b[38;5;241m.\u001b[39mappend(coverage)\n\u001b[1;32m     15\u001b[0m     \u001b[38;5;28mprint\u001b[39m(coverage,name,i)\n\u001b[0;32m---> 16\u001b[0m cov_df \u001b[38;5;241m=\u001b[39m \u001b[43mpd\u001b[49m\u001b[38;5;241;43m.\u001b[39;49m\u001b[43mDataFrame\u001b[49m\u001b[43m(\u001b[49m\u001b[43mbam\u001b[49m\u001b[38;5;241;43m=\u001b[39;49m\u001b[43mbam_names\u001b[49m\u001b[43m,\u001b[49m\u001b[43mcoverage\u001b[49m\u001b[38;5;241;43m=\u001b[39;49m\u001b[43mcov_list\u001b[49m\u001b[43m)\u001b[49m\n\u001b[1;32m     17\u001b[0m cov_df\u001b[38;5;241m.\u001b[39mhead()\n",
      "\u001b[0;31mTypeError\u001b[0m: DataFrame.__init__() got an unexpected keyword argument 'bam'"
     ]
    }
   ],
   "source": [
    "bam_names = []\n",
    "cov_list = []\n",
    "for i in range(0,len(bam_files)):\n",
    "    bam = bam_files[i]\n",
    "    #print(bam)\n",
    "    b = bam.split('/')[9] #set this \n",
    "    #print (b)\n",
    "    !$samtools depth -a $b > $'cov.txt'\n",
    "    cov = pd.read_csv('cov.txt', sep=\"\\t\",header=None)\n",
    "    coverage = sum(cov.iloc[:,2])/len(cov.index)\n",
    "    name = b.split('_sorted.bam')[0]\n",
    "    #print(name)\n",
    "    bam_names.append(name)\n",
    "    cov_list.append(coverage)\n",
    "    print(coverage,name,i)\n",
    "cov_df = pd.DataFrame(bam=bam_names,coverage=cov_list)\n",
    "cov_df.head()"
   ]
  },
  {
   "cell_type": "code",
   "execution_count": 53,
   "metadata": {},
   "outputs": [
    {
     "data": {
      "text/html": [
       "<div>\n",
       "<style scoped>\n",
       "    .dataframe tbody tr th:only-of-type {\n",
       "        vertical-align: middle;\n",
       "    }\n",
       "\n",
       "    .dataframe tbody tr th {\n",
       "        vertical-align: top;\n",
       "    }\n",
       "\n",
       "    .dataframe thead th {\n",
       "        text-align: right;\n",
       "    }\n",
       "</style>\n",
       "<table border=\"1\" class=\"dataframe\">\n",
       "  <thead>\n",
       "    <tr style=\"text-align: right;\">\n",
       "      <th></th>\n",
       "      <th>bam</th>\n",
       "      <th>coverage</th>\n",
       "    </tr>\n",
       "  </thead>\n",
       "  <tbody>\n",
       "    <tr>\n",
       "      <th>0</th>\n",
       "      <td>SE10_F_10</td>\n",
       "      <td>16.451664</td>\n",
       "    </tr>\n",
       "    <tr>\n",
       "      <th>1</th>\n",
       "      <td>SE10_F_11</td>\n",
       "      <td>17.883784</td>\n",
       "    </tr>\n",
       "    <tr>\n",
       "      <th>2</th>\n",
       "      <td>SE10_F_12</td>\n",
       "      <td>18.102843</td>\n",
       "    </tr>\n",
       "    <tr>\n",
       "      <th>3</th>\n",
       "      <td>SE10_F_1</td>\n",
       "      <td>16.887808</td>\n",
       "    </tr>\n",
       "    <tr>\n",
       "      <th>4</th>\n",
       "      <td>SE10_F_2</td>\n",
       "      <td>13.565269</td>\n",
       "    </tr>\n",
       "  </tbody>\n",
       "</table>\n",
       "</div>"
      ],
      "text/plain": [
       "         bam   coverage\n",
       "0  SE10_F_10  16.451664\n",
       "1  SE10_F_11  17.883784\n",
       "2  SE10_F_12  18.102843\n",
       "3   SE10_F_1  16.887808\n",
       "4   SE10_F_2  13.565269"
      ]
     },
     "execution_count": 53,
     "metadata": {},
     "output_type": "execute_result"
    }
   ],
   "source": [
    "cov_dict = {\"bam\":bam_names,'coverage':cov_list}\n",
    "cov_df = pd.DataFrame(cov_dict)\n",
    "cov_df.head()"
   ]
  },
  {
   "cell_type": "code",
   "execution_count": 54,
   "metadata": {},
   "outputs": [],
   "source": [
    "cov_out = os.path.join(bwa_dir,'bam_coverage.csv')\n",
    "cov_df.to_csv(path_or_buf=cov_out)"
   ]
  },
  {
   "cell_type": "code",
   "execution_count": 55,
   "metadata": {
    "scrolled": true
   },
   "outputs": [
    {
     "data": {
      "text/plain": [
       "count    626.000000\n",
       "mean      17.164251\n",
       "std        6.862889\n",
       "min        5.222019\n",
       "25%       12.476745\n",
       "50%       15.329442\n",
       "75%       20.877304\n",
       "max       68.797780\n",
       "Name: coverage, dtype: float64"
      ]
     },
     "execution_count": 55,
     "metadata": {},
     "output_type": "execute_result"
    }
   ],
   "source": [
    "cov_df.coverage.describe()\n"
   ]
  },
  {
   "cell_type": "code",
   "execution_count": 56,
   "metadata": {},
   "outputs": [
    {
     "data": {
      "text/plain": [
       "626"
      ]
     },
     "execution_count": 56,
     "metadata": {},
     "output_type": "execute_result"
    }
   ],
   "source": [
    "len(cov_df.coverage)"
   ]
  },
  {
   "cell_type": "markdown",
   "metadata": {},
   "source": [
    "### Continue on to 4snpcalling"
   ]
  },
  {
   "cell_type": "code",
   "execution_count": null,
   "metadata": {},
   "outputs": [],
   "source": []
  }
 ],
 "metadata": {
  "kernelspec": {
   "display_name": "Python 3 (ipykernel)",
   "language": "python",
   "name": "python3"
  },
  "language_info": {
   "codemirror_mode": {
    "name": "ipython",
    "version": 3
   },
   "file_extension": ".py",
   "mimetype": "text/x-python",
   "name": "python",
   "nbconvert_exporter": "python",
   "pygments_lexer": "ipython3",
   "version": "3.11.0"
  }
 },
 "nbformat": 4,
 "nbformat_minor": 1
}
