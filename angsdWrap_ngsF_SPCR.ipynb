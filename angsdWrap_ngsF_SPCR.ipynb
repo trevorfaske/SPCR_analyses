{
 "cells": [
  {
   "cell_type": "markdown",
   "metadata": {},
   "source": [
    "# This is brief tutoral on install angsd-wrapper and running ngsF\n",
    "    This uses jahner's bighorn data as an example\n",
    "    Below lines should all be ran in the command line on pronghorn\n",
    "    This is setup to be ran on pronghorn with slurm. Could be modified "
   ]
  },
  {
   "cell_type": "markdown",
   "metadata": {},
   "source": [
    "# Create new conda environment"
   ]
  },
  {
   "cell_type": "markdown",
   "metadata": {},
   "source": [
    "`conda create -n angsdWrap`  \n",
    "`source activate angsdWrap`  \n",
    "`conda install -c anaconda gcc`  \n",
    "`conda install -c anaconda libgcc`  \n",
    "`conda install -c bioconda samtools`  "
   ]
  },
  {
   "cell_type": "markdown",
   "metadata": {},
   "source": [
    "# Install angsd-wrapper \n",
    "    https://github.com/ANGSD-wrapper/angsd-wrapper\n",
    "    \n",
    "    This should be done in a src directory in your preffered working directoty\n",
    "    for example: /data/gpfs/assoc/parchmanlab/tfaske/src"
   ]
  },
  {
   "cell_type": "markdown",
   "metadata": {},
   "source": [
    "`cd /PATH/src`\n",
    "\n",
    "`source activate angsdWrap` \n",
    "`git clone https://github.com/mojaveazure/angsd-wrapper.git`  \n",
    "`cd angsd-wrapper/`  \n",
    "`./angsd-wrapper setup dependencies` \n",
    "`source ~/.bash_profile`"
   ]
  },
  {
   "cell_type": "markdown",
   "metadata": {},
   "source": [
    "*if you get an gsl error....*"
   ]
  },
  {
   "cell_type": "markdown",
   "metadata": {},
   "source": [
    "try to install with conda  \n",
    "`conda install -c conda-forge gsl`"
   ]
  },
  {
   "cell_type": "markdown",
   "metadata": {},
   "source": [
    "if this does not work, add gsl install from source in parchmanlab association to ~/.bashrc"
   ]
  },
  {
   "cell_type": "markdown",
   "metadata": {},
   "source": [
    "add gsl  \n",
    "`export PATH=\"/data/gpfs/assoc/parchmanlab/src/gsl/bin:$PATH\"`\n",
    "\n",
    "add gsl LD lib path  \n",
    "`export LD_LIBRARY_PATH=\"/data/gpfs/assoc/parchmanlab/src/gsl/lib:$LD_LIBRARY_PATH\"  \n",
    "export CPATH=/data/gpfs/assoc/parchmanlab/src/gsl/include/  \n",
    "export LIBRARY_PATH=/data/gpfs/assoc/parchmanlab/src/gsl/lib/`"
   ]
  },
  {
   "cell_type": "markdown",
   "metadata": {},
   "source": [
    "After gsl is added to conda or ~/.bashrc, logout and log back in and repeat installation steps"
   ]
  },
  {
   "cell_type": "markdown",
   "metadata": {},
   "source": [
    "# Get necessary example files and additional shell scripts"
   ]
  },
  {
   "cell_type": "markdown",
   "metadata": {},
   "source": [
    "`cd PATH/src/angsd-wrapper/  \n",
    "source activate angsdWrap  \n",
    "./angsd-wrapper setup data`"
   ]
  },
  {
   "cell_type": "markdown",
   "metadata": {},
   "source": [
    "Get regions extractor shell script, explained later or on website"
   ]
  },
  {
   "cell_type": "markdown",
   "metadata": {},
   "source": [
    "`cd PATH/src/angsd-wrapper/  \n",
    "wget https://gist.githubusercontent.com/mojaveazure/d115bb25eeff3b2df9f9/raw/87d84bcd1a8e9f705d4b3b37639a50f0fd3e8e46/regionsExtracter.sh  \n",
    "chmod 755 regionsExtracter.sh`"
   ]
  },
  {
   "cell_type": "markdown",
   "metadata": {},
   "source": [
    "# Running ngsF\n",
    "    tutorial through angsd-wrapper: https://github.com/mojaveazure/angsd-wrapper/wiki/Inbreeding-Coefficients\n",
    "    OG: https://github.com/fgvieira/ngsF\n",
    "    \n",
    "    Below code can be ran using jupyter notebooks\n",
    "    \n",
    "    Main directory should have 2 directories: \n",
    "    bam_files -- containing individual bamfiles\n",
    "    assembly -- contains assembly\n",
    "    \n",
    "    The only thing a few things need to be changed in below scripts:\n",
    "    root_dir path, angsdWrap_dir, assembly files name, cpus, and various file names \n",
    "    "
   ]
  },
  {
   "cell_type": "code",
   "execution_count": 1,
   "metadata": {},
   "outputs": [],
   "source": [
    "import sys\n",
    "import ipyparallel as ipp\n",
    "import os, time\n",
    "import pandas as pd"
   ]
  },
  {
   "cell_type": "code",
   "execution_count": 2,
   "metadata": {},
   "outputs": [],
   "source": [
    "root_dir = '/data/gpfs/assoc/denovo/tfaske/rabbit/full/REDO'"
   ]
  },
  {
   "cell_type": "code",
   "execution_count": 3,
   "metadata": {},
   "outputs": [
    {
     "name": "stdout",
     "output_type": "stream",
     "text": [
      "/data/gpfs/assoc/denovo/tfaske/rabbit/full/REDO\n"
     ]
    }
   ],
   "source": [
    "cd $root_dir"
   ]
  },
  {
   "cell_type": "code",
   "execution_count": 4,
   "metadata": {},
   "outputs": [],
   "source": [
    "!mkdir angsd"
   ]
  },
  {
   "cell_type": "code",
   "execution_count": 5,
   "metadata": {},
   "outputs": [],
   "source": [
    "assembly_dir = os.path.join(root_dir,'assembly')\n",
    "angsd_dir = os.path.join(root_dir,'angsd')\n",
    "ngsF_dir = os.path.join(angsd_dir,'ngsF')\n",
    "bam_dir = os.path.join(angsd_dir,'bam_files')"
   ]
  },
  {
   "cell_type": "code",
   "execution_count": 6,
   "metadata": {},
   "outputs": [
    {
     "data": {
      "text/plain": [
       "'/data/gpfs/assoc/denovo/tfaske/rabbit/full/REDO/assembly/reference.fasta'"
      ]
     },
     "execution_count": 6,
     "metadata": {},
     "output_type": "execute_result"
    }
   ],
   "source": [
    "assembly = os.path.join(assembly_dir,'reference.fasta')\n",
    "assembly"
   ]
  },
  {
   "cell_type": "code",
   "execution_count": 7,
   "metadata": {},
   "outputs": [
    {
     "name": "stdout",
     "output_type": "stream",
     "text": [
      "/data/gpfs/assoc/denovo/tfaske/rabbit/full/REDO/angsd\n"
     ]
    }
   ],
   "source": [
    "cd $angsd_dir"
   ]
  },
  {
   "cell_type": "code",
   "execution_count": 8,
   "metadata": {},
   "outputs": [],
   "source": [
    "!mkdir ngsF"
   ]
  },
  {
   "cell_type": "code",
   "execution_count": 9,
   "metadata": {},
   "outputs": [],
   "source": [
    "!mkdir bam_files"
   ]
  },
  {
   "cell_type": "markdown",
   "metadata": {},
   "source": [
    "## Create bam_list file from indv file and move to bam_files dir"
   ]
  },
  {
   "cell_type": "code",
   "execution_count": 10,
   "metadata": {},
   "outputs": [
    {
     "data": {
      "text/html": [
       "<div>\n",
       "<style scoped>\n",
       "    .dataframe tbody tr th:only-of-type {\n",
       "        vertical-align: middle;\n",
       "    }\n",
       "\n",
       "    .dataframe tbody tr th {\n",
       "        vertical-align: top;\n",
       "    }\n",
       "\n",
       "    .dataframe thead th {\n",
       "        text-align: right;\n",
       "    }\n",
       "</style>\n",
       "<table border=\"1\" class=\"dataframe\">\n",
       "  <thead>\n",
       "    <tr style=\"text-align: right;\">\n",
       "      <th></th>\n",
       "      <th>All</th>\n",
       "    </tr>\n",
       "  </thead>\n",
       "  <tbody>\n",
       "    <tr>\n",
       "      <th>0</th>\n",
       "      <td>EN_AH_10</td>\n",
       "    </tr>\n",
       "    <tr>\n",
       "      <th>1</th>\n",
       "      <td>EN_AH_11</td>\n",
       "    </tr>\n",
       "    <tr>\n",
       "      <th>2</th>\n",
       "      <td>EN_AH_12</td>\n",
       "    </tr>\n",
       "    <tr>\n",
       "      <th>3</th>\n",
       "      <td>EN_AH_13</td>\n",
       "    </tr>\n",
       "    <tr>\n",
       "      <th>4</th>\n",
       "      <td>EN_AH_14</td>\n",
       "    </tr>\n",
       "  </tbody>\n",
       "</table>\n",
       "</div>"
      ],
      "text/plain": [
       "        All\n",
       "0  EN_AH_10\n",
       "1  EN_AH_11\n",
       "2  EN_AH_12\n",
       "3  EN_AH_13\n",
       "4  EN_AH_14"
      ]
     },
     "execution_count": 10,
     "metadata": {},
     "output_type": "execute_result"
    }
   ],
   "source": [
    "indv = pd.read_csv(\"../SNPcall/filtering/good_snps.recode.vcf.gz.012.indv\",header=None,names=['All'])\n",
    "indv.head()"
   ]
  },
  {
   "cell_type": "code",
   "execution_count": 11,
   "metadata": {},
   "outputs": [],
   "source": [
    "good_bams_dir = os.path.join(root_dir,'SNPcall/good_bams/')"
   ]
  },
  {
   "cell_type": "code",
   "execution_count": 12,
   "metadata": {},
   "outputs": [],
   "source": [
    "for a in indv['All']:\n",
    "    gb = good_bams_dir + a + '_sorted.bam*' \n",
    "    !cp $gb $bam_dir"
   ]
  },
  {
   "cell_type": "markdown",
   "metadata": {},
   "source": [
    "#### make bam_files list and reindex"
   ]
  },
  {
   "cell_type": "code",
   "execution_count": 13,
   "metadata": {},
   "outputs": [],
   "source": [
    "!find $bam_dir -name '*.bam' > ngsF/bam_list.txt"
   ]
  },
  {
   "cell_type": "code",
   "execution_count": 14,
   "metadata": {},
   "outputs": [],
   "source": [
    "bam_list = os.path.join(ngsF_dir,'bam_list.txt')"
   ]
  },
  {
   "cell_type": "code",
   "execution_count": 15,
   "metadata": {},
   "outputs": [
    {
     "name": "stdout",
     "output_type": "stream",
     "text": [
      "586\n",
      "586 /data/gpfs/assoc/denovo/tfaske/rabbit/full/REDO/angsd/ngsF/bam_list.txt\r\n"
     ]
    }
   ],
   "source": [
    "# make same length\n",
    "print(len(indv['All']))\n",
    "!wc -l $bam_list"
   ]
  },
  {
   "cell_type": "markdown",
   "metadata": {},
   "source": [
    "# Both assembly and bam files need to be indexed"
   ]
  },
  {
   "cell_type": "markdown",
   "metadata": {},
   "source": [
    "#### if needed:  \n",
    "reindex assembly with samtools (creates .fai file )  \n",
    "reindex bam files with samtools as well (creates .bai file )  "
   ]
  },
  {
   "cell_type": "code",
   "execution_count": 16,
   "metadata": {},
   "outputs": [],
   "source": [
    "!samtools faidx $assembly"
   ]
  },
  {
   "cell_type": "code",
   "execution_count": 17,
   "metadata": {},
   "outputs": [
    {
     "data": {
      "text/plain": [
       "(586,\n",
       " '/data/gpfs/assoc/denovo/tfaske/rabbit/full/REDO/angsd/bam_files/EN_CV_5_sorted.bam')"
      ]
     },
     "execution_count": 17,
     "metadata": {},
     "output_type": "execute_result"
    }
   ],
   "source": [
    "bam_files = !find $bam_dir -name '*sorted.bam'\n",
    "len(bam_files),bam_files[0]"
   ]
  },
  {
   "cell_type": "code",
   "execution_count": 18,
   "metadata": {},
   "outputs": [],
   "source": [
    "for bam in bam_files:\n",
    "    !samtools index $bam"
   ]
  },
  {
   "cell_type": "code",
   "execution_count": 19,
   "metadata": {},
   "outputs": [],
   "source": [
    "#checks and makes sure all were done\n",
    "bam_index = !find $bam_dir -name '*.bam'\n",
    "assert bam_files == bam_index"
   ]
  },
  {
   "cell_type": "markdown",
   "metadata": {},
   "source": [
    "# Designates contigs / chromosomes / scaffolds of interest for estimation\n",
    "    \n",
    "    If you have a genome, maybe restrict analyses to a set number of largest scaffolds or only chromosomes\n",
    "    Example file should look like\n",
    "    scaffold_1:\n",
    "    scaffold_2:\n",
    "    scaffold_3: \n",
    "    etc……\n",
    "    \n",
    "    For denovo, pick an artibutary number and run regionsExtractor.sh or run on all contigs. \n",
    "    Trimming down will increase computation time and should not change estimates "
   ]
  },
  {
   "cell_type": "markdown",
   "metadata": {},
   "source": [
    "   # Example of how to run regionsExtracter.sh\n",
    "   \n",
    "   # DID NOT DO!!! if *de novo*. Only if reference genome. \n",
    "   \n",
    "##./regionsExtracter.sh sample_info num_regions [out_directory] [out_name] [ref_gen]"
   ]
  },
  {
   "cell_type": "code",
   "execution_count": 14,
   "metadata": {},
   "outputs": [],
   "source": [
    "angsdWrap_dir = '/data/gpfs/home/tfaske/g/src/angsd-wrapper'\n",
    "regionsExt = os.path.join(angsdWrap_dir,'./regionsExtracter.sh')"
   ]
  },
  {
   "cell_type": "code",
   "execution_count": 15,
   "metadata": {},
   "outputs": [
    {
     "name": "stdout",
     "output_type": "stream",
     "text": [
      "/data/gpfs/assoc/denovo/tfaske/milkweed/angsd/ngsF\n"
     ]
    }
   ],
   "source": [
    "cd $ngsF_dir"
   ]
  },
  {
   "cell_type": "code",
   "execution_count": null,
   "metadata": {},
   "outputs": [],
   "source": [
    "contigs = 10000 ## number of randomly sampled contigs\n",
    "!$regionsExt $bam_list $contigs $ngsF_dir extractedRegions.txt $assembly"
   ]
  },
  {
   "cell_type": "markdown",
   "metadata": {},
   "source": [
    "# Example extractedRegions.txt with selected chromosomes"
   ]
  },
  {
   "cell_type": "code",
   "execution_count": 40,
   "metadata": {},
   "outputs": [],
   "source": [
    "extRegions_file = os.path.join(ngsF_dir,'extractedRegions.txt')"
   ]
  },
  {
   "cell_type": "code",
   "execution_count": 43,
   "metadata": {},
   "outputs": [
    {
     "name": "stdout",
     "output_type": "stream",
     "text": [
      "scaffold_1:\r\n",
      "scaffold_2:\r\n",
      "scaffold_3:\r\n",
      "scaffold_4:\r\n",
      "scaffold_5:\r\n",
      "scaffold_6:\r\n",
      "scaffold_7:\r\n",
      "scaffold_8:\r\n",
      "scaffold_9:\r\n",
      "scaffold_10:\r\n"
     ]
    }
   ],
   "source": [
    "!head $extRegions_file"
   ]
  },
  {
   "cell_type": "code",
   "execution_count": null,
   "metadata": {},
   "outputs": [],
   "source": [
    "!wc -l $extRegions_file"
   ]
  },
  {
   "cell_type": "markdown",
   "metadata": {},
   "source": [
    "# Copy config file to ngsF dir and change settings\n",
    "    confer with https://github.com/mojaveazure/angsd-wrapper/wiki/Inbreeding-Coefficient\n",
    "    \n",
    "    MAKE SURE N_CORES IS THE SAME AS REQUESTED IN SLURM"
   ]
  },
  {
   "cell_type": "code",
   "execution_count": null,
   "metadata": {},
   "outputs": [],
   "source": [
    "#!cp '/data/gpfs/assoc/denovo/src/angsd/Configuration_Files/Inbreeding_Coefficients_Config' $ngsF_dir"
   ]
  },
  {
   "cell_type": "code",
   "execution_count": 20,
   "metadata": {},
   "outputs": [],
   "source": [
    "#example \n",
    "config_file = os.path.join(ngsF_dir,'Inbreeding_Coefficients_Config')"
   ]
  },
  {
   "cell_type": "code",
   "execution_count": 21,
   "metadata": {},
   "outputs": [
    {
     "name": "stdout",
     "output_type": "stream",
     "text": [
      "#!/bin/bash\r\n",
      "\r\n",
      "set -e\r\n",
      "set -u\r\n",
      "set -o pipefail\r\n",
      "\r\n",
      "#   A simple script to hold variables for the NGS_F\r\n",
      "#   Are you using the Common_Config file?\r\n",
      "#       If so, where is it?\r\n",
      "COMMON=/data/gpfs/assoc/denovo/tfaske/rabbit/full/REDO/angsd/ngsF\r\n",
      "\r\n",
      "##############################################################################################\r\n",
      "#   If we aren't using the Common_Config file, specify these variables\r\n",
      "#   If Common_Config is specified, leave these blank\r\n",
      "#   Define a list of samples\r\n",
      "SAMPLE_LIST=/data/gpfs/assoc/denovo/tfaske/rabbit/full/REDO/angsd/ngsF/bam_list.txt\r\n",
      "\r\n",
      "#   Ancestral and Reference sequences\r\n",
      "ANC_SEQ=/data/gpfs/assoc/denovo/tfaske/rabbit/full/REDO/assembly/reference.fasta\r\n",
      "REF_SEQ=/data/gpfs/assoc/denovo/tfaske/rabbit/full/REDO/assembly/reference.fasta\r\n",
      "\r\n",
      "#   Name the project\r\n",
      "PROJECT=output\r\n",
      "\r\n",
      "#   Where do we put the outfiles?\r\n",
      "    #   Note, the final outdirectory will be\r\n",
      "    #   ${SCRATCH}/${PROJECT}/ngsF\r\n",
      "SCRATCH=/data/gpfs/assoc/denovo/tfaske/rabbit/full/REDO/angsd/ngsF\r\n",
      "\r\n",
      "#   Define the region being looked at\r\n",
      "#       Optional, but ANGSD is expensive to run without specifying regions to look at\r\n",
      "REGIONS=\r\n",
      "\r\n",
      "#   Parameters that are specified in Common_Config\r\n",
      "#       Set the minimum base quality\r\n",
      "MIN_BASEQUAL=20\r\n",
      "#       Calculate genotype likelihoods\r\n",
      "GT_LIKELIHOOD=1\r\n",
      "#       Set the minimum mapping quality for a base to be used\r\n",
      "MIN_MAPQ=30\r\n",
      "#       Set the minimum mapping quality for a base to be used\r\n",
      "N_CORES=32\r\n",
      "#       Determine major and minor alleles\r\n",
      "DO_MAJORMINOR=1\r\n",
      "#       Calculate allele frequencies\r\n",
      "DO_MAF=1\r\n",
      "\r\n",
      "##############################################################################################\r\n",
      "\r\n",
      "#   ngsF Parameters\r\n",
      "#       Listed below are the defaults, please modify for your samples\r\n",
      "#       Set the maximum p-value for polymorphic sites\r\n",
      "SNP_PVAL=1e-9\r\n",
      "#       Overwrite any previously generated results\r\n",
      "OVERRIDE=false\r\n",
      "#       Set the minimum root-mean-square deviation between to assume convergence\r\n",
      "MIN_EPSILON=1e-8\r\n",
      "#       Output genotype likelihood frequency file\r\n",
      "DO_GLF=3\r\n",
      "#       Set a seed value for creating approximate inbreeding coefficients\r\n",
      "#       Use the random number generator built into BASH\r\n",
      "SEED=$RANDOM\r\n"
     ]
    }
   ],
   "source": [
    "!cat $config_file"
   ]
  },
  {
   "cell_type": "markdown",
   "metadata": {},
   "source": [
    "# Run ngsF with slurm!\n",
    "\n",
    "    the below code with make a slurm script for you\n",
    "    \n",
    "    I recommend running it first through the command line and then kill it just to check if it works! \n",
    "    \n",
    "    cd PATH/ngsF\n",
    "    source activate angsdWrap\n",
    "    angsd-wrapper Inbreeding Inbreeding_Coefficients_Config"
   ]
  },
  {
   "cell_type": "markdown",
   "metadata": {},
   "source": [
    "Things you should need to change:\n",
    "root_dir, angsdWrap, cpus, email, account, part "
   ]
  },
  {
   "cell_type": "code",
   "execution_count": 22,
   "metadata": {},
   "outputs": [
    {
     "name": "stdout",
     "output_type": "stream",
     "text": [
      "/data/gpfs/assoc/denovo/tfaske/rabbit/full/REDO/angsd/ngsF\n"
     ]
    }
   ],
   "source": [
    "cd $ngsF_dir"
   ]
  },
  {
   "cell_type": "code",
   "execution_count": 23,
   "metadata": {},
   "outputs": [],
   "source": [
    "angsdWrap = '/data/gpfs/assoc/parchmanlab/tfaske/src/angsd-wrapper/./angsd-wrapper' #MAKE SURE YOU USE FULL PATH (no symbolic links)\n",
    "ntasks = 2\n",
    "cpus = 32\n",
    "time = '14-00:00:00'\n",
    "mem_cpu = 4000\n",
    "email = 'tfaske@nevada.unr.edu'\n",
    "account = 'cpu-s5-denovo-0'\n",
    "part = 'cpu-core-0'"
   ]
  },
  {
   "cell_type": "code",
   "execution_count": 24,
   "metadata": {},
   "outputs": [],
   "source": [
    "def write_ngsF_sh(account,part,ntasks,cpus,time,mem_cpu,email,ngsF_dir,angsdWrap,config_file):\n",
    "    with open(\"run_ngsF.sh\", \"w\") as o:\n",
    "        o.write(\"\"\"#!/usr/bin/env bash\n",
    "#SBATCH --account=%s\n",
    "#SBATCH --partition=%s\n",
    "#SBATCH --time=%s\n",
    "#SBATCH --ntasks %d\n",
    "#SBATCH --cpus-per-task %d\n",
    "#SBATCH --mem-per-cpu=%d\n",
    "#SBATCH --job-name ngsF\n",
    "#SBATCH --output output_ngsF.txt\n",
    "#SBATCH --mail-type=END\n",
    "#SBATCH --mail-user=%s\n",
    "\n",
    "## change into the ngsF directory\n",
    "cd %s \\n\\n\"\"\" % (account,part,time,ntasks,cpus,mem_cpu,email,ngsF_dir))\n",
    "\n",
    "        #angsd-wrapper Inbreeding Inbreeding_Coefficients_Config\n",
    "        o.write(\"\"\"%s Inbreeding %s\"\"\"% (angsdWrap,config_file))"
   ]
  },
  {
   "cell_type": "code",
   "execution_count": 25,
   "metadata": {},
   "outputs": [],
   "source": [
    "write_ngsF_sh(account,part,ntasks,cpus,time,mem_cpu,email,ngsF_dir,angsdWrap,config_file)"
   ]
  },
  {
   "cell_type": "markdown",
   "metadata": {},
   "source": [
    "# run in command line \n",
    "    cd PATH/ngsF\n",
    "    source activate angsdWrap\n",
    "    sbatch run_ngsF.sh"
   ]
  },
  {
   "cell_type": "code",
   "execution_count": null,
   "metadata": {},
   "outputs": [],
   "source": []
  }
 ],
 "metadata": {
  "kernelspec": {
   "display_name": "Python 3 (ipykernel)",
   "language": "python",
   "name": "python3"
  },
  "language_info": {
   "codemirror_mode": {
    "name": "ipython",
    "version": 3
   },
   "file_extension": ".py",
   "mimetype": "text/x-python",
   "name": "python",
   "nbconvert_exporter": "python",
   "pygments_lexer": "ipython3",
   "version": "3.11.0"
  }
 },
 "nbformat": 4,
 "nbformat_minor": 1
}
